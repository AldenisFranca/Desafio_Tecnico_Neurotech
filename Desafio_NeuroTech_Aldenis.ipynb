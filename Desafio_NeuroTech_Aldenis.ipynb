{
  "nbformat": 4,
  "nbformat_minor": 0,
  "metadata": {
    "accelerator": "GPU",
    "colab": {
      "name": "Desafio_NeuroTech_Aldenis.ipynb",
      "provenance": [],
      "collapsed_sections": [
        "pL9dCAdfDYRA",
        "8SOruI-ADeKj",
        "ZOe2h6_6exJC",
        "erE4xcsafWga",
        "TljPpD04flKH",
        "Ota1itQejzdp",
        "A7pPodyFgLE2",
        "E_l35R2SGfjS",
        "x9oh7EfSLzwT",
        "Ru02nlU72B6_",
        "ouu4OuvrF4Xv"
      ],
      "machine_shape": "hm"
    },
    "kernelspec": {
      "display_name": "Python 3",
      "name": "python3"
    },
    "language_info": {
      "name": "python"
    }
  },
  "cells": [
    {
      "cell_type": "markdown",
      "metadata": {
        "id": "UDrzv8M_C-RG"
      },
      "source": [
        "#Case - Engenharia de Dados - NEUROTECH\n",
        "\n",
        "###Candidato: Aldenis Everton Alves Guilherme de França"
      ]
    },
    {
      "cell_type": "markdown",
      "metadata": {
        "id": "pL9dCAdfDYRA"
      },
      "source": [
        "###Importação de Bibliotecas"
      ]
    },
    {
      "cell_type": "code",
      "metadata": {
        "id": "dENffptn_aGd"
      },
      "source": [
        "# Bibliotecas para modelagem de dados\n",
        "import pandas as pd\n",
        "import numpy as np\n",
        "import glob\n",
        "\n",
        "# Bibliotecas para análises gráficas\n",
        "import matplotlib.pyplot as plt\n",
        "import seaborn as sns\n",
        "\n",
        "# Bibliotecas/classes para tratamento dos dados categóricos\n",
        "from sklearn.preprocessing import LabelEncoder\n",
        "from sklearn.preprocessing import OneHotEncoder\n",
        "\n",
        "# Bibliotecas/classes para normalização dos dados\n",
        "from sklearn.preprocessing import MinMaxScaler\n",
        "from sklearn.preprocessing import Normalizer\n",
        "from sklearn.preprocessing import StandardScaler\n",
        "from sklearn.preprocessing import RobustScaler "
      ],
      "execution_count": 1,
      "outputs": []
    },
    {
      "cell_type": "markdown",
      "metadata": {
        "id": "8SOruI-ADeKj"
      },
      "source": [
        "###Importação da Base de Dados"
      ]
    },
    {
      "cell_type": "code",
      "metadata": {
        "colab": {
          "base_uri": "https://localhost:8080/"
        },
        "id": "UoU0zpuXqkXR",
        "outputId": "01b2785d-cc98-449b-f44f-42f4630a6f58"
      },
      "source": [
        "# Leitura e concatenação das 648 planilhas da base de dados.\n",
        "\n",
        "path = r'drive/MyDrive/Desafio_NeuroTech'\n",
        "files_cons = glob.glob(path + '/*CONS.csv')\n",
        "files_det = glob.glob(path + '/*DET.csv')\n",
        "\n",
        "list_cons = []\n",
        "list_det = []\n",
        "\n",
        "for i in files_cons:\n",
        "  dataset_cons = pd.read_csv(i, sep=',', header=0, encoding='ISO-8859-1')\n",
        "  list_cons.append(dataset_cons)\n",
        "\n",
        "for j in files_det:\n",
        "  dataset_det = pd.read_csv(j, sep=',', header=0, encoding='ISO-8859-1')\n",
        "  list_det.append(dataset_det)\n",
        "\n",
        "df_cons = pd.concat(list_cons, axis=0, ignore_index=True)\n",
        "df_det = pd.concat(list_det, axis=0, ignore_index=True)"
      ],
      "execution_count": 2,
      "outputs": [
        {
          "output_type": "stream",
          "name": "stderr",
          "text": [
            "/usr/local/lib/python3.7/dist-packages/IPython/core/interactiveshell.py:2718: DtypeWarning: Columns (19) have mixed types.Specify dtype option on import or set low_memory=False.\n",
            "  interactivity=interactivity, compiler=compiler, result=result)\n",
            "/usr/local/lib/python3.7/dist-packages/IPython/core/interactiveshell.py:2718: DtypeWarning: Columns (18) have mixed types.Specify dtype option on import or set low_memory=False.\n",
            "  interactivity=interactivity, compiler=compiler, result=result)\n",
            "/usr/local/lib/python3.7/dist-packages/IPython/core/interactiveshell.py:2718: DtypeWarning: Columns (18,19) have mixed types.Specify dtype option on import or set low_memory=False.\n",
            "  interactivity=interactivity, compiler=compiler, result=result)\n"
          ]
        }
      ]
    },
    {
      "cell_type": "markdown",
      "metadata": {
        "id": "ZOe2h6_6exJC"
      },
      "source": [
        "###Construção da Tabela Única"
      ]
    },
    {
      "cell_type": "code",
      "metadata": {
        "id": "K5KrqGR-oEWp"
      },
      "source": [
        "# Integração dos dados das tabelas CONS e DET.\n",
        "df_completo = pd.merge(df_det, df_cons, how='left', on=['#ID_EVENTO','UF_PRESTADOR','LG_OUTLIER'])"
      ],
      "execution_count": 5,
      "outputs": []
    },
    {
      "cell_type": "markdown",
      "metadata": {
        "id": "erE4xcsafWga"
      },
      "source": [
        "###Análise Exploratória dos Dados"
      ]
    },
    {
      "cell_type": "markdown",
      "metadata": {
        "id": "TljPpD04flKH"
      },
      "source": [
        "#####Dimensão dos Dados"
      ]
    },
    {
      "cell_type": "code",
      "metadata": {
        "colab": {
          "base_uri": "https://localhost:8080/"
        },
        "id": "Vj7j04qxEKsy",
        "outputId": "d4453278-31bd-4201-b4d6-05b234c02686"
      },
      "source": [
        "# Especificação do número de linhas e colunas da tabela consolidada.\n",
        "print(f'QUANTIDADE DE LINHAS: {df_completo.shape[0]}\\n')\n",
        "print(f'QUANTIDADE DE COLUNAS: {df_completo.shape[1]}')"
      ],
      "execution_count": 4,
      "outputs": [
        {
          "output_type": "stream",
          "name": "stdout",
          "text": [
            "QUANTIDADE DE LINHAS: 34445720\n",
            "\n",
            "QUANTIDADE DE COLUNAS: 32\n"
          ]
        }
      ]
    },
    {
      "cell_type": "markdown",
      "metadata": {
        "id": "Ota1itQejzdp"
      },
      "source": [
        "#####Apresentação dos Dados"
      ]
    },
    {
      "cell_type": "code",
      "metadata": {
        "colab": {
          "base_uri": "https://localhost:8080/",
          "height": 292
        },
        "id": "UV-GXYZUj5df",
        "outputId": "0af9e83c-9f37-4122-ad8d-9e02492946d6"
      },
      "source": [
        "# Visualização parcial da tabela consolidada.\n",
        "df_completo.head()"
      ],
      "execution_count": 5,
      "outputs": [
        {
          "output_type": "execute_result",
          "data": {
            "text/html": [
              "<div>\n",
              "<style scoped>\n",
              "    .dataframe tbody tr th:only-of-type {\n",
              "        vertical-align: middle;\n",
              "    }\n",
              "\n",
              "    .dataframe tbody tr th {\n",
              "        vertical-align: top;\n",
              "    }\n",
              "\n",
              "    .dataframe thead th {\n",
              "        text-align: right;\n",
              "    }\n",
              "</style>\n",
              "<table border=\"1\" class=\"dataframe\">\n",
              "  <thead>\n",
              "    <tr style=\"text-align: right;\">\n",
              "      <th></th>\n",
              "      <th>#ID_EVENTO</th>\n",
              "      <th>CD_TUSS_PROCEDIMENTO</th>\n",
              "      <th>QT_PROCEDIMENTO</th>\n",
              "      <th>VL_PROCEDIMENTO</th>\n",
              "      <th>VL_PAGO_FORNECEDOR</th>\n",
              "      <th>CD_TABELA_REFERENCIA</th>\n",
              "      <th>LG_PACOTE</th>\n",
              "      <th>IND_TABELA_PROPRIA</th>\n",
              "      <th>DT_INICIO_EVENTO</th>\n",
              "      <th>UF_PRESTADOR</th>\n",
              "      <th>LG_OUTLIER</th>\n",
              "      <th>ID_PLANO</th>\n",
              "      <th>IDADE_BENEFICIARIO</th>\n",
              "      <th>SEXO_BENEFICIARIO</th>\n",
              "      <th>CD_MUNIC_BENEFICIARIO</th>\n",
              "      <th>PORTE_OPERADORA</th>\n",
              "      <th>CD_MODALIDADE_OPERADORA</th>\n",
              "      <th>MODALIDADE_OPERADORA</th>\n",
              "      <th>CD_MUNIC_PRESTADOR</th>\n",
              "      <th>DT_INTERNACAO</th>\n",
              "      <th>DT_SAIDA_INTERNACAO</th>\n",
              "      <th>CARATER_ATENDIMENTO</th>\n",
              "      <th>TIPO_INTERNACAO</th>\n",
              "      <th>REGIME_INTERNACAO</th>\n",
              "      <th>MOTIVO_ENCERRAMENTO</th>\n",
              "      <th>CID_1</th>\n",
              "      <th>CID_2</th>\n",
              "      <th>CID_3</th>\n",
              "      <th>CID_4</th>\n",
              "      <th>NR_DIARIAS_ACOMPANHANTE</th>\n",
              "      <th>NR_DIARIAS_UTI</th>\n",
              "      <th>LG_VALOR_PREESTABELECIDO</th>\n",
              "    </tr>\n",
              "  </thead>\n",
              "  <tbody>\n",
              "    <tr>\n",
              "      <th>0</th>\n",
              "      <td>2734762035</td>\n",
              "      <td>031</td>\n",
              "      <td>4.0</td>\n",
              "      <td>429.96</td>\n",
              "      <td>0.0</td>\n",
              "      <td>63</td>\n",
              "      <td>0</td>\n",
              "      <td>0</td>\n",
              "      <td>01/07/2019</td>\n",
              "      <td>AL</td>\n",
              "      <td>0</td>\n",
              "      <td>117789.0</td>\n",
              "      <td>44.0</td>\n",
              "      <td>M</td>\n",
              "      <td>270430.0</td>\n",
              "      <td>GRANDE</td>\n",
              "      <td>28.0</td>\n",
              "      <td>Seguradora Especializada Em Saúde</td>\n",
              "      <td>270430.0</td>\n",
              "      <td>01/07/2019</td>\n",
              "      <td>01/07/2019</td>\n",
              "      <td>1</td>\n",
              "      <td>2.0</td>\n",
              "      <td>1.0</td>\n",
              "      <td>12.0</td>\n",
              "      <td>NaN</td>\n",
              "      <td>NaN</td>\n",
              "      <td>NaN</td>\n",
              "      <td>NaN</td>\n",
              "      <td>0.0</td>\n",
              "      <td>0.0</td>\n",
              "      <td>0.0</td>\n",
              "    </tr>\n",
              "    <tr>\n",
              "      <th>1</th>\n",
              "      <td>3084104673</td>\n",
              "      <td>10103023</td>\n",
              "      <td>1.0</td>\n",
              "      <td>282.56</td>\n",
              "      <td>0.0</td>\n",
              "      <td>22</td>\n",
              "      <td>0</td>\n",
              "      <td>0</td>\n",
              "      <td>01/07/2019</td>\n",
              "      <td>AL</td>\n",
              "      <td>0</td>\n",
              "      <td>124053.0</td>\n",
              "      <td>34.0</td>\n",
              "      <td>F</td>\n",
              "      <td>230440.0</td>\n",
              "      <td>GRANDE</td>\n",
              "      <td>28.0</td>\n",
              "      <td>Seguradora Especializada Em Saúde</td>\n",
              "      <td>270730.0</td>\n",
              "      <td>01/07/2019</td>\n",
              "      <td>03/07/2019</td>\n",
              "      <td>2</td>\n",
              "      <td>3.0</td>\n",
              "      <td>1.0</td>\n",
              "      <td>11.0</td>\n",
              "      <td>O420</td>\n",
              "      <td>NaN</td>\n",
              "      <td>NaN</td>\n",
              "      <td>NaN</td>\n",
              "      <td>0.0</td>\n",
              "      <td>0.0</td>\n",
              "      <td>0.0</td>\n",
              "    </tr>\n",
              "    <tr>\n",
              "      <th>2</th>\n",
              "      <td>2788329148</td>\n",
              "      <td>029</td>\n",
              "      <td>83.0</td>\n",
              "      <td>563.74</td>\n",
              "      <td>0.0</td>\n",
              "      <td>63</td>\n",
              "      <td>0</td>\n",
              "      <td>0</td>\n",
              "      <td>01/07/2019</td>\n",
              "      <td>AL</td>\n",
              "      <td>0</td>\n",
              "      <td>94973.0</td>\n",
              "      <td>43.0</td>\n",
              "      <td>F</td>\n",
              "      <td>270430.0</td>\n",
              "      <td>GRANDE</td>\n",
              "      <td>22.0</td>\n",
              "      <td>Cooperativa Médica</td>\n",
              "      <td>270430.0</td>\n",
              "      <td>01/07/2019</td>\n",
              "      <td>01/07/2019</td>\n",
              "      <td>1</td>\n",
              "      <td>2.0</td>\n",
              "      <td>1.0</td>\n",
              "      <td>12.0</td>\n",
              "      <td>NaN</td>\n",
              "      <td>NaN</td>\n",
              "      <td>NaN</td>\n",
              "      <td>NaN</td>\n",
              "      <td>0.0</td>\n",
              "      <td>0.0</td>\n",
              "      <td>0.0</td>\n",
              "    </tr>\n",
              "    <tr>\n",
              "      <th>3</th>\n",
              "      <td>2788329148</td>\n",
              "      <td>030</td>\n",
              "      <td>23.0</td>\n",
              "      <td>220.20</td>\n",
              "      <td>0.0</td>\n",
              "      <td>63</td>\n",
              "      <td>0</td>\n",
              "      <td>0</td>\n",
              "      <td>01/07/2019</td>\n",
              "      <td>AL</td>\n",
              "      <td>0</td>\n",
              "      <td>94973.0</td>\n",
              "      <td>43.0</td>\n",
              "      <td>F</td>\n",
              "      <td>270430.0</td>\n",
              "      <td>GRANDE</td>\n",
              "      <td>22.0</td>\n",
              "      <td>Cooperativa Médica</td>\n",
              "      <td>270430.0</td>\n",
              "      <td>01/07/2019</td>\n",
              "      <td>01/07/2019</td>\n",
              "      <td>1</td>\n",
              "      <td>2.0</td>\n",
              "      <td>1.0</td>\n",
              "      <td>12.0</td>\n",
              "      <td>NaN</td>\n",
              "      <td>NaN</td>\n",
              "      <td>NaN</td>\n",
              "      <td>NaN</td>\n",
              "      <td>0.0</td>\n",
              "      <td>0.0</td>\n",
              "      <td>0.0</td>\n",
              "    </tr>\n",
              "    <tr>\n",
              "      <th>4</th>\n",
              "      <td>2788329148</td>\n",
              "      <td>031</td>\n",
              "      <td>3.0</td>\n",
              "      <td>490.57</td>\n",
              "      <td>0.0</td>\n",
              "      <td>63</td>\n",
              "      <td>0</td>\n",
              "      <td>0</td>\n",
              "      <td>01/07/2019</td>\n",
              "      <td>AL</td>\n",
              "      <td>1</td>\n",
              "      <td>NaN</td>\n",
              "      <td>NaN</td>\n",
              "      <td>NaN</td>\n",
              "      <td>NaN</td>\n",
              "      <td>NaN</td>\n",
              "      <td>NaN</td>\n",
              "      <td>NaN</td>\n",
              "      <td>NaN</td>\n",
              "      <td>NaN</td>\n",
              "      <td>NaN</td>\n",
              "      <td>NaN</td>\n",
              "      <td>NaN</td>\n",
              "      <td>NaN</td>\n",
              "      <td>NaN</td>\n",
              "      <td>NaN</td>\n",
              "      <td>NaN</td>\n",
              "      <td>NaN</td>\n",
              "      <td>NaN</td>\n",
              "      <td>NaN</td>\n",
              "      <td>NaN</td>\n",
              "      <td>NaN</td>\n",
              "    </tr>\n",
              "  </tbody>\n",
              "</table>\n",
              "</div>"
            ],
            "text/plain": [
              "   #ID_EVENTO CD_TUSS_PROCEDIMENTO  ...  NR_DIARIAS_UTI  LG_VALOR_PREESTABELECIDO\n",
              "0  2734762035                  031  ...             0.0                       0.0\n",
              "1  3084104673             10103023  ...             0.0                       0.0\n",
              "2  2788329148                  029  ...             0.0                       0.0\n",
              "3  2788329148                  030  ...             0.0                       0.0\n",
              "4  2788329148                  031  ...             NaN                       NaN\n",
              "\n",
              "[5 rows x 32 columns]"
            ]
          },
          "metadata": {},
          "execution_count": 5
        }
      ]
    },
    {
      "cell_type": "code",
      "metadata": {
        "colab": {
          "base_uri": "https://localhost:8080/"
        },
        "id": "5_EcYDqhWxLp",
        "outputId": "cf91987f-601b-47da-829b-de268aa49a42"
      },
      "source": [
        "# Nomes das colunas da base consolidada.\n",
        "df_completo.columns"
      ],
      "execution_count": 6,
      "outputs": [
        {
          "output_type": "execute_result",
          "data": {
            "text/plain": [
              "Index(['#ID_EVENTO', 'CD_TUSS_PROCEDIMENTO', 'QT_PROCEDIMENTO',\n",
              "       'VL_PROCEDIMENTO', 'VL_PAGO_FORNECEDOR', 'CD_TABELA_REFERENCIA',\n",
              "       'LG_PACOTE', 'IND_TABELA_PROPRIA', 'DT_INICIO_EVENTO', 'UF_PRESTADOR',\n",
              "       'LG_OUTLIER', 'ID_PLANO', 'IDADE_BENEFICIARIO', 'SEXO_BENEFICIARIO',\n",
              "       'CD_MUNIC_BENEFICIARIO', 'PORTE_OPERADORA', 'CD_MODALIDADE_OPERADORA',\n",
              "       'MODALIDADE_OPERADORA', 'CD_MUNIC_PRESTADOR', 'DT_INTERNACAO',\n",
              "       'DT_SAIDA_INTERNACAO', 'CARATER_ATENDIMENTO', 'TIPO_INTERNACAO',\n",
              "       'REGIME_INTERNACAO', 'MOTIVO_ENCERRAMENTO', 'CID_1', 'CID_2', 'CID_3',\n",
              "       'CID_4', 'NR_DIARIAS_ACOMPANHANTE', 'NR_DIARIAS_UTI',\n",
              "       'LG_VALOR_PREESTABELECIDO'],\n",
              "      dtype='object')"
            ]
          },
          "metadata": {},
          "execution_count": 6
        }
      ]
    },
    {
      "cell_type": "markdown",
      "metadata": {
        "id": "A7pPodyFgLE2"
      },
      "source": [
        "#####Informações Estatísticas dos Dados"
      ]
    },
    {
      "cell_type": "code",
      "metadata": {
        "colab": {
          "base_uri": "https://localhost:8080/",
          "height": 565
        },
        "id": "W-d8rC9jTbI1",
        "outputId": "45201651-950c-473b-9733-1e302419bf93"
      },
      "source": [
        "# Métricas estatísticas da tabela CONS.\n",
        "df_cons.describe(percentiles = [.1,.2,.25,.3,.4,.5,.6,.7,.75,.8,.9])"
      ],
      "execution_count": 7,
      "outputs": [
        {
          "output_type": "execute_result",
          "data": {
            "text/html": [
              "<div>\n",
              "<style scoped>\n",
              "    .dataframe tbody tr th:only-of-type {\n",
              "        vertical-align: middle;\n",
              "    }\n",
              "\n",
              "    .dataframe tbody tr th {\n",
              "        vertical-align: top;\n",
              "    }\n",
              "\n",
              "    .dataframe thead th {\n",
              "        text-align: right;\n",
              "    }\n",
              "</style>\n",
              "<table border=\"1\" class=\"dataframe\">\n",
              "  <thead>\n",
              "    <tr style=\"text-align: right;\">\n",
              "      <th></th>\n",
              "      <th>#ID_EVENTO</th>\n",
              "      <th>ID_PLANO</th>\n",
              "      <th>IDADE_BENEFICIARIO</th>\n",
              "      <th>CD_MUNIC_BENEFICIARIO</th>\n",
              "      <th>CD_MODALIDADE_OPERADORA</th>\n",
              "      <th>CD_MUNIC_PRESTADOR</th>\n",
              "      <th>TIPO_INTERNACAO</th>\n",
              "      <th>REGIME_INTERNACAO</th>\n",
              "      <th>MOTIVO_ENCERRAMENTO</th>\n",
              "      <th>NR_DIARIAS_ACOMPANHANTE</th>\n",
              "      <th>NR_DIARIAS_UTI</th>\n",
              "      <th>LG_VALOR_PREESTABELECIDO</th>\n",
              "      <th>LG_OUTLIER</th>\n",
              "    </tr>\n",
              "  </thead>\n",
              "  <tbody>\n",
              "    <tr>\n",
              "      <th>count</th>\n",
              "      <td>5.291128e+06</td>\n",
              "      <td>5.291128e+06</td>\n",
              "      <td>5.186012e+06</td>\n",
              "      <td>5.185041e+06</td>\n",
              "      <td>5.291128e+06</td>\n",
              "      <td>5.291128e+06</td>\n",
              "      <td>5.288671e+06</td>\n",
              "      <td>5.226616e+06</td>\n",
              "      <td>5.290273e+06</td>\n",
              "      <td>5.291128e+06</td>\n",
              "      <td>5.291128e+06</td>\n",
              "      <td>5.291128e+06</td>\n",
              "      <td>5.291128e+06</td>\n",
              "    </tr>\n",
              "    <tr>\n",
              "      <th>mean</th>\n",
              "      <td>2.714592e+09</td>\n",
              "      <td>9.145680e+04</td>\n",
              "      <td>4.787002e+01</td>\n",
              "      <td>3.445989e+05</td>\n",
              "      <td>2.389106e+01</td>\n",
              "      <td>3.460517e+05</td>\n",
              "      <td>1.832813e+00</td>\n",
              "      <td>1.145174e+00</td>\n",
              "      <td>1.658657e+01</td>\n",
              "      <td>1.152586e-01</td>\n",
              "      <td>2.268146e-01</td>\n",
              "      <td>4.857376e-03</td>\n",
              "      <td>4.190316e-02</td>\n",
              "    </tr>\n",
              "    <tr>\n",
              "      <th>std</th>\n",
              "      <td>2.001352e+08</td>\n",
              "      <td>8.130979e+04</td>\n",
              "      <td>2.432759e+01</td>\n",
              "      <td>7.935518e+04</td>\n",
              "      <td>1.808672e+00</td>\n",
              "      <td>7.916461e+04</td>\n",
              "      <td>9.872537e-01</td>\n",
              "      <td>4.226704e-01</td>\n",
              "      <td>1.129493e+01</td>\n",
              "      <td>1.244336e+00</td>\n",
              "      <td>2.914723e+00</td>\n",
              "      <td>6.952541e-02</td>\n",
              "      <td>2.003679e-01</td>\n",
              "    </tr>\n",
              "    <tr>\n",
              "      <th>min</th>\n",
              "      <td>2.191282e+09</td>\n",
              "      <td>3.000000e+00</td>\n",
              "      <td>0.000000e+00</td>\n",
              "      <td>1.100000e+05</td>\n",
              "      <td>2.200000e+01</td>\n",
              "      <td>1.100010e+05</td>\n",
              "      <td>1.000000e+00</td>\n",
              "      <td>1.000000e+00</td>\n",
              "      <td>1.000000e+00</td>\n",
              "      <td>0.000000e+00</td>\n",
              "      <td>0.000000e+00</td>\n",
              "      <td>0.000000e+00</td>\n",
              "      <td>0.000000e+00</td>\n",
              "    </tr>\n",
              "    <tr>\n",
              "      <th>10%</th>\n",
              "      <td>2.440204e+09</td>\n",
              "      <td>2.218400e+04</td>\n",
              "      <td>1.600000e+01</td>\n",
              "      <td>2.408100e+05</td>\n",
              "      <td>2.200000e+01</td>\n",
              "      <td>2.504000e+05</td>\n",
              "      <td>1.000000e+00</td>\n",
              "      <td>1.000000e+00</td>\n",
              "      <td>1.100000e+01</td>\n",
              "      <td>0.000000e+00</td>\n",
              "      <td>0.000000e+00</td>\n",
              "      <td>0.000000e+00</td>\n",
              "      <td>0.000000e+00</td>\n",
              "    </tr>\n",
              "    <tr>\n",
              "      <th>20%</th>\n",
              "      <td>2.524140e+09</td>\n",
              "      <td>4.111400e+04</td>\n",
              "      <td>2.800000e+01</td>\n",
              "      <td>2.927400e+05</td>\n",
              "      <td>2.200000e+01</td>\n",
              "      <td>2.927400e+05</td>\n",
              "      <td>1.000000e+00</td>\n",
              "      <td>1.000000e+00</td>\n",
              "      <td>1.200000e+01</td>\n",
              "      <td>0.000000e+00</td>\n",
              "      <td>0.000000e+00</td>\n",
              "      <td>0.000000e+00</td>\n",
              "      <td>0.000000e+00</td>\n",
              "    </tr>\n",
              "    <tr>\n",
              "      <th>25%</th>\n",
              "      <td>2.560969e+09</td>\n",
              "      <td>5.380500e+04</td>\n",
              "      <td>3.100000e+01</td>\n",
              "      <td>3.118600e+05</td>\n",
              "      <td>2.200000e+01</td>\n",
              "      <td>3.120900e+05</td>\n",
              "      <td>1.000000e+00</td>\n",
              "      <td>1.000000e+00</td>\n",
              "      <td>1.200000e+01</td>\n",
              "      <td>0.000000e+00</td>\n",
              "      <td>0.000000e+00</td>\n",
              "      <td>0.000000e+00</td>\n",
              "      <td>0.000000e+00</td>\n",
              "    </tr>\n",
              "    <tr>\n",
              "      <th>30%</th>\n",
              "      <td>2.595700e+09</td>\n",
              "      <td>6.158800e+04</td>\n",
              "      <td>3.300000e+01</td>\n",
              "      <td>3.170100e+05</td>\n",
              "      <td>2.200000e+01</td>\n",
              "      <td>3.170200e+05</td>\n",
              "      <td>1.000000e+00</td>\n",
              "      <td>1.000000e+00</td>\n",
              "      <td>1.200000e+01</td>\n",
              "      <td>0.000000e+00</td>\n",
              "      <td>0.000000e+00</td>\n",
              "      <td>0.000000e+00</td>\n",
              "      <td>0.000000e+00</td>\n",
              "    </tr>\n",
              "    <tr>\n",
              "      <th>40%</th>\n",
              "      <td>2.658147e+09</td>\n",
              "      <td>8.991100e+04</td>\n",
              "      <td>3.900000e+01</td>\n",
              "      <td>3.304550e+05</td>\n",
              "      <td>2.400000e+01</td>\n",
              "      <td>3.304550e+05</td>\n",
              "      <td>1.000000e+00</td>\n",
              "      <td>1.000000e+00</td>\n",
              "      <td>1.200000e+01</td>\n",
              "      <td>0.000000e+00</td>\n",
              "      <td>0.000000e+00</td>\n",
              "      <td>0.000000e+00</td>\n",
              "      <td>0.000000e+00</td>\n",
              "    </tr>\n",
              "    <tr>\n",
              "      <th>50%</th>\n",
              "      <td>2.727632e+09</td>\n",
              "      <td>9.875300e+04</td>\n",
              "      <td>4.600000e+01</td>\n",
              "      <td>3.513800e+05</td>\n",
              "      <td>2.400000e+01</td>\n",
              "      <td>3.519070e+05</td>\n",
              "      <td>2.000000e+00</td>\n",
              "      <td>1.000000e+00</td>\n",
              "      <td>1.200000e+01</td>\n",
              "      <td>0.000000e+00</td>\n",
              "      <td>0.000000e+00</td>\n",
              "      <td>0.000000e+00</td>\n",
              "      <td>0.000000e+00</td>\n",
              "    </tr>\n",
              "    <tr>\n",
              "      <th>60%</th>\n",
              "      <td>2.787736e+09</td>\n",
              "      <td>1.078100e+05</td>\n",
              "      <td>5.500000e+01</td>\n",
              "      <td>3.547600e+05</td>\n",
              "      <td>2.500000e+01</td>\n",
              "      <td>3.549800e+05</td>\n",
              "      <td>2.000000e+00</td>\n",
              "      <td>1.000000e+00</td>\n",
              "      <td>1.200000e+01</td>\n",
              "      <td>0.000000e+00</td>\n",
              "      <td>0.000000e+00</td>\n",
              "      <td>0.000000e+00</td>\n",
              "      <td>0.000000e+00</td>\n",
              "    </tr>\n",
              "    <tr>\n",
              "      <th>70%</th>\n",
              "      <td>2.848208e+09</td>\n",
              "      <td>1.106490e+05</td>\n",
              "      <td>6.300000e+01</td>\n",
              "      <td>3.550300e+05</td>\n",
              "      <td>2.500000e+01</td>\n",
              "      <td>3.550300e+05</td>\n",
              "      <td>2.000000e+00</td>\n",
              "      <td>1.000000e+00</td>\n",
              "      <td>1.200000e+01</td>\n",
              "      <td>0.000000e+00</td>\n",
              "      <td>0.000000e+00</td>\n",
              "      <td>0.000000e+00</td>\n",
              "      <td>0.000000e+00</td>\n",
              "    </tr>\n",
              "    <tr>\n",
              "      <th>75%</th>\n",
              "      <td>2.881261e+09</td>\n",
              "      <td>1.148150e+05</td>\n",
              "      <td>6.800000e+01</td>\n",
              "      <td>3.550300e+05</td>\n",
              "      <td>2.500000e+01</td>\n",
              "      <td>3.550300e+05</td>\n",
              "      <td>2.000000e+00</td>\n",
              "      <td>1.000000e+00</td>\n",
              "      <td>1.600000e+01</td>\n",
              "      <td>0.000000e+00</td>\n",
              "      <td>0.000000e+00</td>\n",
              "      <td>0.000000e+00</td>\n",
              "      <td>0.000000e+00</td>\n",
              "    </tr>\n",
              "    <tr>\n",
              "      <th>80%</th>\n",
              "      <td>2.906266e+09</td>\n",
              "      <td>1.177250e+05</td>\n",
              "      <td>7.200000e+01</td>\n",
              "      <td>4.106900e+05</td>\n",
              "      <td>2.500000e+01</td>\n",
              "      <td>4.106900e+05</td>\n",
              "      <td>2.000000e+00</td>\n",
              "      <td>1.000000e+00</td>\n",
              "      <td>1.800000e+01</td>\n",
              "      <td>0.000000e+00</td>\n",
              "      <td>0.000000e+00</td>\n",
              "      <td>0.000000e+00</td>\n",
              "      <td>0.000000e+00</td>\n",
              "    </tr>\n",
              "    <tr>\n",
              "      <th>90%</th>\n",
              "      <td>2.967387e+09</td>\n",
              "      <td>1.219690e+05</td>\n",
              "      <td>8.200000e+01</td>\n",
              "      <td>4.314900e+05</td>\n",
              "      <td>2.500000e+01</td>\n",
              "      <td>4.314900e+05</td>\n",
              "      <td>3.000000e+00</td>\n",
              "      <td>2.000000e+00</td>\n",
              "      <td>2.800000e+01</td>\n",
              "      <td>0.000000e+00</td>\n",
              "      <td>0.000000e+00</td>\n",
              "      <td>0.000000e+00</td>\n",
              "      <td>0.000000e+00</td>\n",
              "    </tr>\n",
              "    <tr>\n",
              "      <th>max</th>\n",
              "      <td>3.096360e+09</td>\n",
              "      <td>1.046923e+06</td>\n",
              "      <td>1.210000e+02</td>\n",
              "      <td>5.300100e+05</td>\n",
              "      <td>2.800000e+01</td>\n",
              "      <td>5.300100e+05</td>\n",
              "      <td>7.000000e+00</td>\n",
              "      <td>3.000000e+00</td>\n",
              "      <td>7.100000e+01</td>\n",
              "      <td>6.900000e+02</td>\n",
              "      <td>1.000000e+03</td>\n",
              "      <td>1.000000e+00</td>\n",
              "      <td>1.000000e+00</td>\n",
              "    </tr>\n",
              "  </tbody>\n",
              "</table>\n",
              "</div>"
            ],
            "text/plain": [
              "         #ID_EVENTO      ID_PLANO  ...  LG_VALOR_PREESTABELECIDO    LG_OUTLIER\n",
              "count  5.291128e+06  5.291128e+06  ...              5.291128e+06  5.291128e+06\n",
              "mean   2.714592e+09  9.145680e+04  ...              4.857376e-03  4.190316e-02\n",
              "std    2.001352e+08  8.130979e+04  ...              6.952541e-02  2.003679e-01\n",
              "min    2.191282e+09  3.000000e+00  ...              0.000000e+00  0.000000e+00\n",
              "10%    2.440204e+09  2.218400e+04  ...              0.000000e+00  0.000000e+00\n",
              "20%    2.524140e+09  4.111400e+04  ...              0.000000e+00  0.000000e+00\n",
              "25%    2.560969e+09  5.380500e+04  ...              0.000000e+00  0.000000e+00\n",
              "30%    2.595700e+09  6.158800e+04  ...              0.000000e+00  0.000000e+00\n",
              "40%    2.658147e+09  8.991100e+04  ...              0.000000e+00  0.000000e+00\n",
              "50%    2.727632e+09  9.875300e+04  ...              0.000000e+00  0.000000e+00\n",
              "60%    2.787736e+09  1.078100e+05  ...              0.000000e+00  0.000000e+00\n",
              "70%    2.848208e+09  1.106490e+05  ...              0.000000e+00  0.000000e+00\n",
              "75%    2.881261e+09  1.148150e+05  ...              0.000000e+00  0.000000e+00\n",
              "80%    2.906266e+09  1.177250e+05  ...              0.000000e+00  0.000000e+00\n",
              "90%    2.967387e+09  1.219690e+05  ...              0.000000e+00  0.000000e+00\n",
              "max    3.096360e+09  1.046923e+06  ...              1.000000e+00  1.000000e+00\n",
              "\n",
              "[16 rows x 13 columns]"
            ]
          },
          "metadata": {},
          "execution_count": 7
        }
      ]
    },
    {
      "cell_type": "code",
      "metadata": {
        "colab": {
          "base_uri": "https://localhost:8080/",
          "height": 545
        },
        "id": "bgDhluVGROxQ",
        "outputId": "42c3a88e-6f9f-44da-fdd4-b271d0a36b66"
      },
      "source": [
        "# Métricas estatísticas da tabela DET.\n",
        "df_det.describe(percentiles = [.1,.2,.25,.3,.4,.5,.6,.7,.75,.8,.9])"
      ],
      "execution_count": 8,
      "outputs": [
        {
          "output_type": "execute_result",
          "data": {
            "text/html": [
              "<div>\n",
              "<style scoped>\n",
              "    .dataframe tbody tr th:only-of-type {\n",
              "        vertical-align: middle;\n",
              "    }\n",
              "\n",
              "    .dataframe tbody tr th {\n",
              "        vertical-align: top;\n",
              "    }\n",
              "\n",
              "    .dataframe thead th {\n",
              "        text-align: right;\n",
              "    }\n",
              "</style>\n",
              "<table border=\"1\" class=\"dataframe\">\n",
              "  <thead>\n",
              "    <tr style=\"text-align: right;\">\n",
              "      <th></th>\n",
              "      <th>#ID_EVENTO</th>\n",
              "      <th>QT_PROCEDIMENTO</th>\n",
              "      <th>VL_PROCEDIMENTO</th>\n",
              "      <th>VL_PAGO_FORNECEDOR</th>\n",
              "      <th>CD_TABELA_REFERENCIA</th>\n",
              "      <th>LG_PACOTE</th>\n",
              "      <th>IND_TABELA_PROPRIA</th>\n",
              "      <th>LG_OUTLIER</th>\n",
              "    </tr>\n",
              "  </thead>\n",
              "  <tbody>\n",
              "    <tr>\n",
              "      <th>count</th>\n",
              "      <td>3.444572e+07</td>\n",
              "      <td>3.404291e+07</td>\n",
              "      <td>3.404291e+07</td>\n",
              "      <td>3.404291e+07</td>\n",
              "      <td>3.444572e+07</td>\n",
              "      <td>3.444572e+07</td>\n",
              "      <td>3.444572e+07</td>\n",
              "      <td>3.444572e+07</td>\n",
              "    </tr>\n",
              "    <tr>\n",
              "      <th>mean</th>\n",
              "      <td>2.722187e+09</td>\n",
              "      <td>5.759093e+01</td>\n",
              "      <td>1.482052e+03</td>\n",
              "      <td>2.313111e+01</td>\n",
              "      <td>3.721587e+01</td>\n",
              "      <td>4.012946e-02</td>\n",
              "      <td>9.170324e-02</td>\n",
              "      <td>2.246341e-01</td>\n",
              "    </tr>\n",
              "    <tr>\n",
              "      <th>std</th>\n",
              "      <td>2.010258e+08</td>\n",
              "      <td>5.652154e+03</td>\n",
              "      <td>8.428044e+04</td>\n",
              "      <td>6.956028e+02</td>\n",
              "      <td>2.440335e+01</td>\n",
              "      <td>1.962628e-01</td>\n",
              "      <td>2.886066e-01</td>\n",
              "      <td>4.173411e-01</td>\n",
              "    </tr>\n",
              "    <tr>\n",
              "      <th>min</th>\n",
              "      <td>2.191282e+09</td>\n",
              "      <td>0.000000e+00</td>\n",
              "      <td>0.000000e+00</td>\n",
              "      <td>0.000000e+00</td>\n",
              "      <td>0.000000e+00</td>\n",
              "      <td>0.000000e+00</td>\n",
              "      <td>0.000000e+00</td>\n",
              "      <td>0.000000e+00</td>\n",
              "    </tr>\n",
              "    <tr>\n",
              "      <th>10%</th>\n",
              "      <td>2.443057e+09</td>\n",
              "      <td>1.000000e+00</td>\n",
              "      <td>6.660000e+00</td>\n",
              "      <td>0.000000e+00</td>\n",
              "      <td>2.200000e+01</td>\n",
              "      <td>0.000000e+00</td>\n",
              "      <td>0.000000e+00</td>\n",
              "      <td>0.000000e+00</td>\n",
              "    </tr>\n",
              "    <tr>\n",
              "      <th>20%</th>\n",
              "      <td>2.528907e+09</td>\n",
              "      <td>1.000000e+00</td>\n",
              "      <td>1.800000e+01</td>\n",
              "      <td>0.000000e+00</td>\n",
              "      <td>2.200000e+01</td>\n",
              "      <td>0.000000e+00</td>\n",
              "      <td>0.000000e+00</td>\n",
              "      <td>0.000000e+00</td>\n",
              "    </tr>\n",
              "    <tr>\n",
              "      <th>25%</th>\n",
              "      <td>2.565478e+09</td>\n",
              "      <td>1.000000e+00</td>\n",
              "      <td>2.760000e+01</td>\n",
              "      <td>0.000000e+00</td>\n",
              "      <td>2.200000e+01</td>\n",
              "      <td>0.000000e+00</td>\n",
              "      <td>0.000000e+00</td>\n",
              "      <td>0.000000e+00</td>\n",
              "    </tr>\n",
              "    <tr>\n",
              "      <th>30%</th>\n",
              "      <td>2.602480e+09</td>\n",
              "      <td>1.000000e+00</td>\n",
              "      <td>4.214000e+01</td>\n",
              "      <td>0.000000e+00</td>\n",
              "      <td>2.200000e+01</td>\n",
              "      <td>0.000000e+00</td>\n",
              "      <td>0.000000e+00</td>\n",
              "      <td>0.000000e+00</td>\n",
              "    </tr>\n",
              "    <tr>\n",
              "      <th>40%</th>\n",
              "      <td>2.666646e+09</td>\n",
              "      <td>1.000000e+00</td>\n",
              "      <td>9.487000e+01</td>\n",
              "      <td>0.000000e+00</td>\n",
              "      <td>2.200000e+01</td>\n",
              "      <td>0.000000e+00</td>\n",
              "      <td>0.000000e+00</td>\n",
              "      <td>0.000000e+00</td>\n",
              "    </tr>\n",
              "    <tr>\n",
              "      <th>50%</th>\n",
              "      <td>2.733989e+09</td>\n",
              "      <td>2.000000e+00</td>\n",
              "      <td>1.897400e+02</td>\n",
              "      <td>0.000000e+00</td>\n",
              "      <td>2.200000e+01</td>\n",
              "      <td>0.000000e+00</td>\n",
              "      <td>0.000000e+00</td>\n",
              "      <td>0.000000e+00</td>\n",
              "    </tr>\n",
              "    <tr>\n",
              "      <th>60%</th>\n",
              "      <td>2.800064e+09</td>\n",
              "      <td>4.000000e+00</td>\n",
              "      <td>3.473100e+02</td>\n",
              "      <td>0.000000e+00</td>\n",
              "      <td>2.200000e+01</td>\n",
              "      <td>0.000000e+00</td>\n",
              "      <td>0.000000e+00</td>\n",
              "      <td>0.000000e+00</td>\n",
              "    </tr>\n",
              "    <tr>\n",
              "      <th>70%</th>\n",
              "      <td>2.860485e+09</td>\n",
              "      <td>7.000000e+00</td>\n",
              "      <td>6.298200e+02</td>\n",
              "      <td>0.000000e+00</td>\n",
              "      <td>6.300000e+01</td>\n",
              "      <td>0.000000e+00</td>\n",
              "      <td>0.000000e+00</td>\n",
              "      <td>0.000000e+00</td>\n",
              "    </tr>\n",
              "    <tr>\n",
              "      <th>75%</th>\n",
              "      <td>2.891612e+09</td>\n",
              "      <td>1.000000e+01</td>\n",
              "      <td>8.601000e+02</td>\n",
              "      <td>0.000000e+00</td>\n",
              "      <td>6.300000e+01</td>\n",
              "      <td>0.000000e+00</td>\n",
              "      <td>0.000000e+00</td>\n",
              "      <td>0.000000e+00</td>\n",
              "    </tr>\n",
              "    <tr>\n",
              "      <th>80%</th>\n",
              "      <td>2.915487e+09</td>\n",
              "      <td>1.700000e+01</td>\n",
              "      <td>1.192210e+03</td>\n",
              "      <td>0.000000e+00</td>\n",
              "      <td>6.300000e+01</td>\n",
              "      <td>0.000000e+00</td>\n",
              "      <td>0.000000e+00</td>\n",
              "      <td>1.000000e+00</td>\n",
              "    </tr>\n",
              "    <tr>\n",
              "      <th>90%</th>\n",
              "      <td>2.975586e+09</td>\n",
              "      <td>6.400000e+01</td>\n",
              "      <td>2.587000e+03</td>\n",
              "      <td>0.000000e+00</td>\n",
              "      <td>6.300000e+01</td>\n",
              "      <td>0.000000e+00</td>\n",
              "      <td>0.000000e+00</td>\n",
              "      <td>1.000000e+00</td>\n",
              "    </tr>\n",
              "    <tr>\n",
              "      <th>max</th>\n",
              "      <td>3.096360e+09</td>\n",
              "      <td>3.228807e+07</td>\n",
              "      <td>2.156974e+08</td>\n",
              "      <td>4.910160e+05</td>\n",
              "      <td>9.800000e+01</td>\n",
              "      <td>1.000000e+00</td>\n",
              "      <td>1.000000e+00</td>\n",
              "      <td>1.000000e+00</td>\n",
              "    </tr>\n",
              "  </tbody>\n",
              "</table>\n",
              "</div>"
            ],
            "text/plain": [
              "         #ID_EVENTO  QT_PROCEDIMENTO  ...  IND_TABELA_PROPRIA    LG_OUTLIER\n",
              "count  3.444572e+07     3.404291e+07  ...        3.444572e+07  3.444572e+07\n",
              "mean   2.722187e+09     5.759093e+01  ...        9.170324e-02  2.246341e-01\n",
              "std    2.010258e+08     5.652154e+03  ...        2.886066e-01  4.173411e-01\n",
              "min    2.191282e+09     0.000000e+00  ...        0.000000e+00  0.000000e+00\n",
              "10%    2.443057e+09     1.000000e+00  ...        0.000000e+00  0.000000e+00\n",
              "20%    2.528907e+09     1.000000e+00  ...        0.000000e+00  0.000000e+00\n",
              "25%    2.565478e+09     1.000000e+00  ...        0.000000e+00  0.000000e+00\n",
              "30%    2.602480e+09     1.000000e+00  ...        0.000000e+00  0.000000e+00\n",
              "40%    2.666646e+09     1.000000e+00  ...        0.000000e+00  0.000000e+00\n",
              "50%    2.733989e+09     2.000000e+00  ...        0.000000e+00  0.000000e+00\n",
              "60%    2.800064e+09     4.000000e+00  ...        0.000000e+00  0.000000e+00\n",
              "70%    2.860485e+09     7.000000e+00  ...        0.000000e+00  0.000000e+00\n",
              "75%    2.891612e+09     1.000000e+01  ...        0.000000e+00  0.000000e+00\n",
              "80%    2.915487e+09     1.700000e+01  ...        0.000000e+00  1.000000e+00\n",
              "90%    2.975586e+09     6.400000e+01  ...        0.000000e+00  1.000000e+00\n",
              "max    3.096360e+09     3.228807e+07  ...        1.000000e+00  1.000000e+00\n",
              "\n",
              "[16 rows x 8 columns]"
            ]
          },
          "metadata": {},
          "execution_count": 8
        }
      ]
    },
    {
      "cell_type": "code",
      "metadata": {
        "colab": {
          "base_uri": "https://localhost:8080/"
        },
        "id": "bTn1tyQ-meAi",
        "outputId": "73819e96-e6b0-47cc-b50f-3f8cfce5178c"
      },
      "source": [
        "# Quantidade de dados nulos em cada coluna da base consolidada.\n",
        "df_completo.isnull().sum()"
      ],
      "execution_count": 9,
      "outputs": [
        {
          "output_type": "execute_result",
          "data": {
            "text/plain": [
              "#ID_EVENTO                         0\n",
              "CD_TUSS_PROCEDIMENTO               0\n",
              "QT_PROCEDIMENTO               402810\n",
              "VL_PROCEDIMENTO               402810\n",
              "VL_PAGO_FORNECEDOR            402810\n",
              "CD_TABELA_REFERENCIA               0\n",
              "LG_PACOTE                          0\n",
              "IND_TABELA_PROPRIA                 0\n",
              "DT_INICIO_EVENTO                   0\n",
              "UF_PRESTADOR                       0\n",
              "LG_OUTLIER                         0\n",
              "ID_PLANO                     7447129\n",
              "IDADE_BENEFICIARIO           8005330\n",
              "SEXO_BENEFICIARIO            8005186\n",
              "CD_MUNIC_BENEFICIARIO        8008830\n",
              "PORTE_OPERADORA              7449626\n",
              "CD_MODALIDADE_OPERADORA      7447129\n",
              "MODALIDADE_OPERADORA         7447129\n",
              "CD_MUNIC_PRESTADOR           7447129\n",
              "DT_INTERNACAO                7447129\n",
              "DT_SAIDA_INTERNACAO          7447129\n",
              "CARATER_ATENDIMENTO          7452879\n",
              "TIPO_INTERNACAO              7451813\n",
              "REGIME_INTERNACAO            7684209\n",
              "MOTIVO_ENCERRAMENTO          7448680\n",
              "CID_1                       15053247\n",
              "CID_2                       34015354\n",
              "CID_3                       34429021\n",
              "CID_4                       34443430\n",
              "NR_DIARIAS_ACOMPANHANTE      7447129\n",
              "NR_DIARIAS_UTI               7447129\n",
              "LG_VALOR_PREESTABELECIDO     7447129\n",
              "dtype: int64"
            ]
          },
          "metadata": {},
          "execution_count": 9
        }
      ]
    },
    {
      "cell_type": "code",
      "metadata": {
        "colab": {
          "base_uri": "https://localhost:8080/"
        },
        "id": "74rFVBMZ3scE",
        "outputId": "9e423b09-1433-4b6b-b297-47800120d66b"
      },
      "source": [
        "# Porcentagem de dados nulos em relação ao total \n",
        "# de cada coluna da base consolidada.\n",
        "(df_completo.isna().mean())*100"
      ],
      "execution_count": 10,
      "outputs": [
        {
          "output_type": "execute_result",
          "data": {
            "text/plain": [
              "#ID_EVENTO                   0.000000\n",
              "CD_TUSS_PROCEDIMENTO         0.000000\n",
              "QT_PROCEDIMENTO              1.169405\n",
              "VL_PROCEDIMENTO              1.169405\n",
              "VL_PAGO_FORNECEDOR           1.169405\n",
              "CD_TABELA_REFERENCIA         0.000000\n",
              "LG_PACOTE                    0.000000\n",
              "IND_TABELA_PROPRIA           0.000000\n",
              "DT_INICIO_EVENTO             0.000000\n",
              "UF_PRESTADOR                 0.000000\n",
              "LG_OUTLIER                   0.000000\n",
              "ID_PLANO                    21.619896\n",
              "IDADE_BENEFICIARIO          23.240420\n",
              "SEXO_BENEFICIARIO           23.240002\n",
              "CD_MUNIC_BENEFICIARIO       23.250581\n",
              "PORTE_OPERADORA             21.627146\n",
              "CD_MODALIDADE_OPERADORA     21.619896\n",
              "MODALIDADE_OPERADORA        21.619896\n",
              "CD_MUNIC_PRESTADOR          21.619896\n",
              "DT_INTERNACAO               21.619896\n",
              "DT_SAIDA_INTERNACAO         21.619896\n",
              "CARATER_ATENDIMENTO         21.636589\n",
              "TIPO_INTERNACAO             21.633495\n",
              "REGIME_INTERNACAO           22.308168\n",
              "MOTIVO_ENCERRAMENTO         21.624399\n",
              "CID_1                       43.701357\n",
              "CID_2                       98.750597\n",
              "CID_3                       99.951521\n",
              "CID_4                       99.993352\n",
              "NR_DIARIAS_ACOMPANHANTE     21.619896\n",
              "NR_DIARIAS_UTI              21.619896\n",
              "LG_VALOR_PREESTABELECIDO    21.619896\n",
              "dtype: float64"
            ]
          },
          "metadata": {},
          "execution_count": 10
        }
      ]
    },
    {
      "cell_type": "code",
      "metadata": {
        "colab": {
          "base_uri": "https://localhost:8080/"
        },
        "id": "GEbSC5dslqBW",
        "outputId": "a58f171f-7317-4d3d-a1c1-3e86e42d5367"
      },
      "source": [
        "# Tipos de variáveis de cada coluna da base consolidada.\n",
        "df_completo.info()"
      ],
      "execution_count": 11,
      "outputs": [
        {
          "output_type": "stream",
          "name": "stdout",
          "text": [
            "<class 'pandas.core.frame.DataFrame'>\n",
            "Int64Index: 34445720 entries, 0 to 34445719\n",
            "Data columns (total 32 columns):\n",
            " #   Column                    Dtype  \n",
            "---  ------                    -----  \n",
            " 0   #ID_EVENTO                int64  \n",
            " 1   CD_TUSS_PROCEDIMENTO      object \n",
            " 2   QT_PROCEDIMENTO           float64\n",
            " 3   VL_PROCEDIMENTO           float64\n",
            " 4   VL_PAGO_FORNECEDOR        float64\n",
            " 5   CD_TABELA_REFERENCIA      int64  \n",
            " 6   LG_PACOTE                 int64  \n",
            " 7   IND_TABELA_PROPRIA        int64  \n",
            " 8   DT_INICIO_EVENTO          object \n",
            " 9   UF_PRESTADOR              object \n",
            " 10  LG_OUTLIER                int64  \n",
            " 11  ID_PLANO                  float64\n",
            " 12  IDADE_BENEFICIARIO        float64\n",
            " 13  SEXO_BENEFICIARIO         object \n",
            " 14  CD_MUNIC_BENEFICIARIO     float64\n",
            " 15  PORTE_OPERADORA           object \n",
            " 16  CD_MODALIDADE_OPERADORA   float64\n",
            " 17  MODALIDADE_OPERADORA      object \n",
            " 18  CD_MUNIC_PRESTADOR        float64\n",
            " 19  DT_INTERNACAO             object \n",
            " 20  DT_SAIDA_INTERNACAO       object \n",
            " 21  CARATER_ATENDIMENTO       object \n",
            " 22  TIPO_INTERNACAO           float64\n",
            " 23  REGIME_INTERNACAO         float64\n",
            " 24  MOTIVO_ENCERRAMENTO       float64\n",
            " 25  CID_1                     object \n",
            " 26  CID_2                     object \n",
            " 27  CID_3                     object \n",
            " 28  CID_4                     object \n",
            " 29  NR_DIARIAS_ACOMPANHANTE   float64\n",
            " 30  NR_DIARIAS_UTI            float64\n",
            " 31  LG_VALOR_PREESTABELECIDO  float64\n",
            "dtypes: float64(14), int64(5), object(13)\n",
            "memory usage: 8.5+ GB\n"
          ]
        }
      ]
    },
    {
      "cell_type": "code",
      "metadata": {
        "colab": {
          "base_uri": "https://localhost:8080/"
        },
        "id": "WMRx8bt2K0HB",
        "outputId": "ff8d1b86-fbe2-473e-e662-d724811cea82"
      },
      "source": [
        "# Agrupamento de Dados por classes.\n",
        "\n",
        "print(\"AGRUPAMENTO de alguns dados por classes:\\n\")\n",
        "\n",
        "print('MÉDIA - Sexo x Idade:')\n",
        "med_sexo_idade = df_completo.groupby('SEXO_BENEFICIARIO')['IDADE_BENEFICIARIO'].mean()\n",
        "print(f'{med_sexo_idade}\\n')\n",
        "\n",
        "print('MEDIANA - Sexo x Idade:')\n",
        "mdn_sexo_idade = df_completo.groupby('SEXO_BENEFICIARIO')['IDADE_BENEFICIARIO'].median()\n",
        "print(f'{mdn_sexo_idade}\\n')\n",
        "\n",
        "print('O item faz parte de um Pacote de Procedimentos? (0: Não, 1: Sim)')\n",
        "print(df_completo.groupby('LG_PACOTE').size())\n",
        "print('')\n",
        "\n",
        "print(df_completo.groupby('PORTE_OPERADORA').size())\n",
        "print('')\n",
        "\n",
        "print('CÓDIGO DO PROCEDIMENTO PELA TUSS')\n",
        "print(df_completo.groupby('CD_TUSS_PROCEDIMENTO').size().sort_values())\n",
        "print('')\n",
        "\n",
        "print(df_completo.groupby('SEXO_BENEFICIARIO').size())\n",
        "print('')\n",
        "\n",
        "print(df_completo.groupby('CARATER_ATENDIMENTO').size())\n",
        "print('')\n",
        "\n",
        "print(df_completo.groupby('NR_DIARIAS_UTI').size())\n",
        "print('')\n",
        "\n",
        "print('MÉDIA - UF x Idade:')\n",
        "med_uf_idade = df_completo.groupby('UF_PRESTADOR')['IDADE_BENEFICIARIO'].mean().sort_values()\n",
        "print(f'{med_uf_idade}\\n')\n",
        "\n",
        "df_completo.groupby('QT_PROCEDIMENTO')['LG_OUTLIER'].size().sort_values()"
      ],
      "execution_count": 12,
      "outputs": [
        {
          "output_type": "stream",
          "name": "stdout",
          "text": [
            "AGRUPAMENTO de alguns dados por classes:\n",
            "\n",
            "MÉDIA - Sexo x Idade:\n",
            "SEXO_BENEFICIARIO\n",
            "F    49.769137\n",
            "M    50.559313\n",
            "Name: IDADE_BENEFICIARIO, dtype: float64\n",
            "\n",
            "MEDIANA - Sexo x Idade:\n",
            "SEXO_BENEFICIARIO\n",
            "F    46.0\n",
            "M    54.0\n",
            "Name: IDADE_BENEFICIARIO, dtype: float64\n",
            "\n",
            "O item faz parte de um Pacote de Procedimentos? (0: Não, 1: Sim)\n",
            "LG_PACOTE\n",
            "0    33063432\n",
            "1     1382288\n",
            "dtype: int64\n",
            "\n",
            "PORTE_OPERADORA\n",
            "GRANDE     17431648\n",
            "MEDIO       7474811\n",
            "PEQUENO     2089635\n",
            "dtype: int64\n",
            "\n",
            "CÓDIGO DO PROCEDIMENTO PELA TUSS\n",
            "CD_TUSS_PROCEDIMENTO\n",
            "90066473                1\n",
            "96040025                1\n",
            "96040084                1\n",
            "96040114                1\n",
            "96051256                1\n",
            "                   ...   \n",
            "10102019          1543229\n",
            "030               2819852\n",
            "029               2864074\n",
            "TABELA PRÓPRIA    3158784\n",
            "031               3722041\n",
            "Length: 22830, dtype: int64\n",
            "\n",
            "SEXO_BENEFICIARIO\n",
            "F    15785864\n",
            "M    10654670\n",
            "dtype: int64\n",
            "\n",
            "CARATER_ATENDIMENTO\n",
            "1        3399\n",
            "2        1430\n",
            "1     9861334\n",
            "2    12948587\n",
            "E     2564661\n",
            "U     1613430\n",
            "dtype: int64\n",
            "\n",
            "NR_DIARIAS_UTI\n",
            "0.0       23951204\n",
            "1.0         803307\n",
            "2.0         556192\n",
            "3.0         354110\n",
            "4.0         246365\n",
            "            ...   \n",
            "390.0            9\n",
            "450.0            7\n",
            "500.0          172\n",
            "750.0          102\n",
            "1000.0          61\n",
            "Length: 181, dtype: int64\n",
            "\n",
            "MÉDIA - UF x Idade:\n",
            "UF_PRESTADOR\n",
            "AC    39.859520\n",
            "RR    40.681542\n",
            "TO    40.763380\n",
            "GO    41.038871\n",
            "MT    42.372308\n",
            "AP    42.431584\n",
            "RO    43.120494\n",
            "PI    43.738654\n",
            "AM    45.072608\n",
            "PA    45.354466\n",
            "MS    46.205137\n",
            "ES    46.494391\n",
            "SC    46.749605\n",
            "PR    47.321291\n",
            "MA    47.337400\n",
            "BA    49.035036\n",
            "SP    49.042183\n",
            "MG    50.505198\n",
            "PB    50.758068\n",
            "AL    50.780411\n",
            "RN    50.983370\n",
            "PE    52.583454\n",
            "DF    52.621351\n",
            "SE    52.751877\n",
            "RS    54.460104\n",
            "RJ    56.799519\n",
            "Name: IDADE_BENEFICIARIO, dtype: float64\n",
            "\n"
          ]
        },
        {
          "output_type": "execute_result",
          "data": {
            "text/plain": [
              "QT_PROCEDIMENTO\n",
              "992.79            1\n",
              "1567.81           1\n",
              "1567.90           1\n",
              "1568.09           1\n",
              "1568.20           1\n",
              "             ...   \n",
              "5.00         931803\n",
              "4.00        1408397\n",
              "3.00        1787217\n",
              "2.00        3617972\n",
              "1.00       14913615\n",
              "Name: LG_OUTLIER, Length: 72314, dtype: int64"
            ]
          },
          "metadata": {},
          "execution_count": 12
        }
      ]
    },
    {
      "cell_type": "markdown",
      "metadata": {
        "id": "E_l35R2SGfjS"
      },
      "source": [
        "#####Análise Gráfica"
      ]
    },
    {
      "cell_type": "code",
      "metadata": {
        "colab": {
          "base_uri": "https://localhost:8080/",
          "height": 1000
        },
        "id": "_HG_TCasjK3D",
        "outputId": "70aa7c0f-5cab-4c8f-ec3f-4eb36a6d145d"
      },
      "source": [
        "#Construção dos gráficos boxplot de cada classe.\n",
        "\n",
        "colunas = ['QT_PROCEDIMENTO','VL_PROCEDIMENTO','VL_PAGO_FORNECEDOR',\n",
        "           'CD_TABELA_REFERENCIA','IDADE_BENEFICIARIO','CD_MUNIC_BENEFICIARIO',\n",
        "           'CD_MODALIDADE_OPERADORA','CD_MUNIC_PRESTADOR','TIPO_INTERNACAO',\n",
        "           'NR_DIARIAS_ACOMPANHANTE', 'NR_DIARIAS_UTI',]\n",
        "#A lista colunas refere-se somente às colunas de valores numéricos do df_completo.\n",
        "\n",
        "print('BOXPLOT dos dados de cada classe:\\n')\n",
        "for k in range(0,len(colunas)):\n",
        "  df_completo[colunas[k]].plot(kind='box', subplots=True, layout=(10,5), sharex=False, sharey=False, figsize=(18,18))\n",
        "  plt.show()"
      ],
      "execution_count": 13,
      "outputs": [
        {
          "output_type": "stream",
          "name": "stdout",
          "text": [
            "BOXPLOT dos dados de cada classe:\n",
            "\n"
          ]
        },
        {
          "output_type": "display_data",
          "data": {
            "image/png": "[encoded data removed]",
            "text/plain": [
              "<Figure size 1296x1296 with 50 Axes>"
            ]
          },
          "metadata": {
            "needs_background": "light"
          }
        },
        {
          "output_type": "display_data",
          "data": {
            "image/png": "[encoded data removed]",
            "text/plain": [
              "<Figure size 1296x1296 with 50 Axes>"
            ]
          },
          "metadata": {
            "needs_background": "light"
          }
        },
        {
          "output_type": "display_data",
          "data": {
            "image/png": "[encoded data removed]",
            "text/plain": [
              "<Figure size 1296x1296 with 50 Axes>"
            ]
          },
          "metadata": {
            "needs_background": "light"
          }
        },
        {
          "output_type": "display_data",
          "data": {
            "image/png": "[encoded data removed]",
            "text/plain": [
              "<Figure size 1296x1296 with 50 Axes>"
            ]
          },
          "metadata": {
            "needs_background": "light"
          }
        },
        {
          "output_type": "display_data",
          "data": {
            "image/png": "[encoded data removed]",
            "text/plain": [
              "<Figure size 1296x1296 with 50 Axes>"
            ]
          },
          "metadata": {
            "needs_background": "light"
          }
        },
        {
          "output_type": "display_data",
          "data": {
            "image/png": "[encoded data removed]",
            "text/plain": [
              "<Figure size 1296x1296 with 50 Axes>"
            ]
          },
          "metadata": {
            "needs_background": "light"
          }
        },
        {
          "output_type": "display_data",
          "data": {
            "image/png": "[encoded data removed]",
            "text/plain": [
              "<Figure size 1296x1296 with 50 Axes>"
            ]
          },
          "metadata": {
            "needs_background": "light"
          }
        },
        {
          "output_type": "display_data",
          "data": {
            "image/png": "[encoded data removed]",
            "text/plain": [
              "<Figure size 1296x1296 with 50 Axes>"
            ]
          },
          "metadata": {
            "needs_background": "light"
          }
        },
        {
          "output_type": "display_data",
          "data": {
            "image/png": "[encoded data removed]",
            "text/plain": [
              "<Figure size 1296x1296 with 50 Axes>"
            ]
          },
          "metadata": {
            "needs_background": "light"
          }
        },
        {
          "output_type": "display_data",
          "data": {
            "image/png": "[encoded data removed]",
            "text/plain": [
              "<Figure size 1296x1296 with 50 Axes>"
            ]
          },
          "metadata": {
            "needs_background": "light"
          }
        },
        {
          "output_type": "display_data",
          "data": {
            "image/png": "[encoded data removed]",
            "text/plain": [
              "<Figure size 1296x1296 with 50 Axes>"
            ]
          },
          "metadata": {
            "needs_background": "light"
          }
        }
      ]
    },
    {
      "cell_type": "code",
      "metadata": {
        "colab": {
          "base_uri": "https://localhost:8080/",
          "height": 1000
        },
        "id": "YgF_B-Y_vrK4",
        "outputId": "7c8b7ea2-ca60-450e-da25-93d734dc443d"
      },
      "source": [
        "#Construção dos gráficos de histograma de cada classe.\n",
        "\n",
        "colunas = ['QT_PROCEDIMENTO','VL_PROCEDIMENTO','VL_PAGO_FORNECEDOR',\n",
        "           'CD_TABELA_REFERENCIA','IDADE_BENEFICIARIO','CD_MUNIC_BENEFICIARIO',\n",
        "           'CD_MODALIDADE_OPERADORA','CD_MUNIC_PRESTADOR','TIPO_INTERNACAO',\n",
        "           'NR_DIARIAS_ACOMPANHANTE', 'NR_DIARIAS_UTI',]\n",
        "\n",
        "print(\"HISTOGRAMAS dos dados de cada classe:\\n\")\n",
        "df_completo.hist(layout=(5,4),figsize=(20,20))\n",
        "plt.savefig('histogramas.jpg',dpi=200)"
      ],
      "execution_count": 14,
      "outputs": [
        {
          "output_type": "stream",
          "name": "stdout",
          "text": [
            "HISTOGRAMAS dos dados de cada classe:\n",
            "\n"
          ]
        },
        {
          "output_type": "display_data",
          "data": {
            "image/png": "[encoded data removed]",
            "text/plain": [
              "<Figure size 1440x1440 with 20 Axes>"
            ]
          },
          "metadata": {
            "needs_background": "light"
          }
        }
      ]
    },
    {
      "cell_type": "code",
      "metadata": {
        "colab": {
          "base_uri": "https://localhost:8080/",
          "height": 1000
        },
        "id": "WdiYDeRGavqy",
        "outputId": "a94686ad-f13c-4a7f-d0e8-7ff49917bd5a"
      },
      "source": [
        "#Construção da matriz de correlação entre as classes do df_cons.\n",
        "\n",
        "print('Matriz de Correlação - HEATMAP do df_cons:\\n')\n",
        "plt.figure(figsize=(15,15))\n",
        "ax = sns.heatmap(df_cons.corr(), cmap='Blues', annot=True)\n",
        "plt.savefig('heatmap_cons.jpg',dpi=200)"
      ],
      "execution_count": 15,
      "outputs": [
        {
          "output_type": "stream",
          "name": "stdout",
          "text": [
            "Matriz de Correlação - HEATMAP do df_cons:\n",
            "\n"
          ]
        },
        {
          "output_type": "display_data",
          "data": {
            "image/png": "[encoded data removed]",
            "text/plain": [
              "<Figure size 1080x1080 with 2 Axes>"
            ]
          },
          "metadata": {
            "needs_background": "light"
          }
        }
      ]
    },
    {
      "cell_type": "code",
      "metadata": {
        "colab": {
          "base_uri": "https://localhost:8080/",
          "height": 744
        },
        "id": "IJxsjK_tBRMK",
        "outputId": "1c320b25-7d72-4d84-e4d0-bb3fad4c49c3"
      },
      "source": [
        "#Construção da matriz de correlação entre as classes do df_det.\n",
        "\n",
        "print('Matriz de Correlação - HEATMAP no df_det:\\n')\n",
        "plt.figure(figsize=(10,10))\n",
        "ax=sns.heatmap(df_det.corr(), cmap='Blues', annot=True)\n",
        "plt.savefig('heatmap_det.jpg',dpi=200)"
      ],
      "execution_count": 16,
      "outputs": [
        {
          "output_type": "stream",
          "name": "stdout",
          "text": [
            "Matriz de Correlação - HEATMAP no df_det:\n",
            "\n"
          ]
        },
        {
          "output_type": "display_data",
          "data": {
            "image/png": "[encoded data removed]",
            "text/plain": [
              "<Figure size 720x720 with 2 Axes>"
            ]
          },
          "metadata": {
            "needs_background": "light"
          }
        }
      ]
    },
    {
      "cell_type": "markdown",
      "metadata": {
        "id": "NsCMtyaNKeXu"
      },
      "source": [
        "###Pré-processamento dos Dados"
      ]
    },
    {
      "cell_type": "markdown",
      "metadata": {
        "id": "x9oh7EfSLzwT"
      },
      "source": [
        "#####Criação de Novas Features"
      ]
    },
    {
      "cell_type": "code",
      "metadata": {
        "id": "ipx8ZzAfY4Ob"
      },
      "source": [
        "# Quantidade de dias de internação.\n",
        "\n",
        "d1 = pd.to_datetime(df_completo['DT_SAIDA_INTERNACAO'],dayfirst=True)\n",
        "d2 = pd.to_datetime(df_completo['DT_INTERNACAO'],dayfirst=True)\n",
        "df_completo['DIAS_INTERNACAO'] = abs((d2-d1)).astype('timedelta64[D]')"
      ],
      "execution_count": 6,
      "outputs": []
    },
    {
      "cell_type": "code",
      "metadata": {
        "id": "qU4KMqv9kt1e"
      },
      "source": [
        "# Quantidade de recorrência de diagnósticos.\n",
        "\n",
        "df_completo['CID_1_bool'] = np.where(df_completo['CID_1'].isna(), 0, 1)\n",
        "df_completo['CID_2_bool'] = np.where(df_completo['CID_2'].isna(), 0, 1)\n",
        "df_completo['CID_3_bool'] = np.where(df_completo['CID_3'].isna(), 0, 1)\n",
        "df_completo['CID_4_bool'] = np.where(df_completo['CID_4'].isna(), 0, 1)\n",
        "\n",
        "df_completo['QTD_DIAGNOSTICOS'] = df_completo['CID_1_bool']+df_completo['CID_2_bool']+df_completo['CID_3_bool']+df_completo['CID_4_bool']"
      ],
      "execution_count": 7,
      "outputs": []
    },
    {
      "cell_type": "markdown",
      "metadata": {
        "id": "Ru02nlU72B6_"
      },
      "source": [
        "#####Remoção de colunas"
      ]
    },
    {
      "cell_type": "code",
      "metadata": {
        "id": "4QzB4Kldsv_T"
      },
      "source": [
        "# Remoção de algumas colunas da tabela consolidada.\n",
        "\n",
        "del df_completo['DT_INICIO_EVENTO']\n",
        "del df_completo['MODALIDADE_OPERADORA']\n",
        "del df_completo['CID_2']\n",
        "del df_completo['CID_3']\n",
        "del df_completo['CID_4']\n",
        "del df_completo['CID_1_bool']\n",
        "del df_completo['CID_2_bool']\n",
        "del df_completo['CID_3_bool']\n",
        "del df_completo['CID_4_bool']\n",
        "del df_completo['DT_INTERNACAO']\n",
        "del df_completo['DT_SAIDA_INTERNACAO']"
      ],
      "execution_count": 8,
      "outputs": []
    },
    {
      "cell_type": "code",
      "metadata": {
        "colab": {
          "base_uri": "https://localhost:8080/",
          "height": 0
        },
        "id": "Tr2HO5guQ5ED",
        "outputId": "1271c094-27c4-439f-fa26-9af73660384b"
      },
      "source": [
        "# Visualização da Tabela Filtrada, após a remoção de algumas colunas.\n",
        "\n",
        "df_completo_filt = df_completo\n",
        "df_completo_filt"
      ],
      "execution_count": 9,
      "outputs": [
        {
          "output_type": "execute_result",
          "data": {
            "text/html": [
              "<div>\n",
              "<style scoped>\n",
              "    .dataframe tbody tr th:only-of-type {\n",
              "        vertical-align: middle;\n",
              "    }\n",
              "\n",
              "    .dataframe tbody tr th {\n",
              "        vertical-align: top;\n",
              "    }\n",
              "\n",
              "    .dataframe thead th {\n",
              "        text-align: right;\n",
              "    }\n",
              "</style>\n",
              "<table border=\"1\" class=\"dataframe\">\n",
              "  <thead>\n",
              "    <tr style=\"text-align: right;\">\n",
              "      <th></th>\n",
              "      <th>#ID_EVENTO</th>\n",
              "      <th>CD_TUSS_PROCEDIMENTO</th>\n",
              "      <th>QT_PROCEDIMENTO</th>\n",
              "      <th>VL_PROCEDIMENTO</th>\n",
              "      <th>VL_PAGO_FORNECEDOR</th>\n",
              "      <th>CD_TABELA_REFERENCIA</th>\n",
              "      <th>LG_PACOTE</th>\n",
              "      <th>IND_TABELA_PROPRIA</th>\n",
              "      <th>UF_PRESTADOR</th>\n",
              "      <th>LG_OUTLIER</th>\n",
              "      <th>ID_PLANO</th>\n",
              "      <th>IDADE_BENEFICIARIO</th>\n",
              "      <th>SEXO_BENEFICIARIO</th>\n",
              "      <th>CD_MUNIC_BENEFICIARIO</th>\n",
              "      <th>PORTE_OPERADORA</th>\n",
              "      <th>CD_MODALIDADE_OPERADORA</th>\n",
              "      <th>CD_MUNIC_PRESTADOR</th>\n",
              "      <th>CARATER_ATENDIMENTO</th>\n",
              "      <th>TIPO_INTERNACAO</th>\n",
              "      <th>REGIME_INTERNACAO</th>\n",
              "      <th>MOTIVO_ENCERRAMENTO</th>\n",
              "      <th>CID_1</th>\n",
              "      <th>NR_DIARIAS_ACOMPANHANTE</th>\n",
              "      <th>NR_DIARIAS_UTI</th>\n",
              "      <th>LG_VALOR_PREESTABELECIDO</th>\n",
              "      <th>DIAS_INTERNACAO</th>\n",
              "      <th>QTD_DIAGNOSTICOS</th>\n",
              "    </tr>\n",
              "  </thead>\n",
              "  <tbody>\n",
              "    <tr>\n",
              "      <th>0</th>\n",
              "      <td>2734762035</td>\n",
              "      <td>031</td>\n",
              "      <td>4.0</td>\n",
              "      <td>429.96</td>\n",
              "      <td>0.0</td>\n",
              "      <td>63</td>\n",
              "      <td>0</td>\n",
              "      <td>0</td>\n",
              "      <td>AL</td>\n",
              "      <td>0</td>\n",
              "      <td>117789.0</td>\n",
              "      <td>44.0</td>\n",
              "      <td>M</td>\n",
              "      <td>270430.0</td>\n",
              "      <td>GRANDE</td>\n",
              "      <td>28.0</td>\n",
              "      <td>270430.0</td>\n",
              "      <td>1</td>\n",
              "      <td>2.0</td>\n",
              "      <td>1.0</td>\n",
              "      <td>12.0</td>\n",
              "      <td>NaN</td>\n",
              "      <td>0.0</td>\n",
              "      <td>0.0</td>\n",
              "      <td>0.0</td>\n",
              "      <td>0.0</td>\n",
              "      <td>0</td>\n",
              "    </tr>\n",
              "    <tr>\n",
              "      <th>1</th>\n",
              "      <td>3084104673</td>\n",
              "      <td>10103023</td>\n",
              "      <td>1.0</td>\n",
              "      <td>282.56</td>\n",
              "      <td>0.0</td>\n",
              "      <td>22</td>\n",
              "      <td>0</td>\n",
              "      <td>0</td>\n",
              "      <td>AL</td>\n",
              "      <td>0</td>\n",
              "      <td>124053.0</td>\n",
              "      <td>34.0</td>\n",
              "      <td>F</td>\n",
              "      <td>230440.0</td>\n",
              "      <td>GRANDE</td>\n",
              "      <td>28.0</td>\n",
              "      <td>270730.0</td>\n",
              "      <td>2</td>\n",
              "      <td>3.0</td>\n",
              "      <td>1.0</td>\n",
              "      <td>11.0</td>\n",
              "      <td>O420</td>\n",
              "      <td>0.0</td>\n",
              "      <td>0.0</td>\n",
              "      <td>0.0</td>\n",
              "      <td>2.0</td>\n",
              "      <td>1</td>\n",
              "    </tr>\n",
              "    <tr>\n",
              "      <th>2</th>\n",
              "      <td>2788329148</td>\n",
              "      <td>029</td>\n",
              "      <td>83.0</td>\n",
              "      <td>563.74</td>\n",
              "      <td>0.0</td>\n",
              "      <td>63</td>\n",
              "      <td>0</td>\n",
              "      <td>0</td>\n",
              "      <td>AL</td>\n",
              "      <td>0</td>\n",
              "      <td>94973.0</td>\n",
              "      <td>43.0</td>\n",
              "      <td>F</td>\n",
              "      <td>270430.0</td>\n",
              "      <td>GRANDE</td>\n",
              "      <td>22.0</td>\n",
              "      <td>270430.0</td>\n",
              "      <td>1</td>\n",
              "      <td>2.0</td>\n",
              "      <td>1.0</td>\n",
              "      <td>12.0</td>\n",
              "      <td>NaN</td>\n",
              "      <td>0.0</td>\n",
              "      <td>0.0</td>\n",
              "      <td>0.0</td>\n",
              "      <td>0.0</td>\n",
              "      <td>0</td>\n",
              "    </tr>\n",
              "    <tr>\n",
              "      <th>3</th>\n",
              "      <td>2788329148</td>\n",
              "      <td>030</td>\n",
              "      <td>23.0</td>\n",
              "      <td>220.20</td>\n",
              "      <td>0.0</td>\n",
              "      <td>63</td>\n",
              "      <td>0</td>\n",
              "      <td>0</td>\n",
              "      <td>AL</td>\n",
              "      <td>0</td>\n",
              "      <td>94973.0</td>\n",
              "      <td>43.0</td>\n",
              "      <td>F</td>\n",
              "      <td>270430.0</td>\n",
              "      <td>GRANDE</td>\n",
              "      <td>22.0</td>\n",
              "      <td>270430.0</td>\n",
              "      <td>1</td>\n",
              "      <td>2.0</td>\n",
              "      <td>1.0</td>\n",
              "      <td>12.0</td>\n",
              "      <td>NaN</td>\n",
              "      <td>0.0</td>\n",
              "      <td>0.0</td>\n",
              "      <td>0.0</td>\n",
              "      <td>0.0</td>\n",
              "      <td>0</td>\n",
              "    </tr>\n",
              "    <tr>\n",
              "      <th>4</th>\n",
              "      <td>2788329148</td>\n",
              "      <td>031</td>\n",
              "      <td>3.0</td>\n",
              "      <td>490.57</td>\n",
              "      <td>0.0</td>\n",
              "      <td>63</td>\n",
              "      <td>0</td>\n",
              "      <td>0</td>\n",
              "      <td>AL</td>\n",
              "      <td>1</td>\n",
              "      <td>NaN</td>\n",
              "      <td>NaN</td>\n",
              "      <td>NaN</td>\n",
              "      <td>NaN</td>\n",
              "      <td>NaN</td>\n",
              "      <td>NaN</td>\n",
              "      <td>NaN</td>\n",
              "      <td>NaN</td>\n",
              "      <td>NaN</td>\n",
              "      <td>NaN</td>\n",
              "      <td>NaN</td>\n",
              "      <td>NaN</td>\n",
              "      <td>NaN</td>\n",
              "      <td>NaN</td>\n",
              "      <td>NaN</td>\n",
              "      <td>NaN</td>\n",
              "      <td>0</td>\n",
              "    </tr>\n",
              "    <tr>\n",
              "      <th>...</th>\n",
              "      <td>...</td>\n",
              "      <td>...</td>\n",
              "      <td>...</td>\n",
              "      <td>...</td>\n",
              "      <td>...</td>\n",
              "      <td>...</td>\n",
              "      <td>...</td>\n",
              "      <td>...</td>\n",
              "      <td>...</td>\n",
              "      <td>...</td>\n",
              "      <td>...</td>\n",
              "      <td>...</td>\n",
              "      <td>...</td>\n",
              "      <td>...</td>\n",
              "      <td>...</td>\n",
              "      <td>...</td>\n",
              "      <td>...</td>\n",
              "      <td>...</td>\n",
              "      <td>...</td>\n",
              "      <td>...</td>\n",
              "      <td>...</td>\n",
              "      <td>...</td>\n",
              "      <td>...</td>\n",
              "      <td>...</td>\n",
              "      <td>...</td>\n",
              "      <td>...</td>\n",
              "      <td>...</td>\n",
              "    </tr>\n",
              "    <tr>\n",
              "      <th>34445715</th>\n",
              "      <td>3031714068</td>\n",
              "      <td>TABELA PRÓPRIA</td>\n",
              "      <td>5.0</td>\n",
              "      <td>212.94</td>\n",
              "      <td>0.0</td>\n",
              "      <td>0</td>\n",
              "      <td>0</td>\n",
              "      <td>1</td>\n",
              "      <td>TO</td>\n",
              "      <td>0</td>\n",
              "      <td>98151.0</td>\n",
              "      <td>84.0</td>\n",
              "      <td>F</td>\n",
              "      <td>520870.0</td>\n",
              "      <td>GRANDE</td>\n",
              "      <td>22.0</td>\n",
              "      <td>170210.0</td>\n",
              "      <td>1</td>\n",
              "      <td>1.0</td>\n",
              "      <td>1.0</td>\n",
              "      <td>12.0</td>\n",
              "      <td>J159</td>\n",
              "      <td>0.0</td>\n",
              "      <td>0.0</td>\n",
              "      <td>0.0</td>\n",
              "      <td>8.0</td>\n",
              "      <td>1</td>\n",
              "    </tr>\n",
              "    <tr>\n",
              "      <th>34445716</th>\n",
              "      <td>3023197219</td>\n",
              "      <td>TABELA PRÓPRIA</td>\n",
              "      <td>1.0</td>\n",
              "      <td>6.11</td>\n",
              "      <td>0.0</td>\n",
              "      <td>0</td>\n",
              "      <td>0</td>\n",
              "      <td>1</td>\n",
              "      <td>TO</td>\n",
              "      <td>1</td>\n",
              "      <td>NaN</td>\n",
              "      <td>NaN</td>\n",
              "      <td>NaN</td>\n",
              "      <td>NaN</td>\n",
              "      <td>NaN</td>\n",
              "      <td>NaN</td>\n",
              "      <td>NaN</td>\n",
              "      <td>NaN</td>\n",
              "      <td>NaN</td>\n",
              "      <td>NaN</td>\n",
              "      <td>NaN</td>\n",
              "      <td>NaN</td>\n",
              "      <td>NaN</td>\n",
              "      <td>NaN</td>\n",
              "      <td>NaN</td>\n",
              "      <td>NaN</td>\n",
              "      <td>0</td>\n",
              "    </tr>\n",
              "    <tr>\n",
              "      <th>34445717</th>\n",
              "      <td>2991565159</td>\n",
              "      <td>029</td>\n",
              "      <td>47.0</td>\n",
              "      <td>1614.46</td>\n",
              "      <td>1310.0</td>\n",
              "      <td>63</td>\n",
              "      <td>0</td>\n",
              "      <td>0</td>\n",
              "      <td>TO</td>\n",
              "      <td>1</td>\n",
              "      <td>NaN</td>\n",
              "      <td>NaN</td>\n",
              "      <td>NaN</td>\n",
              "      <td>NaN</td>\n",
              "      <td>NaN</td>\n",
              "      <td>NaN</td>\n",
              "      <td>NaN</td>\n",
              "      <td>NaN</td>\n",
              "      <td>NaN</td>\n",
              "      <td>NaN</td>\n",
              "      <td>NaN</td>\n",
              "      <td>NaN</td>\n",
              "      <td>NaN</td>\n",
              "      <td>NaN</td>\n",
              "      <td>NaN</td>\n",
              "      <td>NaN</td>\n",
              "      <td>0</td>\n",
              "    </tr>\n",
              "    <tr>\n",
              "      <th>34445718</th>\n",
              "      <td>2991565159</td>\n",
              "      <td>030</td>\n",
              "      <td>43.0</td>\n",
              "      <td>229.62</td>\n",
              "      <td>0.0</td>\n",
              "      <td>63</td>\n",
              "      <td>0</td>\n",
              "      <td>0</td>\n",
              "      <td>TO</td>\n",
              "      <td>0</td>\n",
              "      <td>1911.0</td>\n",
              "      <td>17.0</td>\n",
              "      <td>M</td>\n",
              "      <td>170210.0</td>\n",
              "      <td>PEQUENO</td>\n",
              "      <td>22.0</td>\n",
              "      <td>170210.0</td>\n",
              "      <td>1</td>\n",
              "      <td>2.0</td>\n",
              "      <td>1.0</td>\n",
              "      <td>12.0</td>\n",
              "      <td>NaN</td>\n",
              "      <td>1.0</td>\n",
              "      <td>0.0</td>\n",
              "      <td>0.0</td>\n",
              "      <td>1.0</td>\n",
              "      <td>0</td>\n",
              "    </tr>\n",
              "    <tr>\n",
              "      <th>34445719</th>\n",
              "      <td>2991565159</td>\n",
              "      <td>031</td>\n",
              "      <td>6.0</td>\n",
              "      <td>1049.85</td>\n",
              "      <td>0.0</td>\n",
              "      <td>63</td>\n",
              "      <td>0</td>\n",
              "      <td>0</td>\n",
              "      <td>TO</td>\n",
              "      <td>0</td>\n",
              "      <td>1911.0</td>\n",
              "      <td>17.0</td>\n",
              "      <td>M</td>\n",
              "      <td>170210.0</td>\n",
              "      <td>PEQUENO</td>\n",
              "      <td>22.0</td>\n",
              "      <td>170210.0</td>\n",
              "      <td>1</td>\n",
              "      <td>2.0</td>\n",
              "      <td>1.0</td>\n",
              "      <td>12.0</td>\n",
              "      <td>NaN</td>\n",
              "      <td>1.0</td>\n",
              "      <td>0.0</td>\n",
              "      <td>0.0</td>\n",
              "      <td>1.0</td>\n",
              "      <td>0</td>\n",
              "    </tr>\n",
              "  </tbody>\n",
              "</table>\n",
              "<p>34445720 rows × 27 columns</p>\n",
              "</div>"
            ],
            "text/plain": [
              "          #ID_EVENTO CD_TUSS_PROCEDIMENTO  ...  DIAS_INTERNACAO  QTD_DIAGNOSTICOS\n",
              "0         2734762035                  031  ...              0.0                 0\n",
              "1         3084104673             10103023  ...              2.0                 1\n",
              "2         2788329148                  029  ...              0.0                 0\n",
              "3         2788329148                  030  ...              0.0                 0\n",
              "4         2788329148                  031  ...              NaN                 0\n",
              "...              ...                  ...  ...              ...               ...\n",
              "34445715  3031714068       TABELA PRÓPRIA  ...              8.0                 1\n",
              "34445716  3023197219       TABELA PRÓPRIA  ...              NaN                 0\n",
              "34445717  2991565159                  029  ...              NaN                 0\n",
              "34445718  2991565159                  030  ...              1.0                 0\n",
              "34445719  2991565159                  031  ...              1.0                 0\n",
              "\n",
              "[34445720 rows x 27 columns]"
            ]
          },
          "metadata": {},
          "execution_count": 9
        }
      ]
    },
    {
      "cell_type": "markdown",
      "metadata": {
        "id": "ouu4OuvrF4Xv"
      },
      "source": [
        "#####Tratamento dos Dados Nulos"
      ]
    },
    {
      "cell_type": "code",
      "metadata": {
        "colab": {
          "base_uri": "https://localhost:8080/"
        },
        "id": "g6_vTHus8wO-",
        "outputId": "f09d311e-d9f1-41b9-8a57-600970c15cb9"
      },
      "source": [
        "# Dados estatísticos da feature nova.\n",
        "\n",
        "df_completo_filt['DIAS_INTERNACAO'].describe()"
      ],
      "execution_count": 10,
      "outputs": [
        {
          "output_type": "execute_result",
          "data": {
            "text/plain": [
              "count    2.699859e+07\n",
              "mean     1.048489e+01\n",
              "std      4.195449e+02\n",
              "min      0.000000e+00\n",
              "25%      1.000000e+00\n",
              "50%      2.000000e+00\n",
              "75%      6.000000e+00\n",
              "max      4.383000e+04\n",
              "Name: DIAS_INTERNACAO, dtype: float64"
            ]
          },
          "metadata": {},
          "execution_count": 10
        }
      ]
    },
    {
      "cell_type": "code",
      "metadata": {
        "id": "L7Yo4H9cuEch"
      },
      "source": [
        "# Substituindo os valores nulos pela mediana ou pela média ou pela moda ou por -1 ou por uma string.\n",
        "\n",
        "col_null = [['QT_PROCEDIMENTO','VL_PROCEDIMENTO','LG_PACOTE','IND_TABELA_PROPRIA','IDADE_BENEFICIARIO','NR_DIARIAS_UTI','NR_DIARIAS_ACOMPANHANTE'],\n",
        "            ['VL_PAGO_FORNECEDOR'],\n",
        "            ['TIPO_INTERNACAO','REGIME_INTERNACAO','MOTIVO_ENCERRAMENTO','CD_TABELA_REFERENCIA','DIAS_INTERNACAO','LG_VALOR_PREESTABELECIDO',\n",
        "             'CD_TUSS_PROCEDIMENTO','CD_MUNIC_PRESTADOR', 'CD_MUNIC_BENEFICIARIO','CD_MODALIDADE_OPERADORA', 'ID_PLANO', 'SEXO_BENEFICIARIO', 'CID_1', \n",
        "             'CARATER_ATENDIMENTO','PORTE_OPERADORA']]\n",
        "\n",
        "for i in range(0,len(col_null)):\n",
        "  for col in col_null[i]:\n",
        "    if i == 0:\n",
        "      df_completo_filt[col].fillna(df_completo_filt[col].median(),inplace=True)\n",
        "    elif i == 1:\n",
        "      df_completo_filt[col].fillna(df_completo_filt[col].mean(),inplace=True)\n",
        "    elif i == 2:\n",
        "      df_completo_filt[col].fillna(-1,inplace=True)"
      ],
      "execution_count": 11,
      "outputs": []
    },
    {
      "cell_type": "code",
      "metadata": {
        "colab": {
          "base_uri": "https://localhost:8080/"
        },
        "id": "7BGz0XyoxZ_g",
        "outputId": "f18bdfd6-8115-4c62-f5b3-1943f4be0e31"
      },
      "source": [
        "# Quantidade de valores nulos por coluna da base filtrada após o tratamento.\n",
        "\n",
        "df_completo_filt.isnull().sum()"
      ],
      "execution_count": 12,
      "outputs": [
        {
          "output_type": "execute_result",
          "data": {
            "text/plain": [
              "#ID_EVENTO                  0\n",
              "CD_TUSS_PROCEDIMENTO        0\n",
              "QT_PROCEDIMENTO             0\n",
              "VL_PROCEDIMENTO             0\n",
              "VL_PAGO_FORNECEDOR          0\n",
              "CD_TABELA_REFERENCIA        0\n",
              "LG_PACOTE                   0\n",
              "IND_TABELA_PROPRIA          0\n",
              "UF_PRESTADOR                0\n",
              "LG_OUTLIER                  0\n",
              "ID_PLANO                    0\n",
              "IDADE_BENEFICIARIO          0\n",
              "SEXO_BENEFICIARIO           0\n",
              "CD_MUNIC_BENEFICIARIO       0\n",
              "PORTE_OPERADORA             0\n",
              "CD_MODALIDADE_OPERADORA     0\n",
              "CD_MUNIC_PRESTADOR          0\n",
              "CARATER_ATENDIMENTO         0\n",
              "TIPO_INTERNACAO             0\n",
              "REGIME_INTERNACAO           0\n",
              "MOTIVO_ENCERRAMENTO         0\n",
              "CID_1                       0\n",
              "NR_DIARIAS_ACOMPANHANTE     0\n",
              "NR_DIARIAS_UTI              0\n",
              "LG_VALOR_PREESTABELECIDO    0\n",
              "DIAS_INTERNACAO             0\n",
              "QTD_DIAGNOSTICOS            0\n",
              "dtype: int64"
            ]
          },
          "metadata": {},
          "execution_count": 12
        }
      ]
    },
    {
      "cell_type": "markdown",
      "metadata": {
        "id": "XH7FJu8hIczc"
      },
      "source": [
        "#####Conversão dos Dados Categóricos em Numéricos"
      ]
    },
    {
      "cell_type": "code",
      "metadata": {
        "id": "3eA43sniJOhi"
      },
      "source": [
        "# Substituição dos códigos strings do caráter de atendimento pelos códigos\n",
        "# numéricos, de acordo com tabela 23 da TUSS.\n",
        "\n",
        "str_atend = ['E','U','1','2']\n",
        "int_atend = [1,2,1,2]\n",
        "\n",
        "df_completo_filt['CARATER_ATENDIMENTO'].replace(str_atend,int_atend,inplace=True)"
      ],
      "execution_count": 13,
      "outputs": []
    },
    {
      "cell_type": "code",
      "metadata": {
        "id": "v8f5tGMWunTz"
      },
      "source": [
        "# Conversão dos dados das colunas SEXO_BENEFICIARIO e CID_1 em strings.\n",
        "\n",
        "df_completo_filt['CARATER_ATENDIMENTO'] = df_completo_filt['CARATER_ATENDIMENTO'].astype(str)\n",
        "df_completo_filt['SEXO_BENEFICIARIO'] = df_completo_filt['SEXO_BENEFICIARIO'].astype(str)\n",
        "df_completo_filt['PORTE_OPERADORA'] = df_completo_filt['PORTE_OPERADORA'].astype(str)\n",
        "df_completo_filt['CID_1'] = df_completo_filt['CID_1'].astype(str)"
      ],
      "execution_count": 14,
      "outputs": []
    },
    {
      "cell_type": "code",
      "metadata": {
        "id": "DoaZWxptIckM"
      },
      "source": [
        "# Aplicação da classe LabelEncoder a algumas colunas.\n",
        "\n",
        "col_object = ['UF_PRESTADOR','CD_TUSS_PROCEDIMENTO','PORTE_OPERADORA','CID_1','SEXO_BENEFICIARIO','CARATER_ATENDIMENTO']\n",
        "\n",
        "le = LabelEncoder()\n",
        "for col in col_object:\n",
        "  df_completo_filt[col] = le.fit_transform(df_completo_filt[col])"
      ],
      "execution_count": 15,
      "outputs": []
    },
    {
      "cell_type": "code",
      "metadata": {
        "id": "67T6a4CCFM0j"
      },
      "source": [
        "# Aplicação da classe One-Hot-Encoder às classes PORTE_OPERADORA e SEXO_BENEFICIARIO.\n",
        "\n",
        "onehotencoder = OneHotEncoder()\n",
        "K = onehotencoder.fit_transform(df_completo_filt.PORTE_OPERADORA.values.reshape(-1,1)).toarray()\n",
        "W = onehotencoder.fit_transform(df_completo_filt.SEXO_BENEFICIARIO.values.reshape(-1,1)).toarray()\n",
        "Z = onehotencoder.fit_transform(df_completo_filt.CARATER_ATENDIMENTO.values.reshape(-1,1)).toarray()"
      ],
      "execution_count": 16,
      "outputs": []
    },
    {
      "cell_type": "code",
      "metadata": {
        "colab": {
          "base_uri": "https://localhost:8080/",
          "height": 241
        },
        "id": "4-OiRotV_n6g",
        "outputId": "8ff4c136-2d6f-4d39-f738-b6bc8750e13f"
      },
      "source": [
        "# Conversão dos arrays K e W OneHot para um Dataframe cada e adição das colunas desses \n",
        "# Dataframes (dfOneHot1 e dfOneHot2) ao nosso Dataframe filtrado (df_completo_filt).\n",
        "\n",
        "dfOneHot1 = pd.DataFrame(K, columns= ['PORTE_OPER_'+str(int(i)) for i in range(K.shape[1])])\n",
        "dfOneHot2 = pd.DataFrame(W, columns= ['SEXO_'+str(int(i)) for i in range(W.shape[1])])\n",
        "dfOneHot3 = pd.DataFrame(Z, columns= ['ATEND_'+str(int(i)) for i in range(Z.shape[1])])\n",
        "\n",
        "df_completo_filt['PORTE_GRANDE'] = dfOneHot1['PORTE_OPER_0']\n",
        "df_completo_filt['PORTE_MEDIO'] = dfOneHot1['PORTE_OPER_1']\n",
        "df_completo_filt['PORTE_PEQUENO'] = dfOneHot1['PORTE_OPER_2']\n",
        "df_completo_filt['PORTE_NAO_INFOR'] = dfOneHot1['PORTE_OPER_3']\n",
        "\n",
        "df_completo_filt['SEXO_F'] = dfOneHot2['SEXO_1']\n",
        "df_completo_filt['SEXO_M'] = dfOneHot2['SEXO_2']\n",
        "df_completo_filt['SEXO_NAO_INFOR'] = dfOneHot2['SEXO_0']\n",
        "\n",
        "df_completo_filt['ATEND_ELETIVO'] = dfOneHot3['ATEND_1']\n",
        "df_completo_filt['ATEND_URGENCIA'] = dfOneHot3['ATEND_2']\n",
        "df_completo_filt['ATEND_NAO_INFOR'] = dfOneHot3['ATEND_0']\n",
        "\n",
        "del df_completo_filt['PORTE_OPERADORA']\n",
        "del df_completo_filt['SEXO_BENEFICIARIO']\n",
        "del df_completo_filt['CARATER_ATENDIMENTO']\n",
        "\n",
        "print(df_completo_filt.shape)\n",
        "df_completo_filt.head()"
      ],
      "execution_count": 17,
      "outputs": [
        {
          "output_type": "stream",
          "name": "stdout",
          "text": [
            "(34445720, 34)\n"
          ]
        },
        {
          "output_type": "execute_result",
          "data": {
            "text/html": [
              "<div>\n",
              "<style scoped>\n",
              "    .dataframe tbody tr th:only-of-type {\n",
              "        vertical-align: middle;\n",
              "    }\n",
              "\n",
              "    .dataframe tbody tr th {\n",
              "        vertical-align: top;\n",
              "    }\n",
              "\n",
              "    .dataframe thead th {\n",
              "        text-align: right;\n",
              "    }\n",
              "</style>\n",
              "<table border=\"1\" class=\"dataframe\">\n",
              "  <thead>\n",
              "    <tr style=\"text-align: right;\">\n",
              "      <th></th>\n",
              "      <th>#ID_EVENTO</th>\n",
              "      <th>CD_TUSS_PROCEDIMENTO</th>\n",
              "      <th>QT_PROCEDIMENTO</th>\n",
              "      <th>VL_PROCEDIMENTO</th>\n",
              "      <th>VL_PAGO_FORNECEDOR</th>\n",
              "      <th>CD_TABELA_REFERENCIA</th>\n",
              "      <th>LG_PACOTE</th>\n",
              "      <th>IND_TABELA_PROPRIA</th>\n",
              "      <th>UF_PRESTADOR</th>\n",
              "      <th>LG_OUTLIER</th>\n",
              "      <th>ID_PLANO</th>\n",
              "      <th>IDADE_BENEFICIARIO</th>\n",
              "      <th>CD_MUNIC_BENEFICIARIO</th>\n",
              "      <th>CD_MODALIDADE_OPERADORA</th>\n",
              "      <th>CD_MUNIC_PRESTADOR</th>\n",
              "      <th>TIPO_INTERNACAO</th>\n",
              "      <th>REGIME_INTERNACAO</th>\n",
              "      <th>MOTIVO_ENCERRAMENTO</th>\n",
              "      <th>CID_1</th>\n",
              "      <th>NR_DIARIAS_ACOMPANHANTE</th>\n",
              "      <th>NR_DIARIAS_UTI</th>\n",
              "      <th>LG_VALOR_PREESTABELECIDO</th>\n",
              "      <th>DIAS_INTERNACAO</th>\n",
              "      <th>QTD_DIAGNOSTICOS</th>\n",
              "      <th>PORTE_GRANDE</th>\n",
              "      <th>PORTE_MEDIO</th>\n",
              "      <th>PORTE_PEQUENO</th>\n",
              "      <th>PORTE_NAO_INFOR</th>\n",
              "      <th>SEXO_F</th>\n",
              "      <th>SEXO_M</th>\n",
              "      <th>SEXO_NAO_INFOR</th>\n",
              "      <th>ATEND_ELETIVO</th>\n",
              "      <th>ATEND_URGENCIA</th>\n",
              "      <th>ATEND_NAO_INFOR</th>\n",
              "    </tr>\n",
              "  </thead>\n",
              "  <tbody>\n",
              "    <tr>\n",
              "      <th>0</th>\n",
              "      <td>2734762035</td>\n",
              "      <td>685</td>\n",
              "      <td>4.0</td>\n",
              "      <td>429.96</td>\n",
              "      <td>0.0</td>\n",
              "      <td>63</td>\n",
              "      <td>0</td>\n",
              "      <td>0</td>\n",
              "      <td>1</td>\n",
              "      <td>0</td>\n",
              "      <td>117789.0</td>\n",
              "      <td>44.0</td>\n",
              "      <td>270430.0</td>\n",
              "      <td>28.0</td>\n",
              "      <td>270430.0</td>\n",
              "      <td>2.0</td>\n",
              "      <td>1.0</td>\n",
              "      <td>12.0</td>\n",
              "      <td>0</td>\n",
              "      <td>0.0</td>\n",
              "      <td>0.0</td>\n",
              "      <td>0.0</td>\n",
              "      <td>0.0</td>\n",
              "      <td>0</td>\n",
              "      <td>0.0</td>\n",
              "      <td>1.0</td>\n",
              "      <td>0.0</td>\n",
              "      <td>0.0</td>\n",
              "      <td>0.0</td>\n",
              "      <td>1.0</td>\n",
              "      <td>0.0</td>\n",
              "      <td>1.0</td>\n",
              "      <td>0.0</td>\n",
              "      <td>0.0</td>\n",
              "    </tr>\n",
              "    <tr>\n",
              "      <th>1</th>\n",
              "      <td>3084104673</td>\n",
              "      <td>848</td>\n",
              "      <td>1.0</td>\n",
              "      <td>282.56</td>\n",
              "      <td>0.0</td>\n",
              "      <td>22</td>\n",
              "      <td>0</td>\n",
              "      <td>0</td>\n",
              "      <td>1</td>\n",
              "      <td>0</td>\n",
              "      <td>124053.0</td>\n",
              "      <td>34.0</td>\n",
              "      <td>230440.0</td>\n",
              "      <td>28.0</td>\n",
              "      <td>270730.0</td>\n",
              "      <td>3.0</td>\n",
              "      <td>1.0</td>\n",
              "      <td>11.0</td>\n",
              "      <td>6225</td>\n",
              "      <td>0.0</td>\n",
              "      <td>0.0</td>\n",
              "      <td>0.0</td>\n",
              "      <td>2.0</td>\n",
              "      <td>1</td>\n",
              "      <td>0.0</td>\n",
              "      <td>1.0</td>\n",
              "      <td>0.0</td>\n",
              "      <td>0.0</td>\n",
              "      <td>1.0</td>\n",
              "      <td>0.0</td>\n",
              "      <td>0.0</td>\n",
              "      <td>0.0</td>\n",
              "      <td>1.0</td>\n",
              "      <td>0.0</td>\n",
              "    </tr>\n",
              "    <tr>\n",
              "      <th>2</th>\n",
              "      <td>2788329148</td>\n",
              "      <td>682</td>\n",
              "      <td>83.0</td>\n",
              "      <td>563.74</td>\n",
              "      <td>0.0</td>\n",
              "      <td>63</td>\n",
              "      <td>0</td>\n",
              "      <td>0</td>\n",
              "      <td>1</td>\n",
              "      <td>0</td>\n",
              "      <td>94973.0</td>\n",
              "      <td>43.0</td>\n",
              "      <td>270430.0</td>\n",
              "      <td>22.0</td>\n",
              "      <td>270430.0</td>\n",
              "      <td>2.0</td>\n",
              "      <td>1.0</td>\n",
              "      <td>12.0</td>\n",
              "      <td>0</td>\n",
              "      <td>0.0</td>\n",
              "      <td>0.0</td>\n",
              "      <td>0.0</td>\n",
              "      <td>0.0</td>\n",
              "      <td>0</td>\n",
              "      <td>0.0</td>\n",
              "      <td>1.0</td>\n",
              "      <td>0.0</td>\n",
              "      <td>0.0</td>\n",
              "      <td>1.0</td>\n",
              "      <td>0.0</td>\n",
              "      <td>0.0</td>\n",
              "      <td>1.0</td>\n",
              "      <td>0.0</td>\n",
              "      <td>0.0</td>\n",
              "    </tr>\n",
              "    <tr>\n",
              "      <th>3</th>\n",
              "      <td>2788329148</td>\n",
              "      <td>684</td>\n",
              "      <td>23.0</td>\n",
              "      <td>220.20</td>\n",
              "      <td>0.0</td>\n",
              "      <td>63</td>\n",
              "      <td>0</td>\n",
              "      <td>0</td>\n",
              "      <td>1</td>\n",
              "      <td>0</td>\n",
              "      <td>94973.0</td>\n",
              "      <td>43.0</td>\n",
              "      <td>270430.0</td>\n",
              "      <td>22.0</td>\n",
              "      <td>270430.0</td>\n",
              "      <td>2.0</td>\n",
              "      <td>1.0</td>\n",
              "      <td>12.0</td>\n",
              "      <td>0</td>\n",
              "      <td>0.0</td>\n",
              "      <td>0.0</td>\n",
              "      <td>0.0</td>\n",
              "      <td>0.0</td>\n",
              "      <td>0</td>\n",
              "      <td>0.0</td>\n",
              "      <td>1.0</td>\n",
              "      <td>0.0</td>\n",
              "      <td>0.0</td>\n",
              "      <td>1.0</td>\n",
              "      <td>0.0</td>\n",
              "      <td>0.0</td>\n",
              "      <td>1.0</td>\n",
              "      <td>0.0</td>\n",
              "      <td>0.0</td>\n",
              "    </tr>\n",
              "    <tr>\n",
              "      <th>4</th>\n",
              "      <td>2788329148</td>\n",
              "      <td>685</td>\n",
              "      <td>3.0</td>\n",
              "      <td>490.57</td>\n",
              "      <td>0.0</td>\n",
              "      <td>63</td>\n",
              "      <td>0</td>\n",
              "      <td>0</td>\n",
              "      <td>1</td>\n",
              "      <td>1</td>\n",
              "      <td>-1.0</td>\n",
              "      <td>49.0</td>\n",
              "      <td>-1.0</td>\n",
              "      <td>-1.0</td>\n",
              "      <td>-1.0</td>\n",
              "      <td>-1.0</td>\n",
              "      <td>-1.0</td>\n",
              "      <td>-1.0</td>\n",
              "      <td>0</td>\n",
              "      <td>0.0</td>\n",
              "      <td>0.0</td>\n",
              "      <td>-1.0</td>\n",
              "      <td>-1.0</td>\n",
              "      <td>0</td>\n",
              "      <td>1.0</td>\n",
              "      <td>0.0</td>\n",
              "      <td>0.0</td>\n",
              "      <td>0.0</td>\n",
              "      <td>0.0</td>\n",
              "      <td>0.0</td>\n",
              "      <td>1.0</td>\n",
              "      <td>0.0</td>\n",
              "      <td>0.0</td>\n",
              "      <td>1.0</td>\n",
              "    </tr>\n",
              "  </tbody>\n",
              "</table>\n",
              "</div>"
            ],
            "text/plain": [
              "   #ID_EVENTO  CD_TUSS_PROCEDIMENTO  ...  ATEND_URGENCIA  ATEND_NAO_INFOR\n",
              "0  2734762035                   685  ...             0.0              0.0\n",
              "1  3084104673                   848  ...             1.0              0.0\n",
              "2  2788329148                   682  ...             0.0              0.0\n",
              "3  2788329148                   684  ...             0.0              0.0\n",
              "4  2788329148                   685  ...             0.0              1.0\n",
              "\n",
              "[5 rows x 34 columns]"
            ]
          },
          "metadata": {},
          "execution_count": 17
        }
      ]
    },
    {
      "cell_type": "code",
      "metadata": {
        "colab": {
          "base_uri": "https://localhost:8080/"
        },
        "id": "1hoBBAGOK5Z2",
        "outputId": "93a7b3f0-0b9c-4c08-9db8-44e9a09fbea3"
      },
      "source": [
        "df_completo_filt.info()"
      ],
      "execution_count": 18,
      "outputs": [
        {
          "output_type": "stream",
          "name": "stdout",
          "text": [
            "<class 'pandas.core.frame.DataFrame'>\n",
            "Int64Index: 34445720 entries, 0 to 34445719\n",
            "Data columns (total 34 columns):\n",
            " #   Column                    Dtype  \n",
            "---  ------                    -----  \n",
            " 0   #ID_EVENTO                int64  \n",
            " 1   CD_TUSS_PROCEDIMENTO      int64  \n",
            " 2   QT_PROCEDIMENTO           float64\n",
            " 3   VL_PROCEDIMENTO           float64\n",
            " 4   VL_PAGO_FORNECEDOR        float64\n",
            " 5   CD_TABELA_REFERENCIA      int64  \n",
            " 6   LG_PACOTE                 int64  \n",
            " 7   IND_TABELA_PROPRIA        int64  \n",
            " 8   UF_PRESTADOR              int64  \n",
            " 9   LG_OUTLIER                int64  \n",
            " 10  ID_PLANO                  float64\n",
            " 11  IDADE_BENEFICIARIO        float64\n",
            " 12  CD_MUNIC_BENEFICIARIO     float64\n",
            " 13  CD_MODALIDADE_OPERADORA   float64\n",
            " 14  CD_MUNIC_PRESTADOR        float64\n",
            " 15  TIPO_INTERNACAO           float64\n",
            " 16  REGIME_INTERNACAO         float64\n",
            " 17  MOTIVO_ENCERRAMENTO       float64\n",
            " 18  CID_1                     int64  \n",
            " 19  NR_DIARIAS_ACOMPANHANTE   float64\n",
            " 20  NR_DIARIAS_UTI            float64\n",
            " 21  LG_VALOR_PREESTABELECIDO  float64\n",
            " 22  DIAS_INTERNACAO           float64\n",
            " 23  QTD_DIAGNOSTICOS          int64  \n",
            " 24  PORTE_GRANDE              float64\n",
            " 25  PORTE_MEDIO               float64\n",
            " 26  PORTE_PEQUENO             float64\n",
            " 27  PORTE_NAO_INFOR           float64\n",
            " 28  SEXO_F                    float64\n",
            " 29  SEXO_M                    float64\n",
            " 30  SEXO_NAO_INFOR            float64\n",
            " 31  ATEND_ELETIVO             float64\n",
            " 32  ATEND_URGENCIA            float64\n",
            " 33  ATEND_NAO_INFOR           float64\n",
            "dtypes: float64(25), int64(9)\n",
            "memory usage: 9.0 GB\n"
          ]
        }
      ]
    },
    {
      "cell_type": "markdown",
      "metadata": {
        "id": "6tgIlsbj7JcQ"
      },
      "source": [
        "#####Normalização dos Dados"
      ]
    },
    {
      "cell_type": "code",
      "metadata": {
        "id": "V8mVfx7UW7Wd"
      },
      "source": [
        "subset = df_completo_filt.sample(frac=0.25)"
      ],
      "execution_count": null,
      "outputs": []
    },
    {
      "cell_type": "code",
      "metadata": {
        "id": "C7r4zI1YIbAR"
      },
      "source": [
        "# Uso de fórmulas matemáticas para calcular a normalização, usando a amplitude dos dados.\n",
        "# Método semelhante é usado na classe MinMaxScaler do sklearn.\n",
        "\n",
        "X=[]\n",
        "\n",
        "for t in df_completo_filt.columns:\n",
        "  Min = df_completo_filt[t].min()\n",
        "  Max = df_completo_filt[t].max()\n",
        "  Ampl = Max-Min\n",
        "  if Ampl == 0:\n",
        "    Ampl = 1\n",
        "  array = ((df_completo_filt[t].values) - Min) / Ampl\n",
        "  X.append(array)\n",
        "\n",
        "np.set_printoptions(precision=3)\n",
        "print(X)"
      ],
      "execution_count": null,
      "outputs": []
    },
    {
      "cell_type": "code",
      "metadata": {
        "id": "8lU1_Da40P3F"
      },
      "source": [
        "# Uso de fórmulas matemáticas para calcular a normalização, usando a distância interquartil.\n",
        "# Método semelhante é usado na classe RobustScaler do sklearn.\n",
        "\n",
        "X=[]\n",
        "\n",
        "for t in df_completo_filt.columns:\n",
        "  Q1 = df_completo_filt[t].quantile(0.25)\n",
        "  Q3 = df_completo_filt[t].quantile(0.75)\n",
        "  IQR = Q3 - Q1 # intervalo interquartílico\n",
        "  if IQR == 0:\n",
        "    IQR = 1\n",
        "  array = ((df_completo_filt[t].values) - Q1) / IQR\n",
        "  X.append(array)\n",
        "\n",
        "np.set_printoptions(precision=3)\n",
        "print(X)"
      ],
      "execution_count": null,
      "outputs": []
    },
    {
      "cell_type": "code",
      "metadata": {
        "id": "n1oRoUvDGdXC"
      },
      "source": [
        "# Normalização dos dados utilizando-se a classe Normalizer do sklearn.\n",
        "\n",
        "# obtendo os valores do dataset\n",
        "X = df_completo_filt.values\n",
        "\n",
        "# normaliza os dados\n",
        "scaler = Normalizer() \n",
        "normalizedX = scaler.fit_transform(X)\n",
        "\n",
        "print('DADOS NORMALIZADOS\\n')\n",
        "np.set_printoptions(precision=3)\n",
        "print(normalizedX)\n",
        "\n",
        "# Para os demais casos, basta substituir scaler = Normalizer() por\n",
        "# scaler = RobustScaler() ou StandardScaler() ou MinMaxScaler()."
      ],
      "execution_count": null,
      "outputs": []
    }
  ]
}