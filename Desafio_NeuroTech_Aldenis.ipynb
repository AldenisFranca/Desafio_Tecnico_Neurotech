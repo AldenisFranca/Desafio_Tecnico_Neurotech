{
  "nbformat": 4,
  "nbformat_minor": 0,
  "metadata": {
    "accelerator": "GPU",
    "colab": {
      "name": "Desafio_NeuroTech_Aldenis.ipynb",
      "provenance": [],
      "collapsed_sections": [
        "pL9dCAdfDYRA",
        "8SOruI-ADeKj",
        "ZOe2h6_6exJC",
        "erE4xcsafWga",
        "TljPpD04flKH",
        "Ota1itQejzdp",
        "A7pPodyFgLE2",
        "E_l35R2SGfjS",
        "x9oh7EfSLzwT",
        "Ru02nlU72B6_",
        "ouu4OuvrF4Xv",
        "XH7FJu8hIczc",
        "6tgIlsbj7JcQ"
      ],
      "machine_shape": "hm"
    },
    "kernelspec": {
      "display_name": "Python 3",
      "name": "python3"
    },
    "language_info": {
      "name": "python"
    }
  },
  "cells": [
    {
      "cell_type": "markdown",
      "metadata": {
        "id": "UDrzv8M_C-RG"
      },
      "source": [
        "#Case - Engenharia de Dados - NEUROTECH\n",
        "\n",
        "###Candidato: Aldenis Everton Alves Guilherme de França"
      ]
    },
    {
      "cell_type": "markdown",
      "metadata": {
        "id": "pL9dCAdfDYRA"
      },
      "source": [
        "###Importação de Bibliotecas"
      ]
    },
    {
      "cell_type": "code",
      "metadata": {
        "id": "dENffptn_aGd"
      },
      "source": [
        "# Bibliotecas para modelagem de dados\n",
        "import pandas as pd\n",
        "import numpy as np\n",
        "import glob\n",
        "\n",
        "# Bibliotecas para análises gráficas\n",
        "import matplotlib.pyplot as plt\n",
        "import seaborn as sns\n",
        "\n",
        "# Bibliotecas/classes para tratamento dos dados categóricos\n",
        "from sklearn.preprocessing import LabelEncoder\n",
        "from sklearn.preprocessing import OneHotEncoder\n",
        "\n",
        "# Bibliotecas/classes para normalização dos dados\n",
        "from sklearn.preprocessing import MinMaxScaler\n",
        "from sklearn.preprocessing import Normalizer\n",
        "from sklearn.preprocessing import StandardScaler\n",
        "from sklearn.preprocessing import RobustScaler "
      ],
      "execution_count": 1,
      "outputs": []
    },
    {
      "cell_type": "markdown",
      "metadata": {
        "id": "8SOruI-ADeKj"
      },
      "source": [
        "###Importação da Base de Dados"
      ]
    },
    {
      "cell_type": "code",
      "metadata": {
        "colab": {
          "base_uri": "https://localhost:8080/"
        },
        "id": "UoU0zpuXqkXR",
        "outputId": "92dff227-854e-4687-dc4c-468481a5bf92"
      },
      "source": [
        "# Leitura e concatenação das 648 planilhas da base de dados.\n",
        "\n",
        "path = r'drive/MyDrive/Desafio_NeuroTech'\n",
        "files_cons = glob.glob(path + '/*CONS.csv')\n",
        "files_det = glob.glob(path + '/*DET.csv')\n",
        "\n",
        "list_cons = []\n",
        "list_det = []\n",
        "\n",
        "for i in files_cons:\n",
        "  dataset_cons = pd.read_csv(i, sep=',', header=0, encoding='ISO-8859-1')\n",
        "  list_cons.append(dataset_cons)\n",
        "\n",
        "for j in files_det:\n",
        "  dataset_det = pd.read_csv(j, sep=',', header=0, encoding='ISO-8859-1')\n",
        "  list_det.append(dataset_det)\n",
        "\n",
        "df_cons = pd.concat(list_cons, axis=0, ignore_index=True)\n",
        "df_det = pd.concat(list_det, axis=0, ignore_index=True)"
      ],
      "execution_count": 2,
      "outputs": [
        {
          "output_type": "stream",
          "name": "stderr",
          "text": [
            "/usr/local/lib/python3.7/dist-packages/IPython/core/interactiveshell.py:2718: DtypeWarning: Columns (19) have mixed types.Specify dtype option on import or set low_memory=False.\n",
            "  interactivity=interactivity, compiler=compiler, result=result)\n",
            "/usr/local/lib/python3.7/dist-packages/IPython/core/interactiveshell.py:2718: DtypeWarning: Columns (18) have mixed types.Specify dtype option on import or set low_memory=False.\n",
            "  interactivity=interactivity, compiler=compiler, result=result)\n",
            "/usr/local/lib/python3.7/dist-packages/IPython/core/interactiveshell.py:2718: DtypeWarning: Columns (18,19) have mixed types.Specify dtype option on import or set low_memory=False.\n",
            "  interactivity=interactivity, compiler=compiler, result=result)\n"
          ]
        }
      ]
    },
    {
      "cell_type": "markdown",
      "metadata": {
        "id": "ZOe2h6_6exJC"
      },
      "source": [
        "###Construção da Tabela Única"
      ]
    },
    {
      "cell_type": "code",
      "metadata": {
        "id": "K5KrqGR-oEWp"
      },
      "source": [
        "# Integração dos dados das tabelas CONS e DET.\n",
        "df_completo = pd.merge(df_det, df_cons, how='outer', on=['#ID_EVENTO','UF_PRESTADOR','LG_OUTLIER'])"
      ],
      "execution_count": 3,
      "outputs": []
    },
    {
      "cell_type": "markdown",
      "metadata": {
        "id": "erE4xcsafWga"
      },
      "source": [
        "###Análise Exploratória dos Dados"
      ]
    },
    {
      "cell_type": "markdown",
      "metadata": {
        "id": "TljPpD04flKH"
      },
      "source": [
        "#####Dimensão dos Dados"
      ]
    },
    {
      "cell_type": "code",
      "metadata": {
        "colab": {
          "base_uri": "https://localhost:8080/"
        },
        "id": "Vj7j04qxEKsy",
        "outputId": "98f6f3d7-4d09-415b-e4ad-5bb5db631637"
      },
      "source": [
        "# Especificação do número de linhas e colunas da tabela consolidada.\n",
        "print(f'QUANTIDADE DE LINHAS: {df_completo.shape[0]}\\n')\n",
        "print(f'QUANTIDADE DE COLUNAS: {df_completo.shape[1]}')"
      ],
      "execution_count": 11,
      "outputs": [
        {
          "output_type": "stream",
          "name": "stdout",
          "text": [
            "QUANTIDADE DE LINHAS: 34674473\n",
            "\n",
            "QUANTIDADE DE COLUNAS: 32\n"
          ]
        }
      ]
    },
    {
      "cell_type": "markdown",
      "metadata": {
        "id": "Ota1itQejzdp"
      },
      "source": [
        "#####Apresentação dos Dados"
      ]
    },
    {
      "cell_type": "code",
      "metadata": {
        "colab": {
          "base_uri": "https://localhost:8080/",
          "height": 394
        },
        "id": "UV-GXYZUj5df",
        "outputId": "f4fe96f8-8f92-4686-ac4a-6efff788fc59"
      },
      "source": [
        "# Visualização parcial da tabela consolidada.\n",
        "df_completo.head()"
      ],
      "execution_count": 12,
      "outputs": [
        {
          "output_type": "execute_result",
          "data": {
            "text/html": [
              "<div>\n",
              "<style scoped>\n",
              "    .dataframe tbody tr th:only-of-type {\n",
              "        vertical-align: middle;\n",
              "    }\n",
              "\n",
              "    .dataframe tbody tr th {\n",
              "        vertical-align: top;\n",
              "    }\n",
              "\n",
              "    .dataframe thead th {\n",
              "        text-align: right;\n",
              "    }\n",
              "</style>\n",
              "<table border=\"1\" class=\"dataframe\">\n",
              "  <thead>\n",
              "    <tr style=\"text-align: right;\">\n",
              "      <th></th>\n",
              "      <th>#ID_EVENTO</th>\n",
              "      <th>CD_TUSS_PROCEDIMENTO</th>\n",
              "      <th>QT_PROCEDIMENTO</th>\n",
              "      <th>VL_PROCEDIMENTO</th>\n",
              "      <th>VL_PAGO_FORNECEDOR</th>\n",
              "      <th>CD_TABELA_REFERENCIA</th>\n",
              "      <th>LG_PACOTE</th>\n",
              "      <th>IND_TABELA_PROPRIA</th>\n",
              "      <th>DT_INICIO_EVENTO</th>\n",
              "      <th>UF_PRESTADOR</th>\n",
              "      <th>LG_OUTLIER</th>\n",
              "      <th>ID_PLANO</th>\n",
              "      <th>IDADE_BENEFICIARIO</th>\n",
              "      <th>SEXO_BENEFICIARIO</th>\n",
              "      <th>CD_MUNIC_BENEFICIARIO</th>\n",
              "      <th>PORTE_OPERADORA</th>\n",
              "      <th>CD_MODALIDADE_OPERADORA</th>\n",
              "      <th>MODALIDADE_OPERADORA</th>\n",
              "      <th>CD_MUNIC_PRESTADOR</th>\n",
              "      <th>DT_INTERNACAO</th>\n",
              "      <th>DT_SAIDA_INTERNACAO</th>\n",
              "      <th>CARATER_ATENDIMENTO</th>\n",
              "      <th>TIPO_INTERNACAO</th>\n",
              "      <th>REGIME_INTERNACAO</th>\n",
              "      <th>MOTIVO_ENCERRAMENTO</th>\n",
              "      <th>CID_1</th>\n",
              "      <th>CID_2</th>\n",
              "      <th>CID_3</th>\n",
              "      <th>CID_4</th>\n",
              "      <th>NR_DIARIAS_ACOMPANHANTE</th>\n",
              "      <th>NR_DIARIAS_UTI</th>\n",
              "      <th>LG_VALOR_PREESTABELECIDO</th>\n",
              "    </tr>\n",
              "  </thead>\n",
              "  <tbody>\n",
              "    <tr>\n",
              "      <th>0</th>\n",
              "      <td>2734762035</td>\n",
              "      <td>031</td>\n",
              "      <td>4.0</td>\n",
              "      <td>429.96</td>\n",
              "      <td>0.0</td>\n",
              "      <td>63.0</td>\n",
              "      <td>0.0</td>\n",
              "      <td>0.0</td>\n",
              "      <td>01/07/2019</td>\n",
              "      <td>AL</td>\n",
              "      <td>0</td>\n",
              "      <td>117789.0</td>\n",
              "      <td>44.0</td>\n",
              "      <td>M</td>\n",
              "      <td>270430.0</td>\n",
              "      <td>GRANDE</td>\n",
              "      <td>28.0</td>\n",
              "      <td>Seguradora Especializada Em Saúde</td>\n",
              "      <td>270430.0</td>\n",
              "      <td>01/07/2019</td>\n",
              "      <td>01/07/2019</td>\n",
              "      <td>1</td>\n",
              "      <td>2.0</td>\n",
              "      <td>1.0</td>\n",
              "      <td>12.0</td>\n",
              "      <td>NaN</td>\n",
              "      <td>NaN</td>\n",
              "      <td>NaN</td>\n",
              "      <td>NaN</td>\n",
              "      <td>0.0</td>\n",
              "      <td>0.0</td>\n",
              "      <td>0.0</td>\n",
              "    </tr>\n",
              "    <tr>\n",
              "      <th>1</th>\n",
              "      <td>2734762035</td>\n",
              "      <td>30710030</td>\n",
              "      <td>1.0</td>\n",
              "      <td>231.84</td>\n",
              "      <td>0.0</td>\n",
              "      <td>22.0</td>\n",
              "      <td>0.0</td>\n",
              "      <td>0.0</td>\n",
              "      <td>01/07/2019</td>\n",
              "      <td>AL</td>\n",
              "      <td>0</td>\n",
              "      <td>117789.0</td>\n",
              "      <td>44.0</td>\n",
              "      <td>M</td>\n",
              "      <td>270430.0</td>\n",
              "      <td>GRANDE</td>\n",
              "      <td>28.0</td>\n",
              "      <td>Seguradora Especializada Em Saúde</td>\n",
              "      <td>270430.0</td>\n",
              "      <td>01/07/2019</td>\n",
              "      <td>01/07/2019</td>\n",
              "      <td>1</td>\n",
              "      <td>2.0</td>\n",
              "      <td>1.0</td>\n",
              "      <td>12.0</td>\n",
              "      <td>NaN</td>\n",
              "      <td>NaN</td>\n",
              "      <td>NaN</td>\n",
              "      <td>NaN</td>\n",
              "      <td>0.0</td>\n",
              "      <td>0.0</td>\n",
              "      <td>0.0</td>\n",
              "    </tr>\n",
              "    <tr>\n",
              "      <th>2</th>\n",
              "      <td>2734762035</td>\n",
              "      <td>TABELA PRÓPRIA</td>\n",
              "      <td>3.0</td>\n",
              "      <td>1623.63</td>\n",
              "      <td>0.0</td>\n",
              "      <td>0.0</td>\n",
              "      <td>0.0</td>\n",
              "      <td>1.0</td>\n",
              "      <td>01/07/2019</td>\n",
              "      <td>AL</td>\n",
              "      <td>0</td>\n",
              "      <td>117789.0</td>\n",
              "      <td>44.0</td>\n",
              "      <td>M</td>\n",
              "      <td>270430.0</td>\n",
              "      <td>GRANDE</td>\n",
              "      <td>28.0</td>\n",
              "      <td>Seguradora Especializada Em Saúde</td>\n",
              "      <td>270430.0</td>\n",
              "      <td>01/07/2019</td>\n",
              "      <td>01/07/2019</td>\n",
              "      <td>1</td>\n",
              "      <td>2.0</td>\n",
              "      <td>1.0</td>\n",
              "      <td>12.0</td>\n",
              "      <td>NaN</td>\n",
              "      <td>NaN</td>\n",
              "      <td>NaN</td>\n",
              "      <td>NaN</td>\n",
              "      <td>0.0</td>\n",
              "      <td>0.0</td>\n",
              "      <td>0.0</td>\n",
              "    </tr>\n",
              "    <tr>\n",
              "      <th>3</th>\n",
              "      <td>3084104673</td>\n",
              "      <td>10103023</td>\n",
              "      <td>1.0</td>\n",
              "      <td>282.56</td>\n",
              "      <td>0.0</td>\n",
              "      <td>22.0</td>\n",
              "      <td>0.0</td>\n",
              "      <td>0.0</td>\n",
              "      <td>01/07/2019</td>\n",
              "      <td>AL</td>\n",
              "      <td>0</td>\n",
              "      <td>124053.0</td>\n",
              "      <td>34.0</td>\n",
              "      <td>F</td>\n",
              "      <td>230440.0</td>\n",
              "      <td>GRANDE</td>\n",
              "      <td>28.0</td>\n",
              "      <td>Seguradora Especializada Em Saúde</td>\n",
              "      <td>270730.0</td>\n",
              "      <td>01/07/2019</td>\n",
              "      <td>03/07/2019</td>\n",
              "      <td>2</td>\n",
              "      <td>3.0</td>\n",
              "      <td>1.0</td>\n",
              "      <td>11.0</td>\n",
              "      <td>O420</td>\n",
              "      <td>NaN</td>\n",
              "      <td>NaN</td>\n",
              "      <td>NaN</td>\n",
              "      <td>0.0</td>\n",
              "      <td>0.0</td>\n",
              "      <td>0.0</td>\n",
              "    </tr>\n",
              "    <tr>\n",
              "      <th>4</th>\n",
              "      <td>3084104673</td>\n",
              "      <td>10103015</td>\n",
              "      <td>1.0</td>\n",
              "      <td>191.97</td>\n",
              "      <td>0.0</td>\n",
              "      <td>22.0</td>\n",
              "      <td>0.0</td>\n",
              "      <td>0.0</td>\n",
              "      <td>01/07/2019</td>\n",
              "      <td>AL</td>\n",
              "      <td>0</td>\n",
              "      <td>124053.0</td>\n",
              "      <td>34.0</td>\n",
              "      <td>F</td>\n",
              "      <td>230440.0</td>\n",
              "      <td>GRANDE</td>\n",
              "      <td>28.0</td>\n",
              "      <td>Seguradora Especializada Em Saúde</td>\n",
              "      <td>270730.0</td>\n",
              "      <td>01/07/2019</td>\n",
              "      <td>03/07/2019</td>\n",
              "      <td>2</td>\n",
              "      <td>3.0</td>\n",
              "      <td>1.0</td>\n",
              "      <td>11.0</td>\n",
              "      <td>O420</td>\n",
              "      <td>NaN</td>\n",
              "      <td>NaN</td>\n",
              "      <td>NaN</td>\n",
              "      <td>0.0</td>\n",
              "      <td>0.0</td>\n",
              "      <td>0.0</td>\n",
              "    </tr>\n",
              "  </tbody>\n",
              "</table>\n",
              "</div>"
            ],
            "text/plain": [
              "   #ID_EVENTO CD_TUSS_PROCEDIMENTO  ...  NR_DIARIAS_UTI  LG_VALOR_PREESTABELECIDO\n",
              "0  2734762035                  031  ...             0.0                       0.0\n",
              "1  2734762035             30710030  ...             0.0                       0.0\n",
              "2  2734762035       TABELA PRÓPRIA  ...             0.0                       0.0\n",
              "3  3084104673             10103023  ...             0.0                       0.0\n",
              "4  3084104673             10103015  ...             0.0                       0.0\n",
              "\n",
              "[5 rows x 32 columns]"
            ]
          },
          "metadata": {},
          "execution_count": 12
        }
      ]
    },
    {
      "cell_type": "code",
      "metadata": {
        "colab": {
          "base_uri": "https://localhost:8080/"
        },
        "id": "5_EcYDqhWxLp",
        "outputId": "e55429a7-e4a8-4b80-e2fc-dad92658d497"
      },
      "source": [
        "# Nomes das colunas da base consolidada.\n",
        "df_completo.columns"
      ],
      "execution_count": 13,
      "outputs": [
        {
          "output_type": "execute_result",
          "data": {
            "text/plain": [
              "Index(['#ID_EVENTO', 'CD_TUSS_PROCEDIMENTO', 'QT_PROCEDIMENTO',\n",
              "       'VL_PROCEDIMENTO', 'VL_PAGO_FORNECEDOR', 'CD_TABELA_REFERENCIA',\n",
              "       'LG_PACOTE', 'IND_TABELA_PROPRIA', 'DT_INICIO_EVENTO', 'UF_PRESTADOR',\n",
              "       'LG_OUTLIER', 'ID_PLANO', 'IDADE_BENEFICIARIO', 'SEXO_BENEFICIARIO',\n",
              "       'CD_MUNIC_BENEFICIARIO', 'PORTE_OPERADORA', 'CD_MODALIDADE_OPERADORA',\n",
              "       'MODALIDADE_OPERADORA', 'CD_MUNIC_PRESTADOR', 'DT_INTERNACAO',\n",
              "       'DT_SAIDA_INTERNACAO', 'CARATER_ATENDIMENTO', 'TIPO_INTERNACAO',\n",
              "       'REGIME_INTERNACAO', 'MOTIVO_ENCERRAMENTO', 'CID_1', 'CID_2', 'CID_3',\n",
              "       'CID_4', 'NR_DIARIAS_ACOMPANHANTE', 'NR_DIARIAS_UTI',\n",
              "       'LG_VALOR_PREESTABELECIDO'],\n",
              "      dtype='object')"
            ]
          },
          "metadata": {},
          "execution_count": 13
        }
      ]
    },
    {
      "cell_type": "markdown",
      "metadata": {
        "id": "A7pPodyFgLE2"
      },
      "source": [
        "#####Informações Estatísticas dos Dados"
      ]
    },
    {
      "cell_type": "code",
      "metadata": {
        "colab": {
          "base_uri": "https://localhost:8080/",
          "height": 410
        },
        "id": "W-d8rC9jTbI1",
        "outputId": "908cdf96-54d1-4f08-ff5f-0d211eadee8b"
      },
      "source": [
        "# Métricas estatísticas da tabela CONS.\n",
        "df_cons.describe(include='all')"
      ],
      "execution_count": 4,
      "outputs": [
        {
          "output_type": "execute_result",
          "data": {
            "text/html": [
              "<div>\n",
              "<style scoped>\n",
              "    .dataframe tbody tr th:only-of-type {\n",
              "        vertical-align: middle;\n",
              "    }\n",
              "\n",
              "    .dataframe tbody tr th {\n",
              "        vertical-align: top;\n",
              "    }\n",
              "\n",
              "    .dataframe thead th {\n",
              "        text-align: right;\n",
              "    }\n",
              "</style>\n",
              "<table border=\"1\" class=\"dataframe\">\n",
              "  <thead>\n",
              "    <tr style=\"text-align: right;\">\n",
              "      <th></th>\n",
              "      <th>#ID_EVENTO</th>\n",
              "      <th>ID_PLANO</th>\n",
              "      <th>IDADE_BENEFICIARIO</th>\n",
              "      <th>SEXO_BENEFICIARIO</th>\n",
              "      <th>CD_MUNIC_BENEFICIARIO</th>\n",
              "      <th>PORTE_OPERADORA</th>\n",
              "      <th>CD_MODALIDADE_OPERADORA</th>\n",
              "      <th>MODALIDADE_OPERADORA</th>\n",
              "      <th>CD_MUNIC_PRESTADOR</th>\n",
              "      <th>UF_PRESTADOR</th>\n",
              "      <th>DT_INTERNACAO</th>\n",
              "      <th>DT_SAIDA_INTERNACAO</th>\n",
              "      <th>CARATER_ATENDIMENTO</th>\n",
              "      <th>TIPO_INTERNACAO</th>\n",
              "      <th>REGIME_INTERNACAO</th>\n",
              "      <th>MOTIVO_ENCERRAMENTO</th>\n",
              "      <th>CID_1</th>\n",
              "      <th>CID_2</th>\n",
              "      <th>CID_3</th>\n",
              "      <th>CID_4</th>\n",
              "      <th>NR_DIARIAS_ACOMPANHANTE</th>\n",
              "      <th>NR_DIARIAS_UTI</th>\n",
              "      <th>LG_VALOR_PREESTABELECIDO</th>\n",
              "      <th>LG_OUTLIER</th>\n",
              "    </tr>\n",
              "  </thead>\n",
              "  <tbody>\n",
              "    <tr>\n",
              "      <th>count</th>\n",
              "      <td>5.291128e+06</td>\n",
              "      <td>5.291128e+06</td>\n",
              "      <td>5.186012e+06</td>\n",
              "      <td>5186030</td>\n",
              "      <td>5.185041e+06</td>\n",
              "      <td>5290456</td>\n",
              "      <td>5.291128e+06</td>\n",
              "      <td>5291128</td>\n",
              "      <td>5.291128e+06</td>\n",
              "      <td>5291128</td>\n",
              "      <td>5291128</td>\n",
              "      <td>5291128</td>\n",
              "      <td>5288706</td>\n",
              "      <td>5.288671e+06</td>\n",
              "      <td>5.226616e+06</td>\n",
              "      <td>5.290273e+06</td>\n",
              "      <td>3418845</td>\n",
              "      <td>72180</td>\n",
              "      <td>2475</td>\n",
              "      <td>421</td>\n",
              "      <td>5.291128e+06</td>\n",
              "      <td>5.291128e+06</td>\n",
              "      <td>5.291128e+06</td>\n",
              "      <td>5.291128e+06</td>\n",
              "    </tr>\n",
              "    <tr>\n",
              "      <th>unique</th>\n",
              "      <td>NaN</td>\n",
              "      <td>NaN</td>\n",
              "      <td>NaN</td>\n",
              "      <td>2</td>\n",
              "      <td>NaN</td>\n",
              "      <td>3</td>\n",
              "      <td>NaN</td>\n",
              "      <td>5</td>\n",
              "      <td>NaN</td>\n",
              "      <td>27</td>\n",
              "      <td>365</td>\n",
              "      <td>743</td>\n",
              "      <td>6</td>\n",
              "      <td>NaN</td>\n",
              "      <td>NaN</td>\n",
              "      <td>NaN</td>\n",
              "      <td>10700</td>\n",
              "      <td>4301</td>\n",
              "      <td>665</td>\n",
              "      <td>158</td>\n",
              "      <td>NaN</td>\n",
              "      <td>NaN</td>\n",
              "      <td>NaN</td>\n",
              "      <td>NaN</td>\n",
              "    </tr>\n",
              "    <tr>\n",
              "      <th>top</th>\n",
              "      <td>NaN</td>\n",
              "      <td>NaN</td>\n",
              "      <td>NaN</td>\n",
              "      <td>F</td>\n",
              "      <td>NaN</td>\n",
              "      <td>GRANDE</td>\n",
              "      <td>NaN</td>\n",
              "      <td>Cooperativa Médica</td>\n",
              "      <td>NaN</td>\n",
              "      <td>SP</td>\n",
              "      <td>01/07/2019</td>\n",
              "      <td>30/04/2019</td>\n",
              "      <td>1</td>\n",
              "      <td>NaN</td>\n",
              "      <td>NaN</td>\n",
              "      <td>NaN</td>\n",
              "      <td>O829</td>\n",
              "      <td>I10</td>\n",
              "      <td>I10</td>\n",
              "      <td>I10</td>\n",
              "      <td>NaN</td>\n",
              "      <td>NaN</td>\n",
              "      <td>NaN</td>\n",
              "      <td>NaN</td>\n",
              "    </tr>\n",
              "    <tr>\n",
              "      <th>freq</th>\n",
              "      <td>NaN</td>\n",
              "      <td>NaN</td>\n",
              "      <td>NaN</td>\n",
              "      <td>3118125</td>\n",
              "      <td>NaN</td>\n",
              "      <td>3260835</td>\n",
              "      <td>NaN</td>\n",
              "      <td>2095097</td>\n",
              "      <td>NaN</td>\n",
              "      <td>1800049</td>\n",
              "      <td>25199</td>\n",
              "      <td>31730</td>\n",
              "      <td>2481504</td>\n",
              "      <td>NaN</td>\n",
              "      <td>NaN</td>\n",
              "      <td>NaN</td>\n",
              "      <td>53300</td>\n",
              "      <td>3220</td>\n",
              "      <td>131</td>\n",
              "      <td>43</td>\n",
              "      <td>NaN</td>\n",
              "      <td>NaN</td>\n",
              "      <td>NaN</td>\n",
              "      <td>NaN</td>\n",
              "    </tr>\n",
              "    <tr>\n",
              "      <th>mean</th>\n",
              "      <td>2.714592e+09</td>\n",
              "      <td>9.145680e+04</td>\n",
              "      <td>4.787002e+01</td>\n",
              "      <td>NaN</td>\n",
              "      <td>3.445989e+05</td>\n",
              "      <td>NaN</td>\n",
              "      <td>2.389106e+01</td>\n",
              "      <td>NaN</td>\n",
              "      <td>3.460517e+05</td>\n",
              "      <td>NaN</td>\n",
              "      <td>NaN</td>\n",
              "      <td>NaN</td>\n",
              "      <td>NaN</td>\n",
              "      <td>1.832813e+00</td>\n",
              "      <td>1.145174e+00</td>\n",
              "      <td>1.658657e+01</td>\n",
              "      <td>NaN</td>\n",
              "      <td>NaN</td>\n",
              "      <td>NaN</td>\n",
              "      <td>NaN</td>\n",
              "      <td>1.152586e-01</td>\n",
              "      <td>2.268146e-01</td>\n",
              "      <td>4.857376e-03</td>\n",
              "      <td>4.190316e-02</td>\n",
              "    </tr>\n",
              "    <tr>\n",
              "      <th>std</th>\n",
              "      <td>2.001352e+08</td>\n",
              "      <td>8.130979e+04</td>\n",
              "      <td>2.432759e+01</td>\n",
              "      <td>NaN</td>\n",
              "      <td>7.935518e+04</td>\n",
              "      <td>NaN</td>\n",
              "      <td>1.808672e+00</td>\n",
              "      <td>NaN</td>\n",
              "      <td>7.916461e+04</td>\n",
              "      <td>NaN</td>\n",
              "      <td>NaN</td>\n",
              "      <td>NaN</td>\n",
              "      <td>NaN</td>\n",
              "      <td>9.872537e-01</td>\n",
              "      <td>4.226704e-01</td>\n",
              "      <td>1.129493e+01</td>\n",
              "      <td>NaN</td>\n",
              "      <td>NaN</td>\n",
              "      <td>NaN</td>\n",
              "      <td>NaN</td>\n",
              "      <td>1.244336e+00</td>\n",
              "      <td>2.914723e+00</td>\n",
              "      <td>6.952541e-02</td>\n",
              "      <td>2.003679e-01</td>\n",
              "    </tr>\n",
              "    <tr>\n",
              "      <th>min</th>\n",
              "      <td>2.191282e+09</td>\n",
              "      <td>3.000000e+00</td>\n",
              "      <td>0.000000e+00</td>\n",
              "      <td>NaN</td>\n",
              "      <td>1.100000e+05</td>\n",
              "      <td>NaN</td>\n",
              "      <td>2.200000e+01</td>\n",
              "      <td>NaN</td>\n",
              "      <td>1.100010e+05</td>\n",
              "      <td>NaN</td>\n",
              "      <td>NaN</td>\n",
              "      <td>NaN</td>\n",
              "      <td>NaN</td>\n",
              "      <td>1.000000e+00</td>\n",
              "      <td>1.000000e+00</td>\n",
              "      <td>1.000000e+00</td>\n",
              "      <td>NaN</td>\n",
              "      <td>NaN</td>\n",
              "      <td>NaN</td>\n",
              "      <td>NaN</td>\n",
              "      <td>0.000000e+00</td>\n",
              "      <td>0.000000e+00</td>\n",
              "      <td>0.000000e+00</td>\n",
              "      <td>0.000000e+00</td>\n",
              "    </tr>\n",
              "    <tr>\n",
              "      <th>25%</th>\n",
              "      <td>2.560969e+09</td>\n",
              "      <td>5.380500e+04</td>\n",
              "      <td>3.100000e+01</td>\n",
              "      <td>NaN</td>\n",
              "      <td>3.118600e+05</td>\n",
              "      <td>NaN</td>\n",
              "      <td>2.200000e+01</td>\n",
              "      <td>NaN</td>\n",
              "      <td>3.120900e+05</td>\n",
              "      <td>NaN</td>\n",
              "      <td>NaN</td>\n",
              "      <td>NaN</td>\n",
              "      <td>NaN</td>\n",
              "      <td>1.000000e+00</td>\n",
              "      <td>1.000000e+00</td>\n",
              "      <td>1.200000e+01</td>\n",
              "      <td>NaN</td>\n",
              "      <td>NaN</td>\n",
              "      <td>NaN</td>\n",
              "      <td>NaN</td>\n",
              "      <td>0.000000e+00</td>\n",
              "      <td>0.000000e+00</td>\n",
              "      <td>0.000000e+00</td>\n",
              "      <td>0.000000e+00</td>\n",
              "    </tr>\n",
              "    <tr>\n",
              "      <th>50%</th>\n",
              "      <td>2.727632e+09</td>\n",
              "      <td>9.875300e+04</td>\n",
              "      <td>4.600000e+01</td>\n",
              "      <td>NaN</td>\n",
              "      <td>3.513800e+05</td>\n",
              "      <td>NaN</td>\n",
              "      <td>2.400000e+01</td>\n",
              "      <td>NaN</td>\n",
              "      <td>3.519070e+05</td>\n",
              "      <td>NaN</td>\n",
              "      <td>NaN</td>\n",
              "      <td>NaN</td>\n",
              "      <td>NaN</td>\n",
              "      <td>2.000000e+00</td>\n",
              "      <td>1.000000e+00</td>\n",
              "      <td>1.200000e+01</td>\n",
              "      <td>NaN</td>\n",
              "      <td>NaN</td>\n",
              "      <td>NaN</td>\n",
              "      <td>NaN</td>\n",
              "      <td>0.000000e+00</td>\n",
              "      <td>0.000000e+00</td>\n",
              "      <td>0.000000e+00</td>\n",
              "      <td>0.000000e+00</td>\n",
              "    </tr>\n",
              "    <tr>\n",
              "      <th>75%</th>\n",
              "      <td>2.881261e+09</td>\n",
              "      <td>1.148150e+05</td>\n",
              "      <td>6.800000e+01</td>\n",
              "      <td>NaN</td>\n",
              "      <td>3.550300e+05</td>\n",
              "      <td>NaN</td>\n",
              "      <td>2.500000e+01</td>\n",
              "      <td>NaN</td>\n",
              "      <td>3.550300e+05</td>\n",
              "      <td>NaN</td>\n",
              "      <td>NaN</td>\n",
              "      <td>NaN</td>\n",
              "      <td>NaN</td>\n",
              "      <td>2.000000e+00</td>\n",
              "      <td>1.000000e+00</td>\n",
              "      <td>1.600000e+01</td>\n",
              "      <td>NaN</td>\n",
              "      <td>NaN</td>\n",
              "      <td>NaN</td>\n",
              "      <td>NaN</td>\n",
              "      <td>0.000000e+00</td>\n",
              "      <td>0.000000e+00</td>\n",
              "      <td>0.000000e+00</td>\n",
              "      <td>0.000000e+00</td>\n",
              "    </tr>\n",
              "    <tr>\n",
              "      <th>max</th>\n",
              "      <td>3.096360e+09</td>\n",
              "      <td>1.046923e+06</td>\n",
              "      <td>1.210000e+02</td>\n",
              "      <td>NaN</td>\n",
              "      <td>5.300100e+05</td>\n",
              "      <td>NaN</td>\n",
              "      <td>2.800000e+01</td>\n",
              "      <td>NaN</td>\n",
              "      <td>5.300100e+05</td>\n",
              "      <td>NaN</td>\n",
              "      <td>NaN</td>\n",
              "      <td>NaN</td>\n",
              "      <td>NaN</td>\n",
              "      <td>7.000000e+00</td>\n",
              "      <td>3.000000e+00</td>\n",
              "      <td>7.100000e+01</td>\n",
              "      <td>NaN</td>\n",
              "      <td>NaN</td>\n",
              "      <td>NaN</td>\n",
              "      <td>NaN</td>\n",
              "      <td>6.900000e+02</td>\n",
              "      <td>1.000000e+03</td>\n",
              "      <td>1.000000e+00</td>\n",
              "      <td>1.000000e+00</td>\n",
              "    </tr>\n",
              "  </tbody>\n",
              "</table>\n",
              "</div>"
            ],
            "text/plain": [
              "          #ID_EVENTO      ID_PLANO  ...  LG_VALOR_PREESTABELECIDO    LG_OUTLIER\n",
              "count   5.291128e+06  5.291128e+06  ...              5.291128e+06  5.291128e+06\n",
              "unique           NaN           NaN  ...                       NaN           NaN\n",
              "top              NaN           NaN  ...                       NaN           NaN\n",
              "freq             NaN           NaN  ...                       NaN           NaN\n",
              "mean    2.714592e+09  9.145680e+04  ...              4.857376e-03  4.190316e-02\n",
              "std     2.001352e+08  8.130979e+04  ...              6.952541e-02  2.003679e-01\n",
              "min     2.191282e+09  3.000000e+00  ...              0.000000e+00  0.000000e+00\n",
              "25%     2.560969e+09  5.380500e+04  ...              0.000000e+00  0.000000e+00\n",
              "50%     2.727632e+09  9.875300e+04  ...              0.000000e+00  0.000000e+00\n",
              "75%     2.881261e+09  1.148150e+05  ...              0.000000e+00  0.000000e+00\n",
              "max     3.096360e+09  1.046923e+06  ...              1.000000e+00  1.000000e+00\n",
              "\n",
              "[11 rows x 24 columns]"
            ]
          },
          "metadata": {},
          "execution_count": 4
        }
      ]
    },
    {
      "cell_type": "code",
      "metadata": {
        "colab": {
          "base_uri": "https://localhost:8080/",
          "height": 410
        },
        "id": "bgDhluVGROxQ",
        "outputId": "6adb08f1-a690-4ebf-f5cd-a0bc980356b4"
      },
      "source": [
        "# Métricas estatísticas da tabela DET.\n",
        "df_det.describe(include='all')"
      ],
      "execution_count": 5,
      "outputs": [
        {
          "output_type": "execute_result",
          "data": {
            "text/html": [
              "<div>\n",
              "<style scoped>\n",
              "    .dataframe tbody tr th:only-of-type {\n",
              "        vertical-align: middle;\n",
              "    }\n",
              "\n",
              "    .dataframe tbody tr th {\n",
              "        vertical-align: top;\n",
              "    }\n",
              "\n",
              "    .dataframe thead th {\n",
              "        text-align: right;\n",
              "    }\n",
              "</style>\n",
              "<table border=\"1\" class=\"dataframe\">\n",
              "  <thead>\n",
              "    <tr style=\"text-align: right;\">\n",
              "      <th></th>\n",
              "      <th>#ID_EVENTO</th>\n",
              "      <th>CD_TUSS_PROCEDIMENTO</th>\n",
              "      <th>QT_PROCEDIMENTO</th>\n",
              "      <th>VL_PROCEDIMENTO</th>\n",
              "      <th>VL_PAGO_FORNECEDOR</th>\n",
              "      <th>CD_TABELA_REFERENCIA</th>\n",
              "      <th>LG_PACOTE</th>\n",
              "      <th>IND_TABELA_PROPRIA</th>\n",
              "      <th>DT_INICIO_EVENTO</th>\n",
              "      <th>UF_PRESTADOR</th>\n",
              "      <th>LG_OUTLIER</th>\n",
              "    </tr>\n",
              "  </thead>\n",
              "  <tbody>\n",
              "    <tr>\n",
              "      <th>count</th>\n",
              "      <td>3.444572e+07</td>\n",
              "      <td>34445720</td>\n",
              "      <td>3.404291e+07</td>\n",
              "      <td>3.404291e+07</td>\n",
              "      <td>3.404291e+07</td>\n",
              "      <td>3.444572e+07</td>\n",
              "      <td>3.444572e+07</td>\n",
              "      <td>3.444572e+07</td>\n",
              "      <td>34445720</td>\n",
              "      <td>34445720</td>\n",
              "      <td>3.444572e+07</td>\n",
              "    </tr>\n",
              "    <tr>\n",
              "      <th>unique</th>\n",
              "      <td>NaN</td>\n",
              "      <td>22830</td>\n",
              "      <td>NaN</td>\n",
              "      <td>NaN</td>\n",
              "      <td>NaN</td>\n",
              "      <td>NaN</td>\n",
              "      <td>NaN</td>\n",
              "      <td>NaN</td>\n",
              "      <td>365</td>\n",
              "      <td>26</td>\n",
              "      <td>NaN</td>\n",
              "    </tr>\n",
              "    <tr>\n",
              "      <th>top</th>\n",
              "      <td>NaN</td>\n",
              "      <td>031</td>\n",
              "      <td>NaN</td>\n",
              "      <td>NaN</td>\n",
              "      <td>NaN</td>\n",
              "      <td>NaN</td>\n",
              "      <td>NaN</td>\n",
              "      <td>NaN</td>\n",
              "      <td>01/07/2019</td>\n",
              "      <td>SP</td>\n",
              "      <td>NaN</td>\n",
              "    </tr>\n",
              "    <tr>\n",
              "      <th>freq</th>\n",
              "      <td>NaN</td>\n",
              "      <td>3722041</td>\n",
              "      <td>NaN</td>\n",
              "      <td>NaN</td>\n",
              "      <td>NaN</td>\n",
              "      <td>NaN</td>\n",
              "      <td>NaN</td>\n",
              "      <td>NaN</td>\n",
              "      <td>138475</td>\n",
              "      <td>12774336</td>\n",
              "      <td>NaN</td>\n",
              "    </tr>\n",
              "    <tr>\n",
              "      <th>mean</th>\n",
              "      <td>2.722187e+09</td>\n",
              "      <td>NaN</td>\n",
              "      <td>5.759093e+01</td>\n",
              "      <td>1.482052e+03</td>\n",
              "      <td>2.313111e+01</td>\n",
              "      <td>3.721587e+01</td>\n",
              "      <td>4.012946e-02</td>\n",
              "      <td>9.170324e-02</td>\n",
              "      <td>NaN</td>\n",
              "      <td>NaN</td>\n",
              "      <td>2.246341e-01</td>\n",
              "    </tr>\n",
              "    <tr>\n",
              "      <th>std</th>\n",
              "      <td>2.010258e+08</td>\n",
              "      <td>NaN</td>\n",
              "      <td>5.652154e+03</td>\n",
              "      <td>8.428044e+04</td>\n",
              "      <td>6.956028e+02</td>\n",
              "      <td>2.440335e+01</td>\n",
              "      <td>1.962628e-01</td>\n",
              "      <td>2.886066e-01</td>\n",
              "      <td>NaN</td>\n",
              "      <td>NaN</td>\n",
              "      <td>4.173411e-01</td>\n",
              "    </tr>\n",
              "    <tr>\n",
              "      <th>min</th>\n",
              "      <td>2.191282e+09</td>\n",
              "      <td>NaN</td>\n",
              "      <td>0.000000e+00</td>\n",
              "      <td>0.000000e+00</td>\n",
              "      <td>0.000000e+00</td>\n",
              "      <td>0.000000e+00</td>\n",
              "      <td>0.000000e+00</td>\n",
              "      <td>0.000000e+00</td>\n",
              "      <td>NaN</td>\n",
              "      <td>NaN</td>\n",
              "      <td>0.000000e+00</td>\n",
              "    </tr>\n",
              "    <tr>\n",
              "      <th>25%</th>\n",
              "      <td>2.565478e+09</td>\n",
              "      <td>NaN</td>\n",
              "      <td>1.000000e+00</td>\n",
              "      <td>2.760000e+01</td>\n",
              "      <td>0.000000e+00</td>\n",
              "      <td>2.200000e+01</td>\n",
              "      <td>0.000000e+00</td>\n",
              "      <td>0.000000e+00</td>\n",
              "      <td>NaN</td>\n",
              "      <td>NaN</td>\n",
              "      <td>0.000000e+00</td>\n",
              "    </tr>\n",
              "    <tr>\n",
              "      <th>50%</th>\n",
              "      <td>2.733989e+09</td>\n",
              "      <td>NaN</td>\n",
              "      <td>2.000000e+00</td>\n",
              "      <td>1.897400e+02</td>\n",
              "      <td>0.000000e+00</td>\n",
              "      <td>2.200000e+01</td>\n",
              "      <td>0.000000e+00</td>\n",
              "      <td>0.000000e+00</td>\n",
              "      <td>NaN</td>\n",
              "      <td>NaN</td>\n",
              "      <td>0.000000e+00</td>\n",
              "    </tr>\n",
              "    <tr>\n",
              "      <th>75%</th>\n",
              "      <td>2.891612e+09</td>\n",
              "      <td>NaN</td>\n",
              "      <td>1.000000e+01</td>\n",
              "      <td>8.601000e+02</td>\n",
              "      <td>0.000000e+00</td>\n",
              "      <td>6.300000e+01</td>\n",
              "      <td>0.000000e+00</td>\n",
              "      <td>0.000000e+00</td>\n",
              "      <td>NaN</td>\n",
              "      <td>NaN</td>\n",
              "      <td>0.000000e+00</td>\n",
              "    </tr>\n",
              "    <tr>\n",
              "      <th>max</th>\n",
              "      <td>3.096360e+09</td>\n",
              "      <td>NaN</td>\n",
              "      <td>3.228807e+07</td>\n",
              "      <td>2.156974e+08</td>\n",
              "      <td>4.910160e+05</td>\n",
              "      <td>9.800000e+01</td>\n",
              "      <td>1.000000e+00</td>\n",
              "      <td>1.000000e+00</td>\n",
              "      <td>NaN</td>\n",
              "      <td>NaN</td>\n",
              "      <td>1.000000e+00</td>\n",
              "    </tr>\n",
              "  </tbody>\n",
              "</table>\n",
              "</div>"
            ],
            "text/plain": [
              "          #ID_EVENTO CD_TUSS_PROCEDIMENTO  ...  UF_PRESTADOR    LG_OUTLIER\n",
              "count   3.444572e+07             34445720  ...      34445720  3.444572e+07\n",
              "unique           NaN                22830  ...            26           NaN\n",
              "top              NaN                  031  ...            SP           NaN\n",
              "freq             NaN              3722041  ...      12774336           NaN\n",
              "mean    2.722187e+09                  NaN  ...           NaN  2.246341e-01\n",
              "std     2.010258e+08                  NaN  ...           NaN  4.173411e-01\n",
              "min     2.191282e+09                  NaN  ...           NaN  0.000000e+00\n",
              "25%     2.565478e+09                  NaN  ...           NaN  0.000000e+00\n",
              "50%     2.733989e+09                  NaN  ...           NaN  0.000000e+00\n",
              "75%     2.891612e+09                  NaN  ...           NaN  0.000000e+00\n",
              "max     3.096360e+09                  NaN  ...           NaN  1.000000e+00\n",
              "\n",
              "[11 rows x 11 columns]"
            ]
          },
          "metadata": {},
          "execution_count": 5
        }
      ]
    },
    {
      "cell_type": "code",
      "metadata": {
        "colab": {
          "base_uri": "https://localhost:8080/"
        },
        "id": "bTn1tyQ-meAi",
        "outputId": "5cb73418-2eb9-4369-ef1b-eb78b28e4afe"
      },
      "source": [
        "# Quantidade de dados nulos em cada coluna da base consolidada.\n",
        "df_completo.isnull().sum()"
      ],
      "execution_count": 6,
      "outputs": [
        {
          "output_type": "execute_result",
          "data": {
            "text/plain": [
              "#ID_EVENTO                         0\n",
              "CD_TUSS_PROCEDIMENTO          228753\n",
              "QT_PROCEDIMENTO               631563\n",
              "VL_PROCEDIMENTO               631563\n",
              "VL_PAGO_FORNECEDOR            631563\n",
              "CD_TABELA_REFERENCIA          228753\n",
              "LG_PACOTE                     228753\n",
              "IND_TABELA_PROPRIA            228753\n",
              "DT_INICIO_EVENTO              228753\n",
              "UF_PRESTADOR                       0\n",
              "LG_OUTLIER                         0\n",
              "ID_PLANO                     7447129\n",
              "IDADE_BENEFICIARIO           8010267\n",
              "SEXO_BENEFICIARIO            8010123\n",
              "CD_MUNIC_BENEFICIARIO        8013847\n",
              "PORTE_OPERADORA              7449629\n",
              "CD_MODALIDADE_OPERADORA      7447129\n",
              "MODALIDADE_OPERADORA         7447129\n",
              "CD_MUNIC_PRESTADOR           7447129\n",
              "DT_INTERNACAO                7447129\n",
              "DT_SAIDA_INTERNACAO          7447129\n",
              "CARATER_ATENDIMENTO          7453015\n",
              "TIPO_INTERNACAO              7451883\n",
              "REGIME_INTERNACAO            7685168\n",
              "MOTIVO_ENCERRAMENTO          7448723\n",
              "CID_1                       15241598\n",
              "CID_2                       34243704\n",
              "CID_3                       34657749\n",
              "CID_4                       34672180\n",
              "NR_DIARIAS_ACOMPANHANTE      7447129\n",
              "NR_DIARIAS_UTI               7447129\n",
              "LG_VALOR_PREESTABELECIDO     7447129\n",
              "dtype: int64"
            ]
          },
          "metadata": {},
          "execution_count": 6
        }
      ]
    },
    {
      "cell_type": "code",
      "metadata": {
        "colab": {
          "base_uri": "https://localhost:8080/"
        },
        "id": "74rFVBMZ3scE",
        "outputId": "7177ca39-0f79-4f2b-bd6e-fe63db1bef87"
      },
      "source": [
        "# Porcentagem de dados nulos em relação ao total \n",
        "# de cada coluna da base consolidada.\n",
        "(df_completo.isna().mean())*100"
      ],
      "execution_count": 7,
      "outputs": [
        {
          "output_type": "execute_result",
          "data": {
            "text/plain": [
              "#ID_EVENTO                   0.000000\n",
              "CD_TUSS_PROCEDIMENTO         0.659716\n",
              "QT_PROCEDIMENTO              1.821406\n",
              "VL_PROCEDIMENTO              1.821406\n",
              "VL_PAGO_FORNECEDOR           1.821406\n",
              "CD_TABELA_REFERENCIA         0.659716\n",
              "LG_PACOTE                    0.659716\n",
              "IND_TABELA_PROPRIA           0.659716\n",
              "DT_INICIO_EVENTO             0.659716\n",
              "UF_PRESTADOR                 0.000000\n",
              "LG_OUTLIER                   0.000000\n",
              "ID_PLANO                    21.477267\n",
              "IDADE_BENEFICIARIO          23.101337\n",
              "SEXO_BENEFICIARIO           23.100922\n",
              "CD_MUNIC_BENEFICIARIO       23.111662\n",
              "PORTE_OPERADORA             21.484476\n",
              "CD_MODALIDADE_OPERADORA     21.477267\n",
              "MODALIDADE_OPERADORA        21.477267\n",
              "CD_MUNIC_PRESTADOR          21.477267\n",
              "DT_INTERNACAO               21.477267\n",
              "DT_SAIDA_INTERNACAO         21.477267\n",
              "CARATER_ATENDIMENTO         21.494242\n",
              "TIPO_INTERNACAO             21.490977\n",
              "REGIME_INTERNACAO           22.163763\n",
              "MOTIVO_ENCERRAMENTO         21.481864\n",
              "CID_1                       43.956250\n",
              "CID_2                       98.757677\n",
              "CID_3                       99.951769\n",
              "CID_4                       99.993387\n",
              "NR_DIARIAS_ACOMPANHANTE     21.477267\n",
              "NR_DIARIAS_UTI              21.477267\n",
              "LG_VALOR_PREESTABELECIDO    21.477267\n",
              "dtype: float64"
            ]
          },
          "metadata": {},
          "execution_count": 7
        }
      ]
    },
    {
      "cell_type": "code",
      "metadata": {
        "colab": {
          "base_uri": "https://localhost:8080/"
        },
        "id": "GEbSC5dslqBW",
        "outputId": "9eff15e1-c5f3-4980-a49a-c276733bc785"
      },
      "source": [
        "# Tipos de variáveis de cada coluna da base consolidada.\n",
        "df_completo.info()"
      ],
      "execution_count": 8,
      "outputs": [
        {
          "output_type": "stream",
          "name": "stdout",
          "text": [
            "<class 'pandas.core.frame.DataFrame'>\n",
            "Int64Index: 34674473 entries, 0 to 34674472\n",
            "Data columns (total 32 columns):\n",
            " #   Column                    Dtype  \n",
            "---  ------                    -----  \n",
            " 0   #ID_EVENTO                int64  \n",
            " 1   CD_TUSS_PROCEDIMENTO      object \n",
            " 2   QT_PROCEDIMENTO           float64\n",
            " 3   VL_PROCEDIMENTO           float64\n",
            " 4   VL_PAGO_FORNECEDOR        float64\n",
            " 5   CD_TABELA_REFERENCIA      float64\n",
            " 6   LG_PACOTE                 float64\n",
            " 7   IND_TABELA_PROPRIA        float64\n",
            " 8   DT_INICIO_EVENTO          object \n",
            " 9   UF_PRESTADOR              object \n",
            " 10  LG_OUTLIER                int64  \n",
            " 11  ID_PLANO                  float64\n",
            " 12  IDADE_BENEFICIARIO        float64\n",
            " 13  SEXO_BENEFICIARIO         object \n",
            " 14  CD_MUNIC_BENEFICIARIO     float64\n",
            " 15  PORTE_OPERADORA           object \n",
            " 16  CD_MODALIDADE_OPERADORA   float64\n",
            " 17  MODALIDADE_OPERADORA      object \n",
            " 18  CD_MUNIC_PRESTADOR        float64\n",
            " 19  DT_INTERNACAO             object \n",
            " 20  DT_SAIDA_INTERNACAO       object \n",
            " 21  CARATER_ATENDIMENTO       object \n",
            " 22  TIPO_INTERNACAO           float64\n",
            " 23  REGIME_INTERNACAO         float64\n",
            " 24  MOTIVO_ENCERRAMENTO       float64\n",
            " 25  CID_1                     object \n",
            " 26  CID_2                     object \n",
            " 27  CID_3                     object \n",
            " 28  CID_4                     object \n",
            " 29  NR_DIARIAS_ACOMPANHANTE   float64\n",
            " 30  NR_DIARIAS_UTI            float64\n",
            " 31  LG_VALOR_PREESTABELECIDO  float64\n",
            "dtypes: float64(17), int64(2), object(13)\n",
            "memory usage: 8.5+ GB\n"
          ]
        }
      ]
    },
    {
      "cell_type": "code",
      "metadata": {
        "id": "WMRx8bt2K0HB",
        "colab": {
          "base_uri": "https://localhost:8080/"
        },
        "outputId": "036030ac-5de6-4326-de4f-104c44b71884"
      },
      "source": [
        "# Agrupamento de Dados por classes.\n",
        "\n",
        "print(\"AGRUPAMENTO de alguns dados por classes:\\n\")\n",
        "\n",
        "print('MÉDIA - Sexo x Idade:')\n",
        "med_sexo_idade = df_completo.groupby('SEXO_BENEFICIARIO')['IDADE_BENEFICIARIO'].mean()\n",
        "print(f'{med_sexo_idade}\\n')\n",
        "\n",
        "print('MEDIANA - Sexo x Idade:')\n",
        "mdn_sexo_idade = df_completo.groupby('SEXO_BENEFICIARIO')['IDADE_BENEFICIARIO'].median()\n",
        "print(f'{mdn_sexo_idade}\\n')\n",
        "\n",
        "print('O item faz parte de um Pacote de Procedimentos? (0: Não, 1: Sim)')\n",
        "print(df_completo.groupby('LG_PACOTE').size())\n",
        "print('')\n",
        "\n",
        "print(df_completo.groupby('PORTE_OPERADORA').size())\n",
        "print('')\n",
        "\n",
        "print('CÓDIGO DO PROCEDIMENTO PELA TUSS')\n",
        "print(df_completo.groupby('CD_TUSS_PROCEDIMENTO').size().sort_values())\n",
        "print('')\n",
        "\n",
        "print(df_completo.groupby('SEXO_BENEFICIARIO').size())\n",
        "print('')\n",
        "\n",
        "print(df_completo.groupby('CARATER_ATENDIMENTO').size())\n",
        "print('')\n",
        "\n",
        "print(df_completo.groupby('LG_OUTLIER').size())\n",
        "print('')\n",
        "\n",
        "print('MÉDIA - UF x Idade:')\n",
        "med_uf_idade = df_completo.groupby('UF_PRESTADOR')['IDADE_BENEFICIARIO'].mean().sort_values()\n",
        "print(f'{med_uf_idade}\\n')\n",
        "\n",
        "df_completo.groupby('QT_PROCEDIMENTO')['LG_OUTLIER'].size().sort_values()"
      ],
      "execution_count": 9,
      "outputs": [
        {
          "output_type": "stream",
          "name": "stdout",
          "text": [
            "AGRUPAMENTO de alguns dados por classes:\n",
            "\n",
            "MÉDIA - Sexo x Idade:\n",
            "SEXO_BENEFICIARIO\n",
            "F    49.770746\n",
            "M    50.543633\n",
            "Name: IDADE_BENEFICIARIO, dtype: float64\n",
            "\n",
            "MEDIANA - Sexo x Idade:\n",
            "SEXO_BENEFICIARIO\n",
            "F    46.0\n",
            "M    54.0\n",
            "Name: IDADE_BENEFICIARIO, dtype: float64\n",
            "\n",
            "O item faz parte de um Pacote de Procedimentos? (0: Não, 1: Sim)\n",
            "LG_PACOTE\n",
            "0.0    33063432\n",
            "1.0     1382288\n",
            "dtype: int64\n",
            "\n",
            "PORTE_OPERADORA\n",
            "GRANDE     17605920\n",
            "MEDIO       7521840\n",
            "PEQUENO     2097084\n",
            "dtype: int64\n",
            "\n",
            "CÓDIGO DO PROCEDIMENTO PELA TUSS\n",
            "CD_TUSS_PROCEDIMENTO\n",
            "90066473                1\n",
            "96040025                1\n",
            "96040084                1\n",
            "96040114                1\n",
            "96051256                1\n",
            "                   ...   \n",
            "10102019          1543229\n",
            "030               2819852\n",
            "029               2864074\n",
            "TABELA PRÓPRIA    3158784\n",
            "031               3722041\n",
            "Length: 22830, dtype: int64\n",
            "\n",
            "SEXO_BENEFICIARIO\n",
            "F    15921132\n",
            "M    10743218\n",
            "dtype: int64\n",
            "\n",
            "CARATER_ATENDIMENTO\n",
            "1        3399\n",
            "2        1430\n",
            "1     9963505\n",
            "2    13026664\n",
            "E     2593586\n",
            "U     1632874\n",
            "dtype: int64\n",
            "\n",
            "LG_OUTLIER\n",
            "0    26914944\n",
            "1     7759529\n",
            "dtype: int64\n",
            "\n",
            "MÉDIA - UF x Idade:\n",
            "UF_PRESTADOR\n",
            "AC    39.859520\n",
            "RR    40.681542\n",
            "TO    40.743283\n",
            "GO    41.032633\n",
            "MT    42.357222\n",
            "AP    42.433264\n",
            "RO    43.120494\n",
            "PI    43.737739\n",
            "AM    45.050618\n",
            "PA    45.352693\n",
            "MS    46.210976\n",
            "ES    46.496464\n",
            "SC    46.803315\n",
            "PR    47.314823\n",
            "MA    47.336873\n",
            "BA    49.034740\n",
            "SP    49.046298\n",
            "CE    49.436531\n",
            "MG    50.492854\n",
            "PB    50.748735\n",
            "AL    50.797766\n",
            "RN    50.986403\n",
            "PE    52.581043\n",
            "DF    52.622915\n",
            "SE    52.744090\n",
            "RS    54.459909\n",
            "RJ    56.802208\n",
            "Name: IDADE_BENEFICIARIO, dtype: float64\n",
            "\n"
          ]
        },
        {
          "output_type": "execute_result",
          "data": {
            "text/plain": [
              "QT_PROCEDIMENTO\n",
              "992.79            1\n",
              "1567.81           1\n",
              "1567.90           1\n",
              "1568.09           1\n",
              "1568.20           1\n",
              "             ...   \n",
              "5.00         931803\n",
              "4.00        1408397\n",
              "3.00        1787217\n",
              "2.00        3617972\n",
              "1.00       14913615\n",
              "Name: LG_OUTLIER, Length: 72314, dtype: int64"
            ]
          },
          "metadata": {},
          "execution_count": 9
        }
      ]
    },
    {
      "cell_type": "markdown",
      "metadata": {
        "id": "E_l35R2SGfjS"
      },
      "source": [
        "#####Análise Gráfica"
      ]
    },
    {
      "cell_type": "code",
      "metadata": {
        "colab": {
          "base_uri": "https://localhost:8080/",
          "height": 1000
        },
        "id": "_HG_TCasjK3D",
        "outputId": "fbf0dae1-ded9-423a-86b9-8ffde6f0c5a8"
      },
      "source": [
        "#Construção dos gráficos boxplot de cada classe.\n",
        "\n",
        "colunas = ['#ID_EVENTO','QT_PROCEDIMENTO','VL_PROCEDIMENTO','VL_PAGO_FORNECEDOR',\n",
        "           'CD_TABELA_REFERENCIA','LG_PACOTE','IND_TABELA_PROPRIA','LG_OUTLIER',\n",
        "           'ID_PLANO', 'IDADE_BENEFICIARIO','CD_MUNIC_BENEFICIARIO','CD_MODALIDADE_OPERADORA',\n",
        "        'CD_MUNIC_PRESTADOR','TIPO_INTERNACAO','REGIME_INTERNACAO', 'MOTIVO_ENCERRAMENTO',\n",
        "        'NR_DIARIAS_ACOMPANHANTE', 'NR_DIARIAS_UTI','LG_VALOR_PREESTABELECIDO']\n",
        "#A lista colunas refere-se somente às colunas de valores numéricos do df_completo.\n",
        "\n",
        "print('BOXPLOT dos dados de cada classe:\\n')\n",
        "for k in range(0,len(colunas)):\n",
        "  df_completo[colunas[k]].plot(kind='box', subplots=True, layout=(8,4), sharex=False, sharey=False, figsize=(18,18))\n",
        "  plt.show()"
      ],
      "execution_count": 10,
      "outputs": [
        {
          "output_type": "stream",
          "name": "stdout",
          "text": [
            "BOXPLOT dos dados de cada classe:\n",
            "\n"
          ]
        },
        {
          "output_type": "display_data",
          "data": {
            "image/png": "[encoded data removed]",
            "text/plain": [
              "<Figure size 1296x1296 with 32 Axes>"
            ]
          },
          "metadata": {
            "needs_background": "light"
          }
        },
        {
          "output_type": "display_data",
          "data": {
            "image/png": "[encoded data removed]",
            "text/plain": [
              "<Figure size 1296x1296 with 32 Axes>"
            ]
          },
          "metadata": {
            "needs_background": "light"
          }
        },
        {
          "output_type": "display_data",
          "data": {
            "image/png": "[encoded data removed]",
            "text/plain": [
              "<Figure size 1296x1296 with 32 Axes>"
            ]
          },
          "metadata": {
            "needs_background": "light"
          }
        },
        {
          "output_type": "display_data",
          "data": {
            "image/png": "[encoded data removed]",
            "text/plain": [
              "<Figure size 1296x1296 with 32 Axes>"
            ]
          },
          "metadata": {
            "needs_background": "light"
          }
        },
        {
          "output_type": "display_data",
          "data": {
            "image/png": "[encoded data removed]",
            "text/plain": [
              "<Figure size 1296x1296 with 32 Axes>"
            ]
          },
          "metadata": {
            "needs_background": "light"
          }
        },
        {
          "output_type": "display_data",
          "data": {
            "image/png": "[encoded data removed]",
            "text/plain": [
              "<Figure size 1296x1296 with 32 Axes>"
            ]
          },
          "metadata": {
            "needs_background": "light"
          }
        },
        {
          "output_type": "display_data",
          "data": {
            "image/png": "[encoded data removed]",
            "text/plain": [
              "<Figure size 1296x1296 with 32 Axes>"
            ]
          },
          "metadata": {
            "needs_background": "light"
          }
        },
        {
          "output_type": "display_data",
          "data": {
            "image/png": "[encoded data removed]",
            "text/plain": [
              "<Figure size 1296x1296 with 32 Axes>"
            ]
          },
          "metadata": {
            "needs_background": "light"
          }
        },
        {
          "output_type": "display_data",
          "data": {
            "image/png": "[encoded data removed]",
            "text/plain": [
              "<Figure size 1296x1296 with 32 Axes>"
            ]
          },
          "metadata": {
            "needs_background": "light"
          }
        },
        {
          "output_type": "display_data",
          "data": {
            "image/png": "[encoded data removed]",
            "text/plain": [
              "<Figure size 1296x1296 with 32 Axes>"
            ]
          },
          "metadata": {
            "needs_background": "light"
          }
        },
        {
          "output_type": "display_data",
          "data": {
            "image/png": "[encoded data removed]",
            "text/plain": [
              "<Figure size 1296x1296 with 32 Axes>"
            ]
          },
          "metadata": {
            "needs_background": "light"
          }
        },
        {
          "output_type": "display_data",
          "data": {
            "image/png": "[encoded data removed]",
            "text/plain": [
              "<Figure size 1296x1296 with 32 Axes>"
            ]
          },
          "metadata": {
            "needs_background": "light"
          }
        },
        {
          "output_type": "display_data",
          "data": {
            "image/png": "[encoded data removed]",
            "text/plain": [
              "<Figure size 1296x1296 with 32 Axes>"
            ]
          },
          "metadata": {
            "needs_background": "light"
          }
        },
        {
          "output_type": "display_data",
          "data": {
            "image/png": "[encoded data removed]",
            "text/plain": [
              "<Figure size 1296x1296 with 32 Axes>"
            ]
          },
          "metadata": {
            "needs_background": "light"
          }
        },
        {
          "output_type": "display_data",
          "data": {
            "image/png": "[encoded data removed]",
            "text/plain": [
              "<Figure size 1296x1296 with 32 Axes>"
            ]
          },
          "metadata": {
            "needs_background": "light"
          }
        },
        {
          "output_type": "display_data",
          "data": {
            "image/png": "[encoded data removed]",
            "text/plain": [
              "<Figure size 1296x1296 with 32 Axes>"
            ]
          },
          "metadata": {
            "needs_background": "light"
          }
        },
        {
          "output_type": "display_data",
          "data": {
            "image/png": "[encoded data removed]",
            "text/plain": [
              "<Figure size 1296x1296 with 32 Axes>"
            ]
          },
          "metadata": {
            "needs_background": "light"
          }
        },
        {
          "output_type": "display_data",
          "data": {
            "image/png": "[encoded data removed]",
            "text/plain": [
              "<Figure size 1296x1296 with 32 Axes>"
            ]
          },
          "metadata": {
            "needs_background": "light"
          }
        },
        {
          "output_type": "display_data",
          "data": {
            "image/png": "[encoded data removed]",
            "text/plain": [
              "<Figure size 1296x1296 with 32 Axes>"
            ]
          },
          "metadata": {
            "needs_background": "light"
          }
        }
      ]
    },
    {
      "cell_type": "code",
      "metadata": {
        "colab": {
          "base_uri": "https://localhost:8080/",
          "height": 1000
        },
        "id": "YgF_B-Y_vrK4",
        "outputId": "8d2f6395-ed15-4763-f656-8188c738e6f5"
      },
      "source": [
        "#Construção dos gráficos de histograma de cada classe.\n",
        "\n",
        "print(\"HISTOGRAMAS dos dados de cada classe:\\n\")\n",
        "df_completo.hist(layout=(5,4),figsize=(20,20))\n",
        "plt.savefig('histogramas.jpg',dpi=200)"
      ],
      "execution_count": 14,
      "outputs": [
        {
          "output_type": "stream",
          "name": "stdout",
          "text": [
            "HISTOGRAMAS dos dados de cada classe:\n",
            "\n"
          ]
        },
        {
          "output_type": "display_data",
          "data": {
            "image/png": "[encoded data removed]",
            "text/plain": [
              "<Figure size 1440x1440 with 20 Axes>"
            ]
          },
          "metadata": {
            "needs_background": "light"
          }
        }
      ]
    },
    {
      "cell_type": "code",
      "metadata": {
        "colab": {
          "base_uri": "https://localhost:8080/",
          "height": 1000
        },
        "id": "WdiYDeRGavqy",
        "outputId": "063e3a6a-06ca-48b6-ffc3-f9ad9cd378ce"
      },
      "source": [
        "#Construção da matriz de correlação entre as classes do df_cons.\n",
        "\n",
        "print('Matriz de Correlação - HEATMAP do df_cons:\\n')\n",
        "plt.figure(figsize=(15,15))\n",
        "ax = sns.heatmap(df_cons.corr(), cmap='Blues', annot=True)\n",
        "plt.savefig('heatmap_cons.jpg',dpi=200)"
      ],
      "execution_count": 15,
      "outputs": [
        {
          "output_type": "stream",
          "name": "stdout",
          "text": [
            "Matriz de Correlação - HEATMAP do df_cons:\n",
            "\n"
          ]
        },
        {
          "output_type": "display_data",
          "data": {
            "image/png": "[encoded data removed]",
            "text/plain": [
              "<Figure size 1080x1080 with 2 Axes>"
            ]
          },
          "metadata": {
            "needs_background": "light"
          }
        }
      ]
    },
    {
      "cell_type": "code",
      "metadata": {
        "colab": {
          "base_uri": "https://localhost:8080/",
          "height": 853
        },
        "id": "IJxsjK_tBRMK",
        "outputId": "384e37c5-c084-491a-be5d-1129360b41ff"
      },
      "source": [
        "#Construção da matriz de correlação entre as classes do df_det.\n",
        "\n",
        "print('Matriz de Correlação - HEATMAP no df_det:\\n')\n",
        "plt.figure(figsize=(12,12))\n",
        "ax=sns.heatmap(df_det.corr(), cmap='Blues', annot=True)\n",
        "plt.savefig('heatmap_det.jpg',dpi=200)"
      ],
      "execution_count": 16,
      "outputs": [
        {
          "output_type": "stream",
          "name": "stdout",
          "text": [
            "Matriz de Correlação - HEATMAP no df_det:\n",
            "\n"
          ]
        },
        {
          "output_type": "display_data",
          "data": {
            "image/png": "[encoded data removed]",
            "text/plain": [
              "<Figure size 864x864 with 2 Axes>"
            ]
          },
          "metadata": {
            "needs_background": "light"
          }
        }
      ]
    },
    {
      "cell_type": "markdown",
      "metadata": {
        "id": "NsCMtyaNKeXu"
      },
      "source": [
        "###Pré-processamento dos Dados"
      ]
    },
    {
      "cell_type": "markdown",
      "metadata": {
        "id": "x9oh7EfSLzwT"
      },
      "source": [
        "#####Criação de Novas Features"
      ]
    },
    {
      "cell_type": "code",
      "metadata": {
        "id": "ipx8ZzAfY4Ob"
      },
      "source": [
        "# Quantidade de dias de internação.\n",
        "\n",
        "d1 = pd.to_datetime(df_completo['DT_SAIDA_INTERNACAO'],dayfirst=True)\n",
        "d2 = pd.to_datetime(df_completo['DT_INTERNACAO'],dayfirst=True)\n",
        "df_completo['DIAS_INTERNACAO'] = abs((d2-d1)).astype('timedelta64[D]')"
      ],
      "execution_count": 4,
      "outputs": []
    },
    {
      "cell_type": "code",
      "metadata": {
        "id": "qU4KMqv9kt1e"
      },
      "source": [
        "# Quantidade de recorrência de diagnósticos.\n",
        "\n",
        "df_completo['CID_1_bool'] = np.where(df_completo['CID_1'].isna(), 0, 1)\n",
        "df_completo['CID_2_bool'] = np.where(df_completo['CID_2'].isna(), 0, 1)\n",
        "df_completo['CID_3_bool'] = np.where(df_completo['CID_3'].isna(), 0, 1)\n",
        "df_completo['CID_4_bool'] = np.where(df_completo['CID_4'].isna(), 0, 1)\n",
        "\n",
        "df_completo['QTD_DIAGNOSTICOS'] = df_completo['CID_1_bool']+df_completo['CID_2_bool']+df_completo['CID_3_bool']+df_completo['CID_4_bool']"
      ],
      "execution_count": 5,
      "outputs": []
    },
    {
      "cell_type": "markdown",
      "metadata": {
        "id": "Ru02nlU72B6_"
      },
      "source": [
        "#####Remoção de colunas"
      ]
    },
    {
      "cell_type": "code",
      "metadata": {
        "id": "4QzB4Kldsv_T"
      },
      "source": [
        "# Remoção de algumas colunas da tabela consolidada.\n",
        "\n",
        "del df_completo['DT_INICIO_EVENTO']\n",
        "del df_completo['MODALIDADE_OPERADORA']\n",
        "del df_completo['CID_2']\n",
        "del df_completo['CID_3']\n",
        "del df_completo['CID_4']\n",
        "del df_completo['CID_1_bool']\n",
        "del df_completo['CID_2_bool']\n",
        "del df_completo['CID_3_bool']\n",
        "del df_completo['CID_4_bool']\n",
        "del df_completo['DT_INTERNACAO']\n",
        "del df_completo['DT_SAIDA_INTERNACAO']"
      ],
      "execution_count": 6,
      "outputs": []
    },
    {
      "cell_type": "code",
      "metadata": {
        "colab": {
          "base_uri": "https://localhost:8080/",
          "height": 0
        },
        "id": "Tr2HO5guQ5ED",
        "outputId": "17f887be-9c1d-4433-b1f5-6e513e456b87"
      },
      "source": [
        "# Visualização da Tabela Filtrada, após a remoção de algumas colunas.\n",
        "\n",
        "df_completo_filt = df_completo\n",
        "df_completo_filt"
      ],
      "execution_count": 7,
      "outputs": [
        {
          "output_type": "execute_result",
          "data": {
            "text/html": [
              "<div>\n",
              "<style scoped>\n",
              "    .dataframe tbody tr th:only-of-type {\n",
              "        vertical-align: middle;\n",
              "    }\n",
              "\n",
              "    .dataframe tbody tr th {\n",
              "        vertical-align: top;\n",
              "    }\n",
              "\n",
              "    .dataframe thead th {\n",
              "        text-align: right;\n",
              "    }\n",
              "</style>\n",
              "<table border=\"1\" class=\"dataframe\">\n",
              "  <thead>\n",
              "    <tr style=\"text-align: right;\">\n",
              "      <th></th>\n",
              "      <th>#ID_EVENTO</th>\n",
              "      <th>CD_TUSS_PROCEDIMENTO</th>\n",
              "      <th>QT_PROCEDIMENTO</th>\n",
              "      <th>VL_PROCEDIMENTO</th>\n",
              "      <th>VL_PAGO_FORNECEDOR</th>\n",
              "      <th>CD_TABELA_REFERENCIA</th>\n",
              "      <th>LG_PACOTE</th>\n",
              "      <th>IND_TABELA_PROPRIA</th>\n",
              "      <th>UF_PRESTADOR</th>\n",
              "      <th>LG_OUTLIER</th>\n",
              "      <th>ID_PLANO</th>\n",
              "      <th>IDADE_BENEFICIARIO</th>\n",
              "      <th>SEXO_BENEFICIARIO</th>\n",
              "      <th>CD_MUNIC_BENEFICIARIO</th>\n",
              "      <th>PORTE_OPERADORA</th>\n",
              "      <th>CD_MODALIDADE_OPERADORA</th>\n",
              "      <th>CD_MUNIC_PRESTADOR</th>\n",
              "      <th>CARATER_ATENDIMENTO</th>\n",
              "      <th>TIPO_INTERNACAO</th>\n",
              "      <th>REGIME_INTERNACAO</th>\n",
              "      <th>MOTIVO_ENCERRAMENTO</th>\n",
              "      <th>CID_1</th>\n",
              "      <th>NR_DIARIAS_ACOMPANHANTE</th>\n",
              "      <th>NR_DIARIAS_UTI</th>\n",
              "      <th>LG_VALOR_PREESTABELECIDO</th>\n",
              "      <th>DIAS_INTERNACAO</th>\n",
              "      <th>QTD_DIAGNOSTICOS</th>\n",
              "    </tr>\n",
              "  </thead>\n",
              "  <tbody>\n",
              "    <tr>\n",
              "      <th>0</th>\n",
              "      <td>2734762035</td>\n",
              "      <td>031</td>\n",
              "      <td>4.0</td>\n",
              "      <td>429.96</td>\n",
              "      <td>0.0</td>\n",
              "      <td>63.0</td>\n",
              "      <td>0.0</td>\n",
              "      <td>0.0</td>\n",
              "      <td>AL</td>\n",
              "      <td>0</td>\n",
              "      <td>117789.0</td>\n",
              "      <td>44.0</td>\n",
              "      <td>M</td>\n",
              "      <td>270430.0</td>\n",
              "      <td>GRANDE</td>\n",
              "      <td>28.0</td>\n",
              "      <td>270430.0</td>\n",
              "      <td>1</td>\n",
              "      <td>2.0</td>\n",
              "      <td>1.0</td>\n",
              "      <td>12.0</td>\n",
              "      <td>NaN</td>\n",
              "      <td>0.0</td>\n",
              "      <td>0.0</td>\n",
              "      <td>0.0</td>\n",
              "      <td>0.0</td>\n",
              "      <td>0</td>\n",
              "    </tr>\n",
              "    <tr>\n",
              "      <th>1</th>\n",
              "      <td>2734762035</td>\n",
              "      <td>30710030</td>\n",
              "      <td>1.0</td>\n",
              "      <td>231.84</td>\n",
              "      <td>0.0</td>\n",
              "      <td>22.0</td>\n",
              "      <td>0.0</td>\n",
              "      <td>0.0</td>\n",
              "      <td>AL</td>\n",
              "      <td>0</td>\n",
              "      <td>117789.0</td>\n",
              "      <td>44.0</td>\n",
              "      <td>M</td>\n",
              "      <td>270430.0</td>\n",
              "      <td>GRANDE</td>\n",
              "      <td>28.0</td>\n",
              "      <td>270430.0</td>\n",
              "      <td>1</td>\n",
              "      <td>2.0</td>\n",
              "      <td>1.0</td>\n",
              "      <td>12.0</td>\n",
              "      <td>NaN</td>\n",
              "      <td>0.0</td>\n",
              "      <td>0.0</td>\n",
              "      <td>0.0</td>\n",
              "      <td>0.0</td>\n",
              "      <td>0</td>\n",
              "    </tr>\n",
              "    <tr>\n",
              "      <th>2</th>\n",
              "      <td>2734762035</td>\n",
              "      <td>TABELA PRÓPRIA</td>\n",
              "      <td>3.0</td>\n",
              "      <td>1623.63</td>\n",
              "      <td>0.0</td>\n",
              "      <td>0.0</td>\n",
              "      <td>0.0</td>\n",
              "      <td>1.0</td>\n",
              "      <td>AL</td>\n",
              "      <td>0</td>\n",
              "      <td>117789.0</td>\n",
              "      <td>44.0</td>\n",
              "      <td>M</td>\n",
              "      <td>270430.0</td>\n",
              "      <td>GRANDE</td>\n",
              "      <td>28.0</td>\n",
              "      <td>270430.0</td>\n",
              "      <td>1</td>\n",
              "      <td>2.0</td>\n",
              "      <td>1.0</td>\n",
              "      <td>12.0</td>\n",
              "      <td>NaN</td>\n",
              "      <td>0.0</td>\n",
              "      <td>0.0</td>\n",
              "      <td>0.0</td>\n",
              "      <td>0.0</td>\n",
              "      <td>0</td>\n",
              "    </tr>\n",
              "    <tr>\n",
              "      <th>3</th>\n",
              "      <td>3084104673</td>\n",
              "      <td>10103023</td>\n",
              "      <td>1.0</td>\n",
              "      <td>282.56</td>\n",
              "      <td>0.0</td>\n",
              "      <td>22.0</td>\n",
              "      <td>0.0</td>\n",
              "      <td>0.0</td>\n",
              "      <td>AL</td>\n",
              "      <td>0</td>\n",
              "      <td>124053.0</td>\n",
              "      <td>34.0</td>\n",
              "      <td>F</td>\n",
              "      <td>230440.0</td>\n",
              "      <td>GRANDE</td>\n",
              "      <td>28.0</td>\n",
              "      <td>270730.0</td>\n",
              "      <td>2</td>\n",
              "      <td>3.0</td>\n",
              "      <td>1.0</td>\n",
              "      <td>11.0</td>\n",
              "      <td>O420</td>\n",
              "      <td>0.0</td>\n",
              "      <td>0.0</td>\n",
              "      <td>0.0</td>\n",
              "      <td>2.0</td>\n",
              "      <td>1</td>\n",
              "    </tr>\n",
              "    <tr>\n",
              "      <th>4</th>\n",
              "      <td>3084104673</td>\n",
              "      <td>10103015</td>\n",
              "      <td>1.0</td>\n",
              "      <td>191.97</td>\n",
              "      <td>0.0</td>\n",
              "      <td>22.0</td>\n",
              "      <td>0.0</td>\n",
              "      <td>0.0</td>\n",
              "      <td>AL</td>\n",
              "      <td>0</td>\n",
              "      <td>124053.0</td>\n",
              "      <td>34.0</td>\n",
              "      <td>F</td>\n",
              "      <td>230440.0</td>\n",
              "      <td>GRANDE</td>\n",
              "      <td>28.0</td>\n",
              "      <td>270730.0</td>\n",
              "      <td>2</td>\n",
              "      <td>3.0</td>\n",
              "      <td>1.0</td>\n",
              "      <td>11.0</td>\n",
              "      <td>O420</td>\n",
              "      <td>0.0</td>\n",
              "      <td>0.0</td>\n",
              "      <td>0.0</td>\n",
              "      <td>2.0</td>\n",
              "      <td>1</td>\n",
              "    </tr>\n",
              "    <tr>\n",
              "      <th>...</th>\n",
              "      <td>...</td>\n",
              "      <td>...</td>\n",
              "      <td>...</td>\n",
              "      <td>...</td>\n",
              "      <td>...</td>\n",
              "      <td>...</td>\n",
              "      <td>...</td>\n",
              "      <td>...</td>\n",
              "      <td>...</td>\n",
              "      <td>...</td>\n",
              "      <td>...</td>\n",
              "      <td>...</td>\n",
              "      <td>...</td>\n",
              "      <td>...</td>\n",
              "      <td>...</td>\n",
              "      <td>...</td>\n",
              "      <td>...</td>\n",
              "      <td>...</td>\n",
              "      <td>...</td>\n",
              "      <td>...</td>\n",
              "      <td>...</td>\n",
              "      <td>...</td>\n",
              "      <td>...</td>\n",
              "      <td>...</td>\n",
              "      <td>...</td>\n",
              "      <td>...</td>\n",
              "      <td>...</td>\n",
              "    </tr>\n",
              "    <tr>\n",
              "      <th>34674468</th>\n",
              "      <td>2868445705</td>\n",
              "      <td>NaN</td>\n",
              "      <td>NaN</td>\n",
              "      <td>NaN</td>\n",
              "      <td>NaN</td>\n",
              "      <td>NaN</td>\n",
              "      <td>NaN</td>\n",
              "      <td>NaN</td>\n",
              "      <td>TO</td>\n",
              "      <td>0</td>\n",
              "      <td>121266.0</td>\n",
              "      <td>44.0</td>\n",
              "      <td>F</td>\n",
              "      <td>172100.0</td>\n",
              "      <td>MEDIO</td>\n",
              "      <td>22.0</td>\n",
              "      <td>172100.0</td>\n",
              "      <td>2</td>\n",
              "      <td>4.0</td>\n",
              "      <td>1.0</td>\n",
              "      <td>12.0</td>\n",
              "      <td>P22</td>\n",
              "      <td>0.0</td>\n",
              "      <td>0.0</td>\n",
              "      <td>0.0</td>\n",
              "      <td>4.0</td>\n",
              "      <td>1</td>\n",
              "    </tr>\n",
              "    <tr>\n",
              "      <th>34674469</th>\n",
              "      <td>2868351935</td>\n",
              "      <td>NaN</td>\n",
              "      <td>NaN</td>\n",
              "      <td>NaN</td>\n",
              "      <td>NaN</td>\n",
              "      <td>NaN</td>\n",
              "      <td>NaN</td>\n",
              "      <td>NaN</td>\n",
              "      <td>TO</td>\n",
              "      <td>0</td>\n",
              "      <td>121266.0</td>\n",
              "      <td>0.0</td>\n",
              "      <td>F</td>\n",
              "      <td>172100.0</td>\n",
              "      <td>MEDIO</td>\n",
              "      <td>22.0</td>\n",
              "      <td>172100.0</td>\n",
              "      <td>2</td>\n",
              "      <td>4.0</td>\n",
              "      <td>1.0</td>\n",
              "      <td>12.0</td>\n",
              "      <td>K528</td>\n",
              "      <td>0.0</td>\n",
              "      <td>0.0</td>\n",
              "      <td>0.0</td>\n",
              "      <td>1.0</td>\n",
              "      <td>1</td>\n",
              "    </tr>\n",
              "    <tr>\n",
              "      <th>34674470</th>\n",
              "      <td>2957989734</td>\n",
              "      <td>NaN</td>\n",
              "      <td>NaN</td>\n",
              "      <td>NaN</td>\n",
              "      <td>NaN</td>\n",
              "      <td>NaN</td>\n",
              "      <td>NaN</td>\n",
              "      <td>NaN</td>\n",
              "      <td>TO</td>\n",
              "      <td>0</td>\n",
              "      <td>118247.0</td>\n",
              "      <td>35.0</td>\n",
              "      <td>F</td>\n",
              "      <td>171820.0</td>\n",
              "      <td>GRANDE</td>\n",
              "      <td>22.0</td>\n",
              "      <td>172100.0</td>\n",
              "      <td>2</td>\n",
              "      <td>4.0</td>\n",
              "      <td>1.0</td>\n",
              "      <td>12.0</td>\n",
              "      <td>NaN</td>\n",
              "      <td>0.0</td>\n",
              "      <td>0.0</td>\n",
              "      <td>0.0</td>\n",
              "      <td>3.0</td>\n",
              "      <td>0</td>\n",
              "    </tr>\n",
              "    <tr>\n",
              "      <th>34674471</th>\n",
              "      <td>2868348586</td>\n",
              "      <td>NaN</td>\n",
              "      <td>NaN</td>\n",
              "      <td>NaN</td>\n",
              "      <td>NaN</td>\n",
              "      <td>NaN</td>\n",
              "      <td>NaN</td>\n",
              "      <td>NaN</td>\n",
              "      <td>TO</td>\n",
              "      <td>0</td>\n",
              "      <td>121266.0</td>\n",
              "      <td>70.0</td>\n",
              "      <td>F</td>\n",
              "      <td>172100.0</td>\n",
              "      <td>MEDIO</td>\n",
              "      <td>22.0</td>\n",
              "      <td>172100.0</td>\n",
              "      <td>1</td>\n",
              "      <td>2.0</td>\n",
              "      <td>1.0</td>\n",
              "      <td>12.0</td>\n",
              "      <td>Z48</td>\n",
              "      <td>0.0</td>\n",
              "      <td>0.0</td>\n",
              "      <td>0.0</td>\n",
              "      <td>4.0</td>\n",
              "      <td>1</td>\n",
              "    </tr>\n",
              "    <tr>\n",
              "      <th>34674472</th>\n",
              "      <td>2843509008</td>\n",
              "      <td>NaN</td>\n",
              "      <td>NaN</td>\n",
              "      <td>NaN</td>\n",
              "      <td>NaN</td>\n",
              "      <td>NaN</td>\n",
              "      <td>NaN</td>\n",
              "      <td>NaN</td>\n",
              "      <td>TO</td>\n",
              "      <td>0</td>\n",
              "      <td>32545.0</td>\n",
              "      <td>35.0</td>\n",
              "      <td>M</td>\n",
              "      <td>170200.0</td>\n",
              "      <td>GRANDE</td>\n",
              "      <td>22.0</td>\n",
              "      <td>172100.0</td>\n",
              "      <td>1</td>\n",
              "      <td>2.0</td>\n",
              "      <td>1.0</td>\n",
              "      <td>12.0</td>\n",
              "      <td>Z48</td>\n",
              "      <td>0.0</td>\n",
              "      <td>0.0</td>\n",
              "      <td>0.0</td>\n",
              "      <td>0.0</td>\n",
              "      <td>1</td>\n",
              "    </tr>\n",
              "  </tbody>\n",
              "</table>\n",
              "<p>34674473 rows × 27 columns</p>\n",
              "</div>"
            ],
            "text/plain": [
              "          #ID_EVENTO CD_TUSS_PROCEDIMENTO  ...  DIAS_INTERNACAO  QTD_DIAGNOSTICOS\n",
              "0         2734762035                  031  ...              0.0                 0\n",
              "1         2734762035             30710030  ...              0.0                 0\n",
              "2         2734762035       TABELA PRÓPRIA  ...              0.0                 0\n",
              "3         3084104673             10103023  ...              2.0                 1\n",
              "4         3084104673             10103015  ...              2.0                 1\n",
              "...              ...                  ...  ...              ...               ...\n",
              "34674468  2868445705                  NaN  ...              4.0                 1\n",
              "34674469  2868351935                  NaN  ...              1.0                 1\n",
              "34674470  2957989734                  NaN  ...              3.0                 0\n",
              "34674471  2868348586                  NaN  ...              4.0                 1\n",
              "34674472  2843509008                  NaN  ...              0.0                 1\n",
              "\n",
              "[34674473 rows x 27 columns]"
            ]
          },
          "metadata": {},
          "execution_count": 7
        }
      ]
    },
    {
      "cell_type": "markdown",
      "metadata": {
        "id": "ouu4OuvrF4Xv"
      },
      "source": [
        "#####Tratamento dos Dados Nulos"
      ]
    },
    {
      "cell_type": "code",
      "metadata": {
        "colab": {
          "base_uri": "https://localhost:8080/"
        },
        "id": "g6_vTHus8wO-",
        "outputId": "e43fd805-4680-4e3b-ea9b-088ca4784f90"
      },
      "source": [
        "# Dados estatísticos da feature nova.\n",
        "\n",
        "df_completo_filt['DIAS_INTERNACAO'].describe()"
      ],
      "execution_count": 8,
      "outputs": [
        {
          "output_type": "execute_result",
          "data": {
            "text/plain": [
              "count    2.722734e+07\n",
              "mean     1.049525e+01\n",
              "std      4.180352e+02\n",
              "min      0.000000e+00\n",
              "25%      1.000000e+00\n",
              "50%      2.000000e+00\n",
              "75%      6.000000e+00\n",
              "max      4.383000e+04\n",
              "Name: DIAS_INTERNACAO, dtype: float64"
            ]
          },
          "metadata": {},
          "execution_count": 8
        }
      ]
    },
    {
      "cell_type": "code",
      "metadata": {
        "id": "L7Yo4H9cuEch"
      },
      "source": [
        "# Substituindo os valores nulos pela mediana ou pela média ou pela moda ou por -1 ou por uma string.\n",
        "\n",
        "col_null = [['QT_PROCEDIMENTO','VL_PROCEDIMENTO','LG_PACOTE','IND_TABELA_PROPRIA','IDADE_BENEFICIARIO','NR_DIARIAS_UTI','NR_DIARIAS_ACOMPANHANTE'],\n",
        "            ['VL_PAGO_FORNECEDOR'],\n",
        "            ['TIPO_INTERNACAO','REGIME_INTERNACAO','MOTIVO_ENCERRAMENTO','CD_TABELA_REFERENCIA','DIAS_INTERNACAO','LG_VALOR_PREESTABELECIDO','CD_TUSS_PROCEDIMENTO'],\n",
        "            ['CD_MUNIC_PRESTADOR', 'CD_MUNIC_BENEFICIARIO','CD_MODALIDADE_OPERADORA', 'ID_PLANO', 'SEXO_BENEFICIARIO', 'CID_1', 'CARATER_ATENDIMENTO'],\n",
        "            ['PORTE_OPERADORA']]\n",
        "\n",
        "for col in col_null[0]:\n",
        "  df_completo_filt[col].fillna(df_completo_filt[col].median(),inplace=True)\n",
        "\n",
        "for col in col_null[1]:\n",
        "  df_completo_filt[col].fillna(df_completo_filt[col].mean(),inplace=True)\n",
        "\n",
        "for col in col_null[2]:\n",
        "  df_completo_filt[col].fillna(df_completo_filt[col].mode()[0],inplace=True)\n",
        "\n",
        "for col in col_null[3]:\n",
        "  df_completo_filt[col].fillna(-1,inplace=True)\n",
        "\n",
        "for col in col_null[4]:\n",
        "  df_completo_filt[col].fillna('SEM BENEFICIARIOS',inplace=True)\n",
        "  "
      ],
      "execution_count": 9,
      "outputs": []
    },
    {
      "cell_type": "code",
      "metadata": {
        "colab": {
          "base_uri": "https://localhost:8080/"
        },
        "id": "7BGz0XyoxZ_g",
        "outputId": "5dc3f5a3-5242-4458-8f38-6821a259696b"
      },
      "source": [
        "# Quantidade de valores nulos por coluna da base filtrada após o tratamento.\n",
        "\n",
        "df_completo_filt.isnull().sum()"
      ],
      "execution_count": 10,
      "outputs": [
        {
          "output_type": "execute_result",
          "data": {
            "text/plain": [
              "#ID_EVENTO                  0\n",
              "CD_TUSS_PROCEDIMENTO        0\n",
              "QT_PROCEDIMENTO             0\n",
              "VL_PROCEDIMENTO             0\n",
              "VL_PAGO_FORNECEDOR          0\n",
              "CD_TABELA_REFERENCIA        0\n",
              "LG_PACOTE                   0\n",
              "IND_TABELA_PROPRIA          0\n",
              "UF_PRESTADOR                0\n",
              "LG_OUTLIER                  0\n",
              "ID_PLANO                    0\n",
              "IDADE_BENEFICIARIO          0\n",
              "SEXO_BENEFICIARIO           0\n",
              "CD_MUNIC_BENEFICIARIO       0\n",
              "PORTE_OPERADORA             0\n",
              "CD_MODALIDADE_OPERADORA     0\n",
              "CD_MUNIC_PRESTADOR          0\n",
              "CARATER_ATENDIMENTO         0\n",
              "TIPO_INTERNACAO             0\n",
              "REGIME_INTERNACAO           0\n",
              "MOTIVO_ENCERRAMENTO         0\n",
              "CID_1                       0\n",
              "NR_DIARIAS_ACOMPANHANTE     0\n",
              "NR_DIARIAS_UTI              0\n",
              "LG_VALOR_PREESTABELECIDO    0\n",
              "DIAS_INTERNACAO             0\n",
              "QTD_DIAGNOSTICOS            0\n",
              "dtype: int64"
            ]
          },
          "metadata": {},
          "execution_count": 10
        }
      ]
    },
    {
      "cell_type": "markdown",
      "metadata": {
        "id": "XH7FJu8hIczc"
      },
      "source": [
        "#####Conversão dos Dados Categóricos em Numéricos"
      ]
    },
    {
      "cell_type": "code",
      "metadata": {
        "id": "3eA43sniJOhi"
      },
      "source": [
        "# Substituição dos códigos strings do caráter de atendimento pelos códigos\n",
        "# numéricos, de acordo com tabela 23 da TUSS.\n",
        "\n",
        "str_atend = ['E','U','1','2']\n",
        "int_atend = [1,2,1,2]\n",
        "\n",
        "df_completo_filt['CARATER_ATENDIMENTO'].replace(str_atend,int_atend,inplace=True)"
      ],
      "execution_count": 11,
      "outputs": []
    },
    {
      "cell_type": "code",
      "metadata": {
        "id": "v8f5tGMWunTz"
      },
      "source": [
        "# Conversão dos dados das colunas SEXO_BENEFICIARIO e CID_1 em strings.\n",
        "\n",
        "df_completo_filt['CARATER_ATENDIMENTO'] = df_completo_filt['CARATER_ATENDIMENTO'].astype(str)\n",
        "df_completo_filt['SEXO_BENEFICIARIO'] = df_completo_filt['SEXO_BENEFICIARIO'].astype(str)\n",
        "df_completo_filt['CID_1'] = df_completo_filt['CID_1'].astype(str)"
      ],
      "execution_count": 12,
      "outputs": []
    },
    {
      "cell_type": "code",
      "metadata": {
        "id": "DoaZWxptIckM"
      },
      "source": [
        "# Aplicação da classe LabelEncoder a algumas colunas.\n",
        "\n",
        "col_object = ['UF_PRESTADOR','CD_TUSS_PROCEDIMENTO','PORTE_OPERADORA','CID_1','SEXO_BENEFICIARIO','CARATER_ATENDIMENTO']\n",
        "\n",
        "le = LabelEncoder()\n",
        "for col in col_object:\n",
        "  df_completo_filt[col] = le.fit_transform(df_completo_filt[col])"
      ],
      "execution_count": 13,
      "outputs": []
    },
    {
      "cell_type": "code",
      "metadata": {
        "id": "67T6a4CCFM0j"
      },
      "source": [
        "# Aplicação da classe One-Hot-Encoder às classes PORTE_OPERADORA e SEXO_BENEFICIARIO.\n",
        "\n",
        "onehotencoder = OneHotEncoder()\n",
        "K = onehotencoder.fit_transform(df_completo_filt.PORTE_OPERADORA.values.reshape(-1,1)).toarray()\n",
        "W = onehotencoder.fit_transform(df_completo_filt.SEXO_BENEFICIARIO.values.reshape(-1,1)).toarray()\n",
        "Z = onehotencoder.fit_transform(df_completo_filt.CARATER_ATENDIMENTO.values.reshape(-1,1)).toarray()"
      ],
      "execution_count": 14,
      "outputs": []
    },
    {
      "cell_type": "code",
      "metadata": {
        "colab": {
          "base_uri": "https://localhost:8080/",
          "height": 241
        },
        "id": "4-OiRotV_n6g",
        "outputId": "15f75c6e-e900-4cd3-a032-8cade20a0837"
      },
      "source": [
        "# Conversão dos arrays K e W OneHot para um Dataframe cada e adição das colunas desses \n",
        "# Dataframes (dfOneHot1 e dfOneHot2) ao nosso Dataframe filtrado (df_completo_filt).\n",
        "\n",
        "dfOneHot1 = pd.DataFrame(K, columns= ['PORTE_OPER_'+str(int(i)) for i in range(K.shape[1])])\n",
        "dfOneHot2 = pd.DataFrame(W, columns= ['SEXO_'+str(int(i)) for i in range(W.shape[1])])\n",
        "dfOneHot3 = pd.DataFrame(Z, columns= ['ATEND_'+str(int(i)) for i in range(Z.shape[1])])\n",
        "\n",
        "df_completo_filt['PORTE_GRANDE'] = dfOneHot1['PORTE_OPER_0']\n",
        "df_completo_filt['PORTE_MEDIO'] = dfOneHot1['PORTE_OPER_1']\n",
        "df_completo_filt['PORTE_PEQUENO'] = dfOneHot1['PORTE_OPER_2']\n",
        "df_completo_filt['SEM_BENEFICIARIOS'] = dfOneHot1['PORTE_OPER_3']\n",
        "\n",
        "df_completo_filt['SEXO_F'] = dfOneHot2['SEXO_1']\n",
        "df_completo_filt['SEXO_M'] = dfOneHot2['SEXO_2']\n",
        "df_completo_filt['SEXO_NAO_INFOR'] = dfOneHot2['SEXO_0']\n",
        "\n",
        "df_completo_filt['ATEND_ELETIVO'] = dfOneHot3['ATEND_1']\n",
        "df_completo_filt['ATEND_URGENCIA'] = dfOneHot3['ATEND_2']\n",
        "df_completo_filt['ATEND_NAO_INFOR'] = dfOneHot3['ATEND_0']\n",
        "\n",
        "del df_completo_filt['PORTE_OPERADORA']\n",
        "del df_completo_filt['SEXO_BENEFICIARIO']\n",
        "del df_completo_filt['CARATER_ATENDIMENTO']\n",
        "\n",
        "print(df_completo_filt.shape)\n",
        "df_completo_filt.head()"
      ],
      "execution_count": 15,
      "outputs": [
        {
          "output_type": "stream",
          "name": "stdout",
          "text": [
            "(34674473, 34)\n"
          ]
        },
        {
          "output_type": "execute_result",
          "data": {
            "text/html": [
              "<div>\n",
              "<style scoped>\n",
              "    .dataframe tbody tr th:only-of-type {\n",
              "        vertical-align: middle;\n",
              "    }\n",
              "\n",
              "    .dataframe tbody tr th {\n",
              "        vertical-align: top;\n",
              "    }\n",
              "\n",
              "    .dataframe thead th {\n",
              "        text-align: right;\n",
              "    }\n",
              "</style>\n",
              "<table border=\"1\" class=\"dataframe\">\n",
              "  <thead>\n",
              "    <tr style=\"text-align: right;\">\n",
              "      <th></th>\n",
              "      <th>#ID_EVENTO</th>\n",
              "      <th>CD_TUSS_PROCEDIMENTO</th>\n",
              "      <th>QT_PROCEDIMENTO</th>\n",
              "      <th>VL_PROCEDIMENTO</th>\n",
              "      <th>VL_PAGO_FORNECEDOR</th>\n",
              "      <th>CD_TABELA_REFERENCIA</th>\n",
              "      <th>LG_PACOTE</th>\n",
              "      <th>IND_TABELA_PROPRIA</th>\n",
              "      <th>UF_PRESTADOR</th>\n",
              "      <th>LG_OUTLIER</th>\n",
              "      <th>ID_PLANO</th>\n",
              "      <th>IDADE_BENEFICIARIO</th>\n",
              "      <th>CD_MUNIC_BENEFICIARIO</th>\n",
              "      <th>CD_MODALIDADE_OPERADORA</th>\n",
              "      <th>CD_MUNIC_PRESTADOR</th>\n",
              "      <th>TIPO_INTERNACAO</th>\n",
              "      <th>REGIME_INTERNACAO</th>\n",
              "      <th>MOTIVO_ENCERRAMENTO</th>\n",
              "      <th>CID_1</th>\n",
              "      <th>NR_DIARIAS_ACOMPANHANTE</th>\n",
              "      <th>NR_DIARIAS_UTI</th>\n",
              "      <th>LG_VALOR_PREESTABELECIDO</th>\n",
              "      <th>DIAS_INTERNACAO</th>\n",
              "      <th>QTD_DIAGNOSTICOS</th>\n",
              "      <th>PORTE_GRANDE</th>\n",
              "      <th>PORTE_MEDIO</th>\n",
              "      <th>PORTE_PEQUENO</th>\n",
              "      <th>SEM_BENEFICIARIOS</th>\n",
              "      <th>SEXO_F</th>\n",
              "      <th>SEXO_M</th>\n",
              "      <th>SEXO_NAO_INFOR</th>\n",
              "      <th>ATEND_ELETIVO</th>\n",
              "      <th>ATEND_URGENCIA</th>\n",
              "      <th>ATEND_NAO_INFOR</th>\n",
              "    </tr>\n",
              "  </thead>\n",
              "  <tbody>\n",
              "    <tr>\n",
              "      <th>0</th>\n",
              "      <td>2734762035</td>\n",
              "      <td>685</td>\n",
              "      <td>4.0</td>\n",
              "      <td>429.96</td>\n",
              "      <td>0.0</td>\n",
              "      <td>63.0</td>\n",
              "      <td>0.0</td>\n",
              "      <td>0.0</td>\n",
              "      <td>1</td>\n",
              "      <td>0</td>\n",
              "      <td>117789.0</td>\n",
              "      <td>44.0</td>\n",
              "      <td>270430.0</td>\n",
              "      <td>28.0</td>\n",
              "      <td>270430.0</td>\n",
              "      <td>2.0</td>\n",
              "      <td>1.0</td>\n",
              "      <td>12.0</td>\n",
              "      <td>0</td>\n",
              "      <td>0.0</td>\n",
              "      <td>0.0</td>\n",
              "      <td>0.0</td>\n",
              "      <td>0.0</td>\n",
              "      <td>0</td>\n",
              "      <td>1.0</td>\n",
              "      <td>0.0</td>\n",
              "      <td>0.0</td>\n",
              "      <td>0.0</td>\n",
              "      <td>0.0</td>\n",
              "      <td>1.0</td>\n",
              "      <td>0.0</td>\n",
              "      <td>1.0</td>\n",
              "      <td>0.0</td>\n",
              "      <td>0.0</td>\n",
              "    </tr>\n",
              "    <tr>\n",
              "      <th>1</th>\n",
              "      <td>2734762035</td>\n",
              "      <td>2413</td>\n",
              "      <td>1.0</td>\n",
              "      <td>231.84</td>\n",
              "      <td>0.0</td>\n",
              "      <td>22.0</td>\n",
              "      <td>0.0</td>\n",
              "      <td>0.0</td>\n",
              "      <td>1</td>\n",
              "      <td>0</td>\n",
              "      <td>117789.0</td>\n",
              "      <td>44.0</td>\n",
              "      <td>270430.0</td>\n",
              "      <td>28.0</td>\n",
              "      <td>270430.0</td>\n",
              "      <td>2.0</td>\n",
              "      <td>1.0</td>\n",
              "      <td>12.0</td>\n",
              "      <td>0</td>\n",
              "      <td>0.0</td>\n",
              "      <td>0.0</td>\n",
              "      <td>0.0</td>\n",
              "      <td>0.0</td>\n",
              "      <td>0</td>\n",
              "      <td>1.0</td>\n",
              "      <td>0.0</td>\n",
              "      <td>0.0</td>\n",
              "      <td>0.0</td>\n",
              "      <td>0.0</td>\n",
              "      <td>1.0</td>\n",
              "      <td>0.0</td>\n",
              "      <td>1.0</td>\n",
              "      <td>0.0</td>\n",
              "      <td>0.0</td>\n",
              "    </tr>\n",
              "    <tr>\n",
              "      <th>2</th>\n",
              "      <td>2734762035</td>\n",
              "      <td>22829</td>\n",
              "      <td>3.0</td>\n",
              "      <td>1623.63</td>\n",
              "      <td>0.0</td>\n",
              "      <td>0.0</td>\n",
              "      <td>0.0</td>\n",
              "      <td>1.0</td>\n",
              "      <td>1</td>\n",
              "      <td>0</td>\n",
              "      <td>117789.0</td>\n",
              "      <td>44.0</td>\n",
              "      <td>270430.0</td>\n",
              "      <td>28.0</td>\n",
              "      <td>270430.0</td>\n",
              "      <td>2.0</td>\n",
              "      <td>1.0</td>\n",
              "      <td>12.0</td>\n",
              "      <td>0</td>\n",
              "      <td>0.0</td>\n",
              "      <td>0.0</td>\n",
              "      <td>0.0</td>\n",
              "      <td>0.0</td>\n",
              "      <td>0</td>\n",
              "      <td>1.0</td>\n",
              "      <td>0.0</td>\n",
              "      <td>0.0</td>\n",
              "      <td>0.0</td>\n",
              "      <td>0.0</td>\n",
              "      <td>1.0</td>\n",
              "      <td>0.0</td>\n",
              "      <td>1.0</td>\n",
              "      <td>0.0</td>\n",
              "      <td>0.0</td>\n",
              "    </tr>\n",
              "    <tr>\n",
              "      <th>3</th>\n",
              "      <td>3084104673</td>\n",
              "      <td>848</td>\n",
              "      <td>1.0</td>\n",
              "      <td>282.56</td>\n",
              "      <td>0.0</td>\n",
              "      <td>22.0</td>\n",
              "      <td>0.0</td>\n",
              "      <td>0.0</td>\n",
              "      <td>1</td>\n",
              "      <td>0</td>\n",
              "      <td>124053.0</td>\n",
              "      <td>34.0</td>\n",
              "      <td>230440.0</td>\n",
              "      <td>28.0</td>\n",
              "      <td>270730.0</td>\n",
              "      <td>3.0</td>\n",
              "      <td>1.0</td>\n",
              "      <td>11.0</td>\n",
              "      <td>6231</td>\n",
              "      <td>0.0</td>\n",
              "      <td>0.0</td>\n",
              "      <td>0.0</td>\n",
              "      <td>2.0</td>\n",
              "      <td>1</td>\n",
              "      <td>1.0</td>\n",
              "      <td>0.0</td>\n",
              "      <td>0.0</td>\n",
              "      <td>0.0</td>\n",
              "      <td>1.0</td>\n",
              "      <td>0.0</td>\n",
              "      <td>0.0</td>\n",
              "      <td>0.0</td>\n",
              "      <td>1.0</td>\n",
              "      <td>0.0</td>\n",
              "    </tr>\n",
              "    <tr>\n",
              "      <th>4</th>\n",
              "      <td>3084104673</td>\n",
              "      <td>847</td>\n",
              "      <td>1.0</td>\n",
              "      <td>191.97</td>\n",
              "      <td>0.0</td>\n",
              "      <td>22.0</td>\n",
              "      <td>0.0</td>\n",
              "      <td>0.0</td>\n",
              "      <td>1</td>\n",
              "      <td>0</td>\n",
              "      <td>124053.0</td>\n",
              "      <td>34.0</td>\n",
              "      <td>230440.0</td>\n",
              "      <td>28.0</td>\n",
              "      <td>270730.0</td>\n",
              "      <td>3.0</td>\n",
              "      <td>1.0</td>\n",
              "      <td>11.0</td>\n",
              "      <td>6231</td>\n",
              "      <td>0.0</td>\n",
              "      <td>0.0</td>\n",
              "      <td>0.0</td>\n",
              "      <td>2.0</td>\n",
              "      <td>1</td>\n",
              "      <td>1.0</td>\n",
              "      <td>0.0</td>\n",
              "      <td>0.0</td>\n",
              "      <td>0.0</td>\n",
              "      <td>1.0</td>\n",
              "      <td>0.0</td>\n",
              "      <td>0.0</td>\n",
              "      <td>0.0</td>\n",
              "      <td>1.0</td>\n",
              "      <td>0.0</td>\n",
              "    </tr>\n",
              "  </tbody>\n",
              "</table>\n",
              "</div>"
            ],
            "text/plain": [
              "   #ID_EVENTO  CD_TUSS_PROCEDIMENTO  ...  ATEND_URGENCIA  ATEND_NAO_INFOR\n",
              "0  2734762035                   685  ...             0.0              0.0\n",
              "1  2734762035                  2413  ...             0.0              0.0\n",
              "2  2734762035                 22829  ...             0.0              0.0\n",
              "3  3084104673                   848  ...             1.0              0.0\n",
              "4  3084104673                   847  ...             1.0              0.0\n",
              "\n",
              "[5 rows x 34 columns]"
            ]
          },
          "metadata": {},
          "execution_count": 15
        }
      ]
    },
    {
      "cell_type": "code",
      "metadata": {
        "colab": {
          "base_uri": "https://localhost:8080/"
        },
        "id": "1hoBBAGOK5Z2",
        "outputId": "ca162765-c0f3-431b-c312-60ed9cd59ba9"
      },
      "source": [
        "df_completo_filt.info()"
      ],
      "execution_count": 16,
      "outputs": [
        {
          "output_type": "stream",
          "name": "stdout",
          "text": [
            "<class 'pandas.core.frame.DataFrame'>\n",
            "Int64Index: 34674473 entries, 0 to 34674472\n",
            "Data columns (total 34 columns):\n",
            " #   Column                    Dtype  \n",
            "---  ------                    -----  \n",
            " 0   #ID_EVENTO                int64  \n",
            " 1   CD_TUSS_PROCEDIMENTO      int64  \n",
            " 2   QT_PROCEDIMENTO           float64\n",
            " 3   VL_PROCEDIMENTO           float64\n",
            " 4   VL_PAGO_FORNECEDOR        float64\n",
            " 5   CD_TABELA_REFERENCIA      float64\n",
            " 6   LG_PACOTE                 float64\n",
            " 7   IND_TABELA_PROPRIA        float64\n",
            " 8   UF_PRESTADOR              int64  \n",
            " 9   LG_OUTLIER                int64  \n",
            " 10  ID_PLANO                  float64\n",
            " 11  IDADE_BENEFICIARIO        float64\n",
            " 12  CD_MUNIC_BENEFICIARIO     float64\n",
            " 13  CD_MODALIDADE_OPERADORA   float64\n",
            " 14  CD_MUNIC_PRESTADOR        float64\n",
            " 15  TIPO_INTERNACAO           float64\n",
            " 16  REGIME_INTERNACAO         float64\n",
            " 17  MOTIVO_ENCERRAMENTO       float64\n",
            " 18  CID_1                     int64  \n",
            " 19  NR_DIARIAS_ACOMPANHANTE   float64\n",
            " 20  NR_DIARIAS_UTI            float64\n",
            " 21  LG_VALOR_PREESTABELECIDO  float64\n",
            " 22  DIAS_INTERNACAO           float64\n",
            " 23  QTD_DIAGNOSTICOS          int64  \n",
            " 24  PORTE_GRANDE              float64\n",
            " 25  PORTE_MEDIO               float64\n",
            " 26  PORTE_PEQUENO             float64\n",
            " 27  SEM_BENEFICIARIOS         float64\n",
            " 28  SEXO_F                    float64\n",
            " 29  SEXO_M                    float64\n",
            " 30  SEXO_NAO_INFOR            float64\n",
            " 31  ATEND_ELETIVO             float64\n",
            " 32  ATEND_URGENCIA            float64\n",
            " 33  ATEND_NAO_INFOR           float64\n",
            "dtypes: float64(28), int64(6)\n",
            "memory usage: 9.0 GB\n"
          ]
        }
      ]
    },
    {
      "cell_type": "markdown",
      "metadata": {
        "id": "6tgIlsbj7JcQ"
      },
      "source": [
        "#####Normalização dos Dados"
      ]
    },
    {
      "cell_type": "code",
      "metadata": {
        "id": "C7r4zI1YIbAR"
      },
      "source": [
        "# Uso de fórmulas matemáticas para calcular a normalização, usando a amplitude dos dados.\n",
        "# Método semelhante é usado na classe MinMaxScaler do sklearn.\n",
        "\n",
        "X=[]\n",
        "\n",
        "for t in df_completo_filt.columns:\n",
        "  Min = df_completo_filt[t].min()\n",
        "  Max = df_completo_filt[t].max()\n",
        "  Ampl = Max-Min\n",
        "  if Ampl == 0:\n",
        "    Ampl = 1\n",
        "  array = ((df_completo_filt[t].values) - Min) / Ampl\n",
        "  X.append(array)\n",
        "\n",
        "np.set_printoptions(precision=3)\n",
        "print(X)"
      ],
      "execution_count": null,
      "outputs": []
    },
    {
      "cell_type": "code",
      "metadata": {
        "id": "8lU1_Da40P3F"
      },
      "source": [
        "# Uso de fórmulas matemáticas para calcular a normalização, usando a distância interquartil.\n",
        "# Método semelhante é usado na classe RobustScaler do sklearn.\n",
        "\n",
        "X=[]\n",
        "\n",
        "for t in df_completo_filt.columns:\n",
        "  Q1 = df_completo_filt[t].quantile(0.25)\n",
        "  Q3 = df_completo_filt[t].quantile(0.75)\n",
        "  IQR = Q3 - Q1 # intervalo interquartílico\n",
        "  if IQR == 0:\n",
        "    IQR = 1\n",
        "  array = ((df_completo_filt[t].values) - Q1) / IQR\n",
        "  X.append(array)\n",
        "\n",
        "np.set_printoptions(precision=3)\n",
        "print(X)"
      ],
      "execution_count": null,
      "outputs": []
    },
    {
      "cell_type": "code",
      "metadata": {
        "id": "n1oRoUvDGdXC"
      },
      "source": [
        "# Normalização dos dados utilizando-se a classe Normalizer do sklearn.\n",
        "\n",
        "# obtendo os valores do dataset\n",
        "X = df_completo_filt.values\n",
        "\n",
        "# normaliza os dados\n",
        "scaler = Normalizer() \n",
        "normalizedX = scaler.fit_transform(X)\n",
        "\n",
        "print('DADOS NORMALIZADOS\\n')\n",
        "np.set_printoptions(precision=3)\n",
        "print(normalizedX)\n",
        "\n",
        "# Para os demais casos, basta substituir scaler = Normalizer() por\n",
        "# scaler = RobustScaler() ou StandardScaler() ou MinMaxScaler()."
      ],
      "execution_count": null,
      "outputs": []
    }
  ]
}